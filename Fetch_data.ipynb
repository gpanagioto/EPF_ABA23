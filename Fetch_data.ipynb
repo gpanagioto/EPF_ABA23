{
 "cells": [
  {
   "cell_type": "markdown",
   "id": "0ad105aa",
   "metadata": {},
   "source": [
    "# Imports"
   ]
  },
  {
   "cell_type": "code",
   "execution_count": 1,
   "id": "c83570cc",
   "metadata": {},
   "outputs": [],
   "source": [
    "import pandas as pd\n",
    "import datetime as dt\n",
    "import numpy as np\n",
    "import matplotlib.pyplot as plt\n",
    "import seaborn as sns\n",
    "from sklearn.decomposition import PCA\n",
    "import xgboost as xg\n",
    "from entsoe import EntsoePandasClient\n",
    "from statsmodels.graphics import tsaplots"
   ]
  },
  {
   "cell_type": "markdown",
   "id": "a3f5d85f",
   "metadata": {},
   "source": [
    "# Entsoe"
   ]
  },
  {
   "cell_type": "markdown",
   "id": "6ad4578d",
   "metadata": {},
   "source": [
    "## API setup"
   ]
  },
  {
   "cell_type": "code",
   "execution_count": 2,
   "id": "129ed045",
   "metadata": {},
   "outputs": [],
   "source": [
    "client = EntsoePandasClient(api_key = '5904b3c4-7835-4b64-a741-480681944340')\n",
    "\n",
    "# period\n",
    "start = pd.Timestamp('20180101', tz = 'Europe/Copenhagen')\n",
    "end = pd.Timestamp('20221231', tz = 'Europe/Copenhagen')\n",
    "\n",
    "# countries\n",
    "country_code = 'DK_2' # Denmark (Copenhagen)\n",
    "country_code_from = 'DE_LU' # Germany - Luxemburg\n",
    "country_code_to = 'DK_2' # East Denmark"
   ]
  },
  {
   "cell_type": "markdown",
   "id": "1a034d53",
   "metadata": {},
   "source": [
    "## Queries"
   ]
  },
  {
   "cell_type": "code",
   "execution_count": 4,
   "id": "46b0b106",
   "metadata": {},
   "outputs": [],
   "source": [
    "# day-ahead prices\n",
    "day_ahead_prices_series = client.query_day_ahead_prices(country_code, start = start, end = end)"
   ]
  },
  {
   "cell_type": "code",
   "execution_count": 5,
   "id": "30b5bf99",
   "metadata": {},
   "outputs": [
    {
     "data": {
      "text/html": [
       "<div>\n",
       "<style scoped>\n",
       "    .dataframe tbody tr th:only-of-type {\n",
       "        vertical-align: middle;\n",
       "    }\n",
       "\n",
       "    .dataframe tbody tr th {\n",
       "        vertical-align: top;\n",
       "    }\n",
       "\n",
       "    .dataframe thead th {\n",
       "        text-align: right;\n",
       "    }\n",
       "</style>\n",
       "<table border=\"1\" class=\"dataframe\">\n",
       "  <thead>\n",
       "    <tr style=\"text-align: right;\">\n",
       "      <th></th>\n",
       "      <th>Day-ahead prices</th>\n",
       "    </tr>\n",
       "  </thead>\n",
       "  <tbody>\n",
       "    <tr>\n",
       "      <th>2018-01-01 00:00:00+01:00</th>\n",
       "      <td>26.33</td>\n",
       "    </tr>\n",
       "    <tr>\n",
       "      <th>2018-01-01 01:00:00+01:00</th>\n",
       "      <td>26.43</td>\n",
       "    </tr>\n",
       "    <tr>\n",
       "      <th>2018-01-01 02:00:00+01:00</th>\n",
       "      <td>26.10</td>\n",
       "    </tr>\n",
       "    <tr>\n",
       "      <th>2018-01-01 03:00:00+01:00</th>\n",
       "      <td>24.70</td>\n",
       "    </tr>\n",
       "    <tr>\n",
       "      <th>2018-01-01 04:00:00+01:00</th>\n",
       "      <td>24.74</td>\n",
       "    </tr>\n",
       "    <tr>\n",
       "      <th>...</th>\n",
       "      <td>...</td>\n",
       "    </tr>\n",
       "    <tr>\n",
       "      <th>2022-12-30 20:00:00+01:00</th>\n",
       "      <td>19.88</td>\n",
       "    </tr>\n",
       "    <tr>\n",
       "      <th>2022-12-30 21:00:00+01:00</th>\n",
       "      <td>1.45</td>\n",
       "    </tr>\n",
       "    <tr>\n",
       "      <th>2022-12-30 22:00:00+01:00</th>\n",
       "      <td>0.61</td>\n",
       "    </tr>\n",
       "    <tr>\n",
       "      <th>2022-12-30 23:00:00+01:00</th>\n",
       "      <td>0.01</td>\n",
       "    </tr>\n",
       "    <tr>\n",
       "      <th>2022-12-31 00:00:00+01:00</th>\n",
       "      <td>2.00</td>\n",
       "    </tr>\n",
       "  </tbody>\n",
       "</table>\n",
       "<p>43801 rows × 1 columns</p>\n",
       "</div>"
      ],
      "text/plain": [
       "                           Day-ahead prices\n",
       "2018-01-01 00:00:00+01:00             26.33\n",
       "2018-01-01 01:00:00+01:00             26.43\n",
       "2018-01-01 02:00:00+01:00             26.10\n",
       "2018-01-01 03:00:00+01:00             24.70\n",
       "2018-01-01 04:00:00+01:00             24.74\n",
       "...                                     ...\n",
       "2022-12-30 20:00:00+01:00             19.88\n",
       "2022-12-30 21:00:00+01:00              1.45\n",
       "2022-12-30 22:00:00+01:00              0.61\n",
       "2022-12-30 23:00:00+01:00              0.01\n",
       "2022-12-31 00:00:00+01:00              2.00\n",
       "\n",
       "[43801 rows x 1 columns]"
      ]
     },
     "execution_count": 5,
     "metadata": {},
     "output_type": "execute_result"
    }
   ],
   "source": [
    "day_ahead_prices = pd.DataFrame({'Day-ahead prices':day_ahead_prices_series})\n",
    "day_ahead_prices # check that first and last day coincide with what specified, so that the query doesn't return only chunks"
   ]
  },
  {
   "cell_type": "code",
   "execution_count": 10,
   "id": "ff162ad9",
   "metadata": {},
   "outputs": [],
   "source": [
    "# Actual load and load forecast\n",
    "load_and_forecast = client.query_load_and_forecast(country_code, start = start, end = end)"
   ]
  },
  {
   "cell_type": "code",
   "execution_count": 52,
   "id": "45bffbf4",
   "metadata": {},
   "outputs": [
    {
     "data": {
      "text/html": [
       "<div>\n",
       "<style scoped>\n",
       "    .dataframe tbody tr th:only-of-type {\n",
       "        vertical-align: middle;\n",
       "    }\n",
       "\n",
       "    .dataframe tbody tr th {\n",
       "        vertical-align: top;\n",
       "    }\n",
       "\n",
       "    .dataframe thead th {\n",
       "        text-align: right;\n",
       "    }\n",
       "</style>\n",
       "<table border=\"1\" class=\"dataframe\">\n",
       "  <thead>\n",
       "    <tr style=\"text-align: right;\">\n",
       "      <th></th>\n",
       "      <th>Forecasted Load</th>\n",
       "      <th>Actual Load</th>\n",
       "    </tr>\n",
       "  </thead>\n",
       "  <tbody>\n",
       "    <tr>\n",
       "      <th>2018-01-01 00:00:00+01:00</th>\n",
       "      <td>3422.0</td>\n",
       "      <td>3421.0</td>\n",
       "    </tr>\n",
       "    <tr>\n",
       "      <th>2018-01-01 01:00:00+01:00</th>\n",
       "      <td>3289.0</td>\n",
       "      <td>3308.0</td>\n",
       "    </tr>\n",
       "    <tr>\n",
       "      <th>2018-01-01 02:00:00+01:00</th>\n",
       "      <td>3157.0</td>\n",
       "      <td>3118.0</td>\n",
       "    </tr>\n",
       "    <tr>\n",
       "      <th>2018-01-01 03:00:00+01:00</th>\n",
       "      <td>3025.0</td>\n",
       "      <td>3018.0</td>\n",
       "    </tr>\n",
       "    <tr>\n",
       "      <th>2018-01-01 04:00:00+01:00</th>\n",
       "      <td>2939.0</td>\n",
       "      <td>2916.0</td>\n",
       "    </tr>\n",
       "    <tr>\n",
       "      <th>...</th>\n",
       "      <td>...</td>\n",
       "      <td>...</td>\n",
       "    </tr>\n",
       "    <tr>\n",
       "      <th>2022-12-30 19:00:00+01:00</th>\n",
       "      <td>4344.0</td>\n",
       "      <td>4375.0</td>\n",
       "    </tr>\n",
       "    <tr>\n",
       "      <th>2022-12-30 20:00:00+01:00</th>\n",
       "      <td>4179.0</td>\n",
       "      <td>4187.0</td>\n",
       "    </tr>\n",
       "    <tr>\n",
       "      <th>2022-12-30 21:00:00+01:00</th>\n",
       "      <td>4053.0</td>\n",
       "      <td>4103.0</td>\n",
       "    </tr>\n",
       "    <tr>\n",
       "      <th>2022-12-30 22:00:00+01:00</th>\n",
       "      <td>3889.0</td>\n",
       "      <td>3965.0</td>\n",
       "    </tr>\n",
       "    <tr>\n",
       "      <th>2022-12-30 23:00:00+01:00</th>\n",
       "      <td>3656.0</td>\n",
       "      <td>3750.0</td>\n",
       "    </tr>\n",
       "  </tbody>\n",
       "</table>\n",
       "<p>43798 rows × 2 columns</p>\n",
       "</div>"
      ],
      "text/plain": [
       "                           Forecasted Load  Actual Load\n",
       "2018-01-01 00:00:00+01:00           3422.0       3421.0\n",
       "2018-01-01 01:00:00+01:00           3289.0       3308.0\n",
       "2018-01-01 02:00:00+01:00           3157.0       3118.0\n",
       "2018-01-01 03:00:00+01:00           3025.0       3018.0\n",
       "2018-01-01 04:00:00+01:00           2939.0       2916.0\n",
       "...                                    ...          ...\n",
       "2022-12-30 19:00:00+01:00           4344.0       4375.0\n",
       "2022-12-30 20:00:00+01:00           4179.0       4187.0\n",
       "2022-12-30 21:00:00+01:00           4053.0       4103.0\n",
       "2022-12-30 22:00:00+01:00           3889.0       3965.0\n",
       "2022-12-30 23:00:00+01:00           3656.0       3750.0\n",
       "\n",
       "[43798 rows x 2 columns]"
      ]
     },
     "execution_count": 52,
     "metadata": {},
     "output_type": "execute_result"
    }
   ],
   "source": [
    "load_and_forecast # check that first and last day coincide with what specified, so that the query doesn't return only chunks"
   ]
  },
  {
   "cell_type": "code",
   "execution_count": 14,
   "id": "283b1b93",
   "metadata": {},
   "outputs": [],
   "source": [
    "# Solar and wind forecast generation\n",
    "wind_solar_forecast = client.query_wind_and_solar_forecast(country_code, start = start, end = end, psr_type=None)"
   ]
  },
  {
   "cell_type": "code",
   "execution_count": 15,
   "id": "ef37465e",
   "metadata": {},
   "outputs": [
    {
     "data": {
      "text/html": [
       "<div>\n",
       "<style scoped>\n",
       "    .dataframe tbody tr th:only-of-type {\n",
       "        vertical-align: middle;\n",
       "    }\n",
       "\n",
       "    .dataframe tbody tr th {\n",
       "        vertical-align: top;\n",
       "    }\n",
       "\n",
       "    .dataframe thead th {\n",
       "        text-align: right;\n",
       "    }\n",
       "</style>\n",
       "<table border=\"1\" class=\"dataframe\">\n",
       "  <thead>\n",
       "    <tr style=\"text-align: right;\">\n",
       "      <th></th>\n",
       "      <th>Solar</th>\n",
       "      <th>Wind Offshore</th>\n",
       "      <th>Wind Onshore</th>\n",
       "    </tr>\n",
       "  </thead>\n",
       "  <tbody>\n",
       "    <tr>\n",
       "      <th>2018-01-01 00:00:00+01:00</th>\n",
       "      <td>0.0</td>\n",
       "      <td>783.0</td>\n",
       "      <td>1493.0</td>\n",
       "    </tr>\n",
       "    <tr>\n",
       "      <th>2018-01-01 01:00:00+01:00</th>\n",
       "      <td>0.0</td>\n",
       "      <td>893.0</td>\n",
       "      <td>1481.0</td>\n",
       "    </tr>\n",
       "    <tr>\n",
       "      <th>2018-01-01 02:00:00+01:00</th>\n",
       "      <td>0.0</td>\n",
       "      <td>755.0</td>\n",
       "      <td>1430.0</td>\n",
       "    </tr>\n",
       "    <tr>\n",
       "      <th>2018-01-01 03:00:00+01:00</th>\n",
       "      <td>0.0</td>\n",
       "      <td>747.0</td>\n",
       "      <td>1458.0</td>\n",
       "    </tr>\n",
       "    <tr>\n",
       "      <th>2018-01-01 04:00:00+01:00</th>\n",
       "      <td>0.0</td>\n",
       "      <td>886.0</td>\n",
       "      <td>1472.0</td>\n",
       "    </tr>\n",
       "    <tr>\n",
       "      <th>...</th>\n",
       "      <td>...</td>\n",
       "      <td>...</td>\n",
       "      <td>...</td>\n",
       "    </tr>\n",
       "    <tr>\n",
       "      <th>2022-12-30 19:00:00+01:00</th>\n",
       "      <td>0.0</td>\n",
       "      <td>1445.0</td>\n",
       "      <td>2973.0</td>\n",
       "    </tr>\n",
       "    <tr>\n",
       "      <th>2022-12-30 20:00:00+01:00</th>\n",
       "      <td>0.0</td>\n",
       "      <td>1436.0</td>\n",
       "      <td>3033.0</td>\n",
       "    </tr>\n",
       "    <tr>\n",
       "      <th>2022-12-30 21:00:00+01:00</th>\n",
       "      <td>0.0</td>\n",
       "      <td>1406.0</td>\n",
       "      <td>3205.0</td>\n",
       "    </tr>\n",
       "    <tr>\n",
       "      <th>2022-12-30 22:00:00+01:00</th>\n",
       "      <td>0.0</td>\n",
       "      <td>1417.0</td>\n",
       "      <td>3272.0</td>\n",
       "    </tr>\n",
       "    <tr>\n",
       "      <th>2022-12-30 23:00:00+01:00</th>\n",
       "      <td>0.0</td>\n",
       "      <td>1422.0</td>\n",
       "      <td>3275.0</td>\n",
       "    </tr>\n",
       "  </tbody>\n",
       "</table>\n",
       "<p>43704 rows × 3 columns</p>\n",
       "</div>"
      ],
      "text/plain": [
       "                           Solar  Wind Offshore  Wind Onshore\n",
       "2018-01-01 00:00:00+01:00    0.0          783.0        1493.0\n",
       "2018-01-01 01:00:00+01:00    0.0          893.0        1481.0\n",
       "2018-01-01 02:00:00+01:00    0.0          755.0        1430.0\n",
       "2018-01-01 03:00:00+01:00    0.0          747.0        1458.0\n",
       "2018-01-01 04:00:00+01:00    0.0          886.0        1472.0\n",
       "...                          ...            ...           ...\n",
       "2022-12-30 19:00:00+01:00    0.0         1445.0        2973.0\n",
       "2022-12-30 20:00:00+01:00    0.0         1436.0        3033.0\n",
       "2022-12-30 21:00:00+01:00    0.0         1406.0        3205.0\n",
       "2022-12-30 22:00:00+01:00    0.0         1417.0        3272.0\n",
       "2022-12-30 23:00:00+01:00    0.0         1422.0        3275.0\n",
       "\n",
       "[43704 rows x 3 columns]"
      ]
     },
     "execution_count": 15,
     "metadata": {},
     "output_type": "execute_result"
    }
   ],
   "source": [
    "wind_solar_forecast # check that first and last day coincide with what specified, so that the query doesn't return only chunks"
   ]
  },
  {
   "cell_type": "code",
   "execution_count": 110,
   "id": "7aebcadf",
   "metadata": {},
   "outputs": [
    {
     "data": {
      "image/png": "[encoded data removed]",
      "text/plain": [
       "<Figure size 640x480 with 1 Axes>"
      ]
     },
     "metadata": {},
     "output_type": "display_data"
    }
   ],
   "source": [
    "plt.plot(wind_solar_forecast['Solar'])\n",
    "plt.title('Energy generation \\nSolar')\n",
    "plt.ylabel('MWh')\n",
    "plt.show()"
   ]
  },
  {
   "cell_type": "code",
   "execution_count": 112,
   "id": "6281bc93",
   "metadata": {},
   "outputs": [
    {
     "data": {
      "image/png": "[encoded data removed]",
      "text/plain": [
       "<Figure size 640x480 with 1 Axes>"
      ]
     },
     "metadata": {},
     "output_type": "display_data"
    }
   ],
   "source": [
    "plt.plot(wind_solar_forecast['Wind Onshore']+wind_solar_forecast['Wind Offshore'])\n",
    "plt.title('Energy generation \\nWind (offshore  + onshore)')\n",
    "plt.ylabel('MWh')\n",
    "plt.show()"
   ]
  },
  {
   "attachments": {},
   "cell_type": "markdown",
   "id": "aaf45ee6",
   "metadata": {},
   "source": [
    "Imports"
   ]
  },
  {
   "cell_type": "code",
   "execution_count": null,
   "id": "ae871f8a",
   "metadata": {},
   "outputs": [],
   "source": [
    "imports =  client.query_import(country_code, start, end)"
   ]
  },
  {
   "cell_type": "code",
   "execution_count": null,
   "id": "79c5cc18",
   "metadata": {},
   "outputs": [],
   "source": [
    "imports.head()"
   ]
  },
  {
   "attachments": {},
   "cell_type": "markdown",
   "id": "32847e61",
   "metadata": {},
   "source": [
    "Exports"
   ]
  },
  {
   "cell_type": "code",
   "execution_count": null,
   "id": "f7cacad0",
   "metadata": {},
   "outputs": [],
   "source": [
    "exports1 =  client.query_crossborder_flows(country_code, 'DE_LU', start = start, end = end)"
   ]
  },
  {
   "cell_type": "code",
   "execution_count": null,
   "id": "558da82e",
   "metadata": {},
   "outputs": [],
   "source": [
    "exports2 =  client.query_crossborder_flows(country_code, 'DK_1', start = start, end = end)"
   ]
  },
  {
   "cell_type": "code",
   "execution_count": null,
   "id": "904bc22d",
   "metadata": {},
   "outputs": [],
   "source": [
    "exports3 =  client.query_crossborder_flows(country_code, 'SE_4', start = start, end = end)"
   ]
  },
  {
   "cell_type": "code",
   "execution_count": null,
   "id": "d920fbb1",
   "metadata": {},
   "outputs": [],
   "source": [
    "exportsDLA = client.query_crossborder_flows(country_code, 'DE_AT_LU', start = start, end = end)"
   ]
  },
  {
   "cell_type": "markdown",
   "id": "40aded05",
   "metadata": {},
   "source": [
    "## Saving the data"
   ]
  },
  {
   "cell_type": "code",
   "execution_count": 7,
   "id": "effc2517",
   "metadata": {},
   "outputs": [],
   "source": [
    "day_ahead_prices.to_csv('./data/day_ahead_prices.csv')"
   ]
  },
  {
   "cell_type": "code",
   "execution_count": 135,
   "id": "33febe3d",
   "metadata": {},
   "outputs": [],
   "source": [
    "day_ahead_prices.to_csv('day_ahead_prices.csv')\n",
    "load_and_forecast.to_csv('load_and_forecast.csv')\n",
    "wind_solar_forecast.to_csv('wind_solar_forecast.csv')\n",
    "exports1.to_csv('exportsDELU.csv')\n",
    "exports2.to_csv('exportsDK1.csv')\n",
    "exports3.to_csv('exportsSE4.csv')\n",
    "exportsDLA.to_csv('exportsDELUAT.csv')"
   ]
  }
 ],
 "metadata": {
  "kernelspec": {
   "display_name": "Python 3 (ipykernel)",
   "language": "python",
   "name": "python3"
  },
  "language_info": {
   "codemirror_mode": {
    "name": "ipython",
    "version": 3
   },
   "file_extension": ".py",
   "mimetype": "text/x-python",
   "name": "python",
   "nbconvert_exporter": "python",
   "pygments_lexer": "ipython3",
   "version": "3.9.7"
  }
 },
 "nbformat": 4,
 "nbformat_minor": 5
}

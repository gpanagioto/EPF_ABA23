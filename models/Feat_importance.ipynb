{
 "cells": [
  {
   "cell_type": "code",
   "execution_count": null,
   "id": "54f51285-a983-4322-8dd2-f57ffe580e1f",
   "metadata": {
    "tags": []
   },
   "outputs": [],
   "source": [
    "%load_ext autoreload\n",
    "%autoreload 2\n",
    "from helper import split_timeseries, get_feature_target, read_our_data, lin_reg_feat_importance, var_imp_plot, rand_f_imp, imp_df, xgb_feat_imp, remove_brackets"
   ]
  },
  {
   "cell_type": "code",
   "execution_count": null,
   "id": "aeb77804-b164-47a5-8cac-2ac0b13af3a5",
   "metadata": {
    "tags": []
   },
   "outputs": [],
   "source": [
    "import pandas as pd\n",
    "import os"
   ]
  },
  {
   "cell_type": "code",
   "execution_count": null,
   "id": "af231597-214d-45f8-9713-07de507733cf",
   "metadata": {
    "tags": []
   },
   "outputs": [],
   "source": [
    "# calling the dataset\n",
    "df =read_our_data('clean_lagged.csv')"
   ]
  },
  {
   "cell_type": "code",
   "execution_count": null,
   "id": "fbee79e0-8986-427e-bcab-db355baec803",
   "metadata": {
    "tags": []
   },
   "outputs": [],
   "source": [
    "df = df.set_index('Timestamp')"
   ]
  },
  {
   "cell_type": "code",
   "execution_count": null,
   "id": "be89a950-60b6-4972-8b1f-ca6aa819ba49",
   "metadata": {
    "tags": []
   },
   "outputs": [],
   "source": [
    "#df.info()\n",
    "df.columns.values"
   ]
  },
  {
   "cell_type": "code",
   "execution_count": null,
   "id": "703bc7d2-1154-4759-a84d-6194fac0c8a2",
   "metadata": {
    "tags": []
   },
   "outputs": [],
   "source": [
    "cols = df.columns.values.tolist()"
   ]
  },
  {
   "cell_type": "code",
   "execution_count": null,
   "id": "f8fcfc58-536b-48f5-bc2f-40e899cc5f73",
   "metadata": {
    "tags": []
   },
   "outputs": [],
   "source": [
    "cols"
   ]
  },
  {
   "cell_type": "code",
   "execution_count": null,
   "id": "395e8dca-7d0a-49b5-8e76-ee2fdd9cad60",
   "metadata": {
    "tags": []
   },
   "outputs": [],
   "source": [
    "drop_values = ['Timestamp', 'Date', 'Day_Ahead_price']"
   ]
  },
  {
   "cell_type": "code",
   "execution_count": null,
   "id": "c5127877-958c-457c-9bf9-ae604a87bc66",
   "metadata": {
    "tags": []
   },
   "outputs": [],
   "source": [
    "features = [x for x in cols if x not in drop_values]"
   ]
  },
  {
   "cell_type": "code",
   "execution_count": null,
   "id": "aaf8fb00-b1fc-4ad0-91c7-bdc7b4d75c12",
   "metadata": {
    "tags": []
   },
   "outputs": [],
   "source": [
    "target = 'Day_Ahead_price'"
   ]
  },
  {
   "cell_type": "code",
   "execution_count": null,
   "id": "c6b82ca7-91b5-4f5b-8bcc-272b25f8987b",
   "metadata": {
    "tags": []
   },
   "outputs": [],
   "source": [
    "features"
   ]
  },
  {
   "cell_type": "code",
   "execution_count": null,
   "id": "483f617e-4a8b-48e6-b085-a937c9a2c745",
   "metadata": {
    "tags": []
   },
   "outputs": [],
   "source": [
    "# setting up splits\n",
    "k_folds = 3\n",
    "train_start = pd.to_datetime(['2018-01-01', '2021-01-01', '2021-07-01'], format = '%Y-%m-%d')"
   ]
  },
  {
   "cell_type": "code",
   "execution_count": null,
   "id": "b5757e0b-8a36-49ed-8c1b-07c0a0e9e7c8",
   "metadata": {
    "tags": []
   },
   "outputs": [],
   "source": [
    "df = df.drop('Date', axis = 1)"
   ]
  },
  {
   "cell_type": "code",
   "execution_count": null,
   "id": "a73f41dc",
   "metadata": {
    "tags": []
   },
   "outputs": [],
   "source": [
    "df.columns"
   ]
  },
  {
   "cell_type": "code",
   "execution_count": null,
   "id": "cbfac5e9",
   "metadata": {
    "scrolled": true,
    "tags": []
   },
   "outputs": [],
   "source": [
    "df.isna().sum()"
   ]
  },
  {
   "cell_type": "code",
   "execution_count": null,
   "id": "e256d6d5",
   "metadata": {
    "tags": []
   },
   "outputs": [],
   "source": [
    "df.dropna(axis=0, how='any', inplace=True)"
   ]
  },
  {
   "cell_type": "markdown",
   "id": "74018b17-cbbd-4e62-99b8-0aef010dd1db",
   "metadata": {},
   "source": [
    "### Prepare  features and target using the function"
   ]
  },
  {
   "cell_type": "code",
   "execution_count": null,
   "id": "268fd5a4-16ef-4e43-b628-bcf82e415f46",
   "metadata": {
    "tags": []
   },
   "outputs": [],
   "source": [
    "trainset, testset = split_timeseries(df, train_start, 0, 1)"
   ]
  },
  {
   "cell_type": "code",
   "execution_count": null,
   "id": "3b1a675d-074b-41f4-930d-6ebb64833d40",
   "metadata": {
    "tags": []
   },
   "outputs": [],
   "source": [
    "x_train, y_train = get_feature_target(trainset, features, target)"
   ]
  },
  {
   "cell_type": "code",
   "execution_count": null,
   "id": "b67e73bd-53ac-41b2-a4e4-7e38befa5978",
   "metadata": {
    "tags": []
   },
   "outputs": [],
   "source": [
    "x_test, y_test = get_feature_target(testset, features, target)"
   ]
  },
  {
   "cell_type": "markdown",
   "id": "a5b6ff56-1d1b-450d-bd57-773e827ab0a4",
   "metadata": {
    "tags": []
   },
   "source": [
    "### Linear Regression Feature Importance"
   ]
  },
  {
   "cell_type": "code",
   "execution_count": null,
   "id": "506497d3-2c5b-4bdf-8e66-0f36c8d8acce",
   "metadata": {
    "tags": []
   },
   "outputs": [],
   "source": [
    "lin_reg_feat_importance(x_train, y_train, x_test, y_test)"
   ]
  },
  {
   "cell_type": "code",
   "execution_count": null,
   "id": "ae853bb7-f483-47f7-84d3-e31414470406",
   "metadata": {
    "tags": []
   },
   "outputs": [],
   "source": [
    "lr_imp = lin_reg_feat_importance(x_train, y_train, x_test, y_test)"
   ]
  },
  {
   "cell_type": "code",
   "execution_count": null,
   "id": "732c6557-2dfd-4977-8a3b-ab7f33181510",
   "metadata": {
    "tags": []
   },
   "outputs": [],
   "source": [
    "# plot\n",
    "var_imp_plot(lr_imp, 'Linear regression feature importance')"
   ]
  },
  {
   "cell_type": "markdown",
   "id": "aaffaf0f-1e8f-474a-8a26-5a6faaadd9f2",
   "metadata": {},
   "source": [
    "### Random Forest Feature Importance"
   ]
  },
  {
   "cell_type": "code",
   "execution_count": null,
   "id": "2aa01488-5a05-4a38-94fe-9702f6510ff3",
   "metadata": {
    "tags": []
   },
   "outputs": [],
   "source": [
    "rand_f_imp(x_train, y_train)"
   ]
  },
  {
   "cell_type": "code",
   "execution_count": null,
   "id": "58b1cef8-f3b4-4722-b032-a0d441302707",
   "metadata": {
    "tags": []
   },
   "outputs": [],
   "source": [
    "rand_importances = rand_f_imp(x_train, y_train, random_search=True)"
   ]
  },
  {
   "cell_type": "code",
   "execution_count": null,
   "id": "80afc371-8123-48e4-a28d-eefdf84b4db9",
   "metadata": {
    "tags": []
   },
   "outputs": [],
   "source": [
    "randf_imp = imp_df(features, rand_importances)\n",
    "randf_imp"
   ]
  },
  {
   "cell_type": "code",
   "execution_count": null,
   "id": "cf11ce12-8317-4a08-99d4-bbfc24316c91",
   "metadata": {
    "tags": []
   },
   "outputs": [],
   "source": [
    "var_imp_plot(randf_imp, 'Random Forest Feature Importance')"
   ]
  },
  {
   "cell_type": "markdown",
   "id": "f5b02301-6f6a-4cfe-86f7-5f9d4453e2e8",
   "metadata": {},
   "source": [
    "### XGBoost"
   ]
  },
  {
   "cell_type": "code",
   "execution_count": null,
   "id": "b30d0e59-5e51-4b92-ae67-dd1348cceb41",
   "metadata": {
    "tags": []
   },
   "outputs": [],
   "source": []
  },
  {
   "cell_type": "code",
   "execution_count": null,
   "id": "7fd22b64-fe8a-4783-90d4-63754ae66bbd",
   "metadata": {
    "tags": []
   },
   "outputs": [],
   "source": [
    "x_train = remove_brackets(x_train)"
   ]
  },
  {
   "cell_type": "code",
   "execution_count": null,
   "id": "1edb8917-1622-4383-a8a1-cc5ec1de867e",
   "metadata": {
    "tags": []
   },
   "outputs": [],
   "source": [
    "x_train.columns"
   ]
  },
  {
   "cell_type": "code",
   "execution_count": null,
   "id": "39fc9918-9c99-4a9c-91eb-2f498924f8f6",
   "metadata": {
    "tags": []
   },
   "outputs": [],
   "source": [
    "xgimportances = xgb_feat_imp(x_train, y_train)"
   ]
  },
  {
   "cell_type": "code",
   "execution_count": null,
   "id": "b0cf137d-85fa-4b03-88f3-d3ad2d61db4d",
   "metadata": {
    "tags": []
   },
   "outputs": [],
   "source": [
    "xgbimp = imp_df(features, xgimportances)\n",
    "xgbimp"
   ]
  },
  {
   "cell_type": "code",
   "execution_count": null,
   "id": "1aecc15a-929a-4d6c-b01d-3150450d40a4",
   "metadata": {
    "tags": []
   },
   "outputs": [],
   "source": [
    "var_imp_plot(xgbimp, 'XGBoost Feature Importances')"
   ]
  },
  {
   "cell_type": "code",
   "execution_count": null,
   "id": "9a4fe5e3",
   "metadata": {},
   "outputs": [],
   "source": []
  }
 ],
 "metadata": {
  "kernelspec": {
   "display_name": "advba",
   "language": "python",
   "name": "advba"
  },
  "language_info": {
   "codemirror_mode": {
    "name": "ipython",
    "version": 3
   },
   "file_extension": ".py",
   "mimetype": "text/x-python",
   "name": "python",
   "nbconvert_exporter": "python",
   "pygments_lexer": "ipython3",
   "version": "3.10.6"
  }
 },
 "nbformat": 4,
 "nbformat_minor": 5
}

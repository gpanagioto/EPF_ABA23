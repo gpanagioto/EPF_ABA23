{
 "cells": [
  {
   "cell_type": "code",
   "execution_count": 10,
   "id": "bb5068e9-7132-4a5d-821e-90b8497dc472",
   "metadata": {
    "tags": []
   },
   "outputs": [
    {
     "name": "stdout",
     "output_type": "stream",
     "text": [
      "The autoreload extension is already loaded. To reload it, use:\n",
      "  %reload_ext autoreload\n"
     ]
    }
   ],
   "source": [
    "%load_ext autoreload\n",
    "%autoreload 2\n",
    "from __init__ import root_dir, data_path\n",
    "from helper import read_our_data, split_timeseries, get_feature_target"
   ]
  },
  {
   "cell_type": "code",
   "execution_count": 5,
   "id": "b298c985-31f2-4b31-bd4c-e47fbc1c47bd",
   "metadata": {
    "tags": []
   },
   "outputs": [],
   "source": [
    "import pandas as pd\n",
    "import warnings\n",
    "import os\n",
    "warnings.filterwarnings('ignore')"
   ]
  },
  {
   "cell_type": "code",
   "execution_count": 15,
   "id": "482c9b41-a054-44a5-8d38-1ffa05877e25",
   "metadata": {
    "tags": []
   },
   "outputs": [],
   "source": [
    "#read the data\n",
    "df = read_our_data('clean_lagged.csv')"
   ]
  },
  {
   "cell_type": "code",
   "execution_count": 16,
   "id": "1ea7d872-6ec8-47d8-8bd5-78d7c6826668",
   "metadata": {
    "tags": []
   },
   "outputs": [],
   "source": [
    "df = df.drop('Date', axis = 1)"
   ]
  },
  {
   "cell_type": "code",
   "execution_count": 17,
   "id": "ec34f5f7-ccf4-4278-9c3e-133c361fc543",
   "metadata": {},
   "outputs": [],
   "source": [
    "df = df.set_index('Timestamp')"
   ]
  },
  {
   "cell_type": "code",
   "execution_count": 18,
   "id": "789f838f-e14e-4877-a868-a1495b72b279",
   "metadata": {
    "tags": []
   },
   "outputs": [],
   "source": [
    "cols = df.columns.values.tolist()"
   ]
  },
  {
   "cell_type": "code",
   "execution_count": 19,
   "id": "c0511ff3-3b3c-4e1e-a291-b7c9598f5621",
   "metadata": {
    "tags": []
   },
   "outputs": [],
   "source": [
    "drop_values = ['Timestamp', 'Date', 'Day_Ahead_price']"
   ]
  },
  {
   "cell_type": "code",
   "execution_count": 20,
   "id": "b4f55718-3af1-4704-af62-87b2f9954d8c",
   "metadata": {
    "tags": []
   },
   "outputs": [],
   "source": [
    "features = [x for x in cols if x not in drop_values]"
   ]
  },
  {
   "cell_type": "code",
   "execution_count": 21,
   "id": "804c562c-f53b-4850-8a4f-289c54892ba0",
   "metadata": {
    "tags": []
   },
   "outputs": [],
   "source": [
    "target = 'Day_Ahead_price'"
   ]
  },
  {
   "cell_type": "code",
   "execution_count": 22,
   "id": "daa8c162-634e-4119-a06a-134db19b627b",
   "metadata": {
    "tags": []
   },
   "outputs": [],
   "source": [
    "# setting up splits\n",
    "k_folds = 3\n",
    "train_start = pd.to_datetime(['2018-01-01', '2021-01-01', '2021-07-01'], format = '%Y-%m-%d')"
   ]
  },
  {
   "cell_type": "code",
   "execution_count": 23,
   "id": "fea74e11-63c7-4a9b-b637-7fc13cd9207d",
   "metadata": {
    "tags": []
   },
   "outputs": [],
   "source": [
    "trainset, testset = split_timeseries(df, train_start, 0, 1)"
   ]
  },
  {
   "cell_type": "code",
   "execution_count": 24,
   "id": "33c83192-afbf-48c3-a340-91742ef66345",
   "metadata": {
    "tags": []
   },
   "outputs": [],
   "source": [
    "x_train, y_train = get_feature_target(trainset, features, target)"
   ]
  },
  {
   "cell_type": "code",
   "execution_count": 25,
   "id": "221861ef-83b4-4116-8efa-180a353998cc",
   "metadata": {
    "tags": []
   },
   "outputs": [],
   "source": [
    "x_test, y_test = get_feature_target(testset, features, target)"
   ]
  }
 ],
 "metadata": {
  "kernelspec": {
   "display_name": "advba",
   "language": "python",
   "name": "advba"
  },
  "language_info": {
   "codemirror_mode": {
    "name": "ipython",
    "version": 3
   },
   "file_extension": ".py",
   "mimetype": "text/x-python",
   "name": "python",
   "nbconvert_exporter": "python",
   "pygments_lexer": "ipython3",
   "version": "3.10.6"
  }
 },
 "nbformat": 4,
 "nbformat_minor": 5
}

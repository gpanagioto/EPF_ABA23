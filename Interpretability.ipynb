{
 "cells": [
  {
   "cell_type": "code",
   "execution_count": 1,
   "id": "bb5068e9-7132-4a5d-821e-90b8497dc472",
   "metadata": {
    "tags": []
   },
   "outputs": [],
   "source": [
    "from helper import *\n",
    "from helper2 import *"
   ]
  },
  {
   "cell_type": "code",
   "execution_count": 21,
   "id": "b298c985-31f2-4b31-bd4c-e47fbc1c47bd",
   "metadata": {
    "tags": []
   },
   "outputs": [],
   "source": [
    "#import eli5\n",
    "from skater.core.explanations import Interpretation\n",
    "from skater.model import InMemoryModel\n",
    "# import shap ----- shap seems to cause some issues, will see if we'll import it eventually\n",
    "import pandas as pd\n",
    "import numpy as np\n",
    "import random\n",
    "#import model_evaluation_utils as meu\n",
    "import matplotlib.pyplot as plt\n",
    "#from collections import Counter\n",
    "#from IPython.display import Image\n",
    "import warnings\n",
    "warnings.filterwarnings('ignore')"
   ]
  },
  {
   "cell_type": "code",
   "execution_count": 4,
   "id": "439baa8b-26ce-4311-8763-ea645236fa74",
   "metadata": {
    "tags": []
   },
   "outputs": [],
   "source": []
  },
  {
   "cell_type": "code",
   "execution_count": 6,
   "id": "482c9b41-a054-44a5-8d38-1ffa05877e25",
   "metadata": {
    "tags": []
   },
   "outputs": [],
   "source": [
    "#read the data\n",
    "df =read_our_data('clean_lagged.csv')"
   ]
  },
  {
   "cell_type": "code",
   "execution_count": 7,
   "id": "1ea7d872-6ec8-47d8-8bd5-78d7c6826668",
   "metadata": {
    "tags": []
   },
   "outputs": [],
   "source": [
    "df = df.drop('Date', axis = 1)"
   ]
  },
  {
   "cell_type": "code",
   "execution_count": 8,
   "id": "ec34f5f7-ccf4-4278-9c3e-133c361fc543",
   "metadata": {},
   "outputs": [],
   "source": [
    "df = df.set_index('Timestamp')"
   ]
  },
  {
   "cell_type": "code",
   "execution_count": 10,
   "id": "789f838f-e14e-4877-a868-a1495b72b279",
   "metadata": {
    "tags": []
   },
   "outputs": [],
   "source": [
    "cols = df.columns.values.tolist()"
   ]
  },
  {
   "cell_type": "code",
   "execution_count": 11,
   "id": "3854771e-8868-4a0d-9b46-7b8ad3fc39d1",
   "metadata": {
    "tags": []
   },
   "outputs": [
    {
     "data": {
      "text/plain": [
       "['DK_1',\n",
       " 'SE_4',\n",
       " 'DK_1_Exports_Volume',\n",
       " 'SE_4_Exports_Volume',\n",
       " 'Day_Ahead_Prices',\n",
       " 'Forecasted Load',\n",
       " 'Actual Load',\n",
       " 'Solar',\n",
       " 'TTF=F_Price',\n",
       " 'CFI2Z3_Price',\n",
       " 'CO2_prices_Price',\n",
       " 'DE_LU_corr',\n",
       " 'DE_LU_Exports_Volume_corr',\n",
       " 'Year',\n",
       " 'Quarter',\n",
       " 'Month',\n",
       " 'Day',\n",
       " 'Weekday',\n",
       " 'Hour',\n",
       " 'Week',\n",
       " 'business',\n",
       " 'Wind Total',\n",
       " 'Day_Ahead_Prices-lag24',\n",
       " 'Day_Ahead_Prices-lag36',\n",
       " 'Day_Ahead_Prices-lag48',\n",
       " 'Day_Ahead_Prices-lag72',\n",
       " 'Day_Ahead_Prices-lag168',\n",
       " 'Day_Ahead_Prices-lag-168']"
      ]
     },
     "execution_count": 11,
     "metadata": {},
     "output_type": "execute_result"
    }
   ],
   "source": []
  },
  {
   "cell_type": "code",
   "execution_count": 12,
   "id": "434bca36-9a54-4f8d-92bc-62c0581feff5",
   "metadata": {
    "tags": []
   },
   "outputs": [],
   "source": [
    "cols = df.columns.values.tolist()"
   ]
  },
  {
   "cell_type": "code",
   "execution_count": 14,
   "id": "c0511ff3-3b3c-4e1e-a291-b7c9598f5621",
   "metadata": {
    "tags": []
   },
   "outputs": [],
   "source": [
    "drop_values = ['Timestamp', 'Date', 'Day_Ahead_Prices']"
   ]
  },
  {
   "cell_type": "code",
   "execution_count": 15,
   "id": "b4f55718-3af1-4704-af62-87b2f9954d8c",
   "metadata": {
    "tags": []
   },
   "outputs": [],
   "source": [
    "features = [x for x in cols if x not in drop_values]"
   ]
  },
  {
   "cell_type": "code",
   "execution_count": 16,
   "id": "804c562c-f53b-4850-8a4f-289c54892ba0",
   "metadata": {
    "tags": []
   },
   "outputs": [],
   "source": [
    "target = 'Day_Ahead_Prices'"
   ]
  },
  {
   "cell_type": "code",
   "execution_count": 17,
   "id": "daa8c162-634e-4119-a06a-134db19b627b",
   "metadata": {
    "tags": []
   },
   "outputs": [],
   "source": [
    "# setting up splits\n",
    "k_folds = 3\n",
    "train_start = pd.to_datetime(['2018-01-01', '2021-01-01', '2021-07-01'], format = '%Y-%m-%d')"
   ]
  },
  {
   "cell_type": "code",
   "execution_count": null,
   "id": "39de5673-2000-4549-b0ee-17889fdfebf0",
   "metadata": {},
   "outputs": [],
   "source": []
  },
  {
   "cell_type": "code",
   "execution_count": 18,
   "id": "fea74e11-63c7-4a9b-b637-7fc13cd9207d",
   "metadata": {
    "tags": []
   },
   "outputs": [],
   "source": [
    "trainset, testset = split_timeseries(df, train_start, 0, 1)"
   ]
  },
  {
   "cell_type": "code",
   "execution_count": 19,
   "id": "33c83192-afbf-48c3-a340-91742ef66345",
   "metadata": {
    "tags": []
   },
   "outputs": [],
   "source": [
    "x_train, y_train = get_feature_target(trainset, features, target)"
   ]
  },
  {
   "cell_type": "code",
   "execution_count": 20,
   "id": "221861ef-83b4-4116-8efa-180a353998cc",
   "metadata": {
    "tags": []
   },
   "outputs": [],
   "source": [
    "x_test, y_test = get_feature_target(testset, features, target)"
   ]
  },
  {
   "cell_type": "code",
   "execution_count": null,
   "id": "1c8069b8-d79e-4450-9870-c3c58a9efbfd",
   "metadata": {},
   "outputs": [],
   "source": []
  }
 ],
 "metadata": {
  "kernelspec": {
   "display_name": "Python 3 (ipykernel)",
   "language": "python",
   "name": "python3"
  },
  "language_info": {
   "codemirror_mode": {
    "name": "ipython",
    "version": 3
   },
   "file_extension": ".py",
   "mimetype": "text/x-python",
   "name": "python",
   "nbconvert_exporter": "python",
   "pygments_lexer": "ipython3",
   "version": "3.10.10"
  }
 },
 "nbformat": 4,
 "nbformat_minor": 5
}

{
 "cells": [
  {
   "cell_type": "code",
   "execution_count": 1,
   "id": "bb5068e9-7132-4a5d-821e-90b8497dc472",
   "metadata": {
    "tags": []
   },
   "outputs": [],
   "source": [
    "from helper import *\n",
    "from helper2 import *"
   ]
  },
  {
   "cell_type": "code",
   "execution_count": 10,
   "id": "b298c985-31f2-4b31-bd4c-e47fbc1c47bd",
   "metadata": {
    "tags": []
   },
   "outputs": [],
   "source": [
    "import eli5\n",
    "import skater\n",
    "# shap seems to cause some issues, will see if we'll import it eventually\n",
    "# import shap"
   ]
  },
  {
   "cell_type": "code",
   "execution_count": 7,
   "id": "439baa8b-26ce-4311-8763-ea645236fa74",
   "metadata": {
    "tags": []
   },
   "outputs": [],
   "source": []
  },
  {
   "cell_type": "code",
   "execution_count": 9,
   "id": "482c9b41-a054-44a5-8d38-1ffa05877e25",
   "metadata": {
    "tags": []
   },
   "outputs": [],
   "source": []
  },
  {
   "cell_type": "code",
   "execution_count": 4,
   "id": "1ea7d872-6ec8-47d8-8bd5-78d7c6826668",
   "metadata": {
    "tags": []
   },
   "outputs": [],
   "source": [
    "import pandas as pd\n",
    "import numpy as np\n",
    "import random\n",
    "#import model_evaluation_utils as meu\n",
    "import matplotlib.pyplot as plt\n",
    "from collections import Counter\n",
    "from IPython.display import Image\n",
    "import warnings\n",
    "warnings.filterwarnings('ignore')"
   ]
  },
  {
   "cell_type": "code",
   "execution_count": null,
   "id": "ec34f5f7-ccf4-4278-9c3e-133c361fc543",
   "metadata": {},
   "outputs": [],
   "source": []
  }
 ],
 "metadata": {
  "kernelspec": {
   "display_name": "Python 3 (ipykernel)",
   "language": "python",
   "name": "python3"
  },
  "language_info": {
   "codemirror_mode": {
    "name": "ipython",
    "version": 3
   },
   "file_extension": ".py",
   "mimetype": "text/x-python",
   "name": "python",
   "nbconvert_exporter": "python",
   "pygments_lexer": "ipython3",
   "version": "3.10.10"
  }
 },
 "nbformat": 4,
 "nbformat_minor": 5
}

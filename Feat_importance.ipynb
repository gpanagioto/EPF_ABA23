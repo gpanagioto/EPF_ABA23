{
 "cells": [
  {
   "cell_type": "code",
   "execution_count": 1,
   "id": "54f51285-a983-4322-8dd2-f57ffe580e1f",
   "metadata": {
    "tags": []
   },
   "outputs": [],
   "source": [
    "from helper import *\n",
    "from helper2 import *"
   ]
  },
  {
   "cell_type": "code",
   "execution_count": 2,
   "id": "aeb77804-b164-47a5-8cac-2ac0b13af3a5",
   "metadata": {
    "tags": []
   },
   "outputs": [
    {
     "name": "stdout",
     "output_type": "stream",
     "text": [
      "/home/dimitris/Documents/github/EPF_ABA23\n"
     ]
    }
   ],
   "source": [
    "import pandas as pd\n",
    "import os\n",
    "notebook_path = os.path.abspath('')\n",
    "print(notebook_path)"
   ]
  },
  {
   "cell_type": "code",
   "execution_count": 32,
   "id": "a03f22cb-e267-47a1-ae57-e8660d8ae28c",
   "metadata": {
    "tags": []
   },
   "outputs": [],
   "source": [
    "path_ = './dataset_management/data/clean/clean_lagged.csv'"
   ]
  },
  {
   "cell_type": "code",
   "execution_count": 36,
   "id": "af231597-214d-45f8-9713-07de507733cf",
   "metadata": {
    "tags": []
   },
   "outputs": [],
   "source": [
    "df =read_our_data('clean_lagged.csv')"
   ]
  },
  {
   "cell_type": "code",
   "execution_count": 37,
   "id": "fbee79e0-8986-427e-bcab-db355baec803",
   "metadata": {},
   "outputs": [
    {
     "data": {
      "text/html": [
       "<div>\n",
       "<style scoped>\n",
       "    .dataframe tbody tr th:only-of-type {\n",
       "        vertical-align: middle;\n",
       "    }\n",
       "\n",
       "    .dataframe tbody tr th {\n",
       "        vertical-align: top;\n",
       "    }\n",
       "\n",
       "    .dataframe thead th {\n",
       "        text-align: right;\n",
       "    }\n",
       "</style>\n",
       "<table border=\"1\" class=\"dataframe\">\n",
       "  <thead>\n",
       "    <tr style=\"text-align: right;\">\n",
       "      <th></th>\n",
       "      <th>DK_1</th>\n",
       "      <th>SE_4</th>\n",
       "      <th>DK_1_Exports_Volume</th>\n",
       "      <th>SE_4_Exports_Volume</th>\n",
       "      <th>Day_Ahead_Prices</th>\n",
       "      <th>Forecasted Load</th>\n",
       "      <th>Actual Load</th>\n",
       "      <th>Solar</th>\n",
       "      <th>TTF=F_Price</th>\n",
       "      <th>CFI2Z3_Price</th>\n",
       "      <th>...</th>\n",
       "      <th>Hour</th>\n",
       "      <th>Week</th>\n",
       "      <th>business</th>\n",
       "      <th>Wind Total</th>\n",
       "      <th>Day_Ahead_Prices-lag24</th>\n",
       "      <th>Day_Ahead_Prices-lag36</th>\n",
       "      <th>Day_Ahead_Prices-lag48</th>\n",
       "      <th>Day_Ahead_Prices-lag72</th>\n",
       "      <th>Day_Ahead_Prices-lag168</th>\n",
       "      <th>Day_Ahead_Prices-lag-168</th>\n",
       "    </tr>\n",
       "    <tr>\n",
       "      <th>Timestamp</th>\n",
       "      <th></th>\n",
       "      <th></th>\n",
       "      <th></th>\n",
       "      <th></th>\n",
       "      <th></th>\n",
       "      <th></th>\n",
       "      <th></th>\n",
       "      <th></th>\n",
       "      <th></th>\n",
       "      <th></th>\n",
       "      <th></th>\n",
       "      <th></th>\n",
       "      <th></th>\n",
       "      <th></th>\n",
       "      <th></th>\n",
       "      <th></th>\n",
       "      <th></th>\n",
       "      <th></th>\n",
       "      <th></th>\n",
       "      <th></th>\n",
       "      <th></th>\n",
       "    </tr>\n",
       "  </thead>\n",
       "  <tbody>\n",
       "    <tr>\n",
       "      <th>2018-01-09 00:00:00</th>\n",
       "      <td>1.0</td>\n",
       "      <td>0.0</td>\n",
       "      <td>129.0</td>\n",
       "      <td>560.0</td>\n",
       "      <td>27.17</td>\n",
       "      <td>1309.0</td>\n",
       "      <td>1309.0</td>\n",
       "      <td>0.0</td>\n",
       "      <td>19.434999</td>\n",
       "      <td>107.00</td>\n",
       "      <td>...</td>\n",
       "      <td>0</td>\n",
       "      <td>2</td>\n",
       "      <td>True</td>\n",
       "      <td>393.0</td>\n",
       "      <td>25.03</td>\n",
       "      <td>28.96</td>\n",
       "      <td>27.58</td>\n",
       "      <td>29.45</td>\n",
       "      <td>18.12</td>\n",
       "      <td>-9.61</td>\n",
       "    </tr>\n",
       "    <tr>\n",
       "      <th>2018-01-09 01:00:00</th>\n",
       "      <td>84.0</td>\n",
       "      <td>0.0</td>\n",
       "      <td>2.0</td>\n",
       "      <td>874.0</td>\n",
       "      <td>22.10</td>\n",
       "      <td>1233.0</td>\n",
       "      <td>1221.0</td>\n",
       "      <td>0.0</td>\n",
       "      <td>19.434999</td>\n",
       "      <td>107.00</td>\n",
       "      <td>...</td>\n",
       "      <td>1</td>\n",
       "      <td>2</td>\n",
       "      <td>True</td>\n",
       "      <td>439.0</td>\n",
       "      <td>23.96</td>\n",
       "      <td>28.27</td>\n",
       "      <td>25.90</td>\n",
       "      <td>28.55</td>\n",
       "      <td>14.99</td>\n",
       "      <td>-6.62</td>\n",
       "    </tr>\n",
       "    <tr>\n",
       "      <th>2018-01-09 02:00:00</th>\n",
       "      <td>73.0</td>\n",
       "      <td>0.0</td>\n",
       "      <td>0.0</td>\n",
       "      <td>679.0</td>\n",
       "      <td>9.79</td>\n",
       "      <td>1186.0</td>\n",
       "      <td>1155.0</td>\n",
       "      <td>0.0</td>\n",
       "      <td>19.434999</td>\n",
       "      <td>107.00</td>\n",
       "      <td>...</td>\n",
       "      <td>2</td>\n",
       "      <td>2</td>\n",
       "      <td>True</td>\n",
       "      <td>441.0</td>\n",
       "      <td>23.92</td>\n",
       "      <td>28.29</td>\n",
       "      <td>25.89</td>\n",
       "      <td>28.18</td>\n",
       "      <td>17.79</td>\n",
       "      <td>-2.33</td>\n",
       "    </tr>\n",
       "    <tr>\n",
       "      <th>2018-01-09 03:00:00</th>\n",
       "      <td>141.0</td>\n",
       "      <td>0.0</td>\n",
       "      <td>0.0</td>\n",
       "      <td>714.0</td>\n",
       "      <td>4.99</td>\n",
       "      <td>1175.0</td>\n",
       "      <td>1139.0</td>\n",
       "      <td>0.0</td>\n",
       "      <td>19.434999</td>\n",
       "      <td>107.00</td>\n",
       "      <td>...</td>\n",
       "      <td>3</td>\n",
       "      <td>2</td>\n",
       "      <td>True</td>\n",
       "      <td>457.0</td>\n",
       "      <td>25.48</td>\n",
       "      <td>28.62</td>\n",
       "      <td>26.16</td>\n",
       "      <td>28.00</td>\n",
       "      <td>24.51</td>\n",
       "      <td>-4.92</td>\n",
       "    </tr>\n",
       "    <tr>\n",
       "      <th>2018-01-09 04:00:00</th>\n",
       "      <td>163.0</td>\n",
       "      <td>0.0</td>\n",
       "      <td>0.0</td>\n",
       "      <td>643.0</td>\n",
       "      <td>9.24</td>\n",
       "      <td>1184.0</td>\n",
       "      <td>1125.0</td>\n",
       "      <td>0.0</td>\n",
       "      <td>19.434999</td>\n",
       "      <td>107.00</td>\n",
       "      <td>...</td>\n",
       "      <td>4</td>\n",
       "      <td>2</td>\n",
       "      <td>True</td>\n",
       "      <td>480.0</td>\n",
       "      <td>26.12</td>\n",
       "      <td>29.38</td>\n",
       "      <td>26.60</td>\n",
       "      <td>28.15</td>\n",
       "      <td>17.82</td>\n",
       "      <td>-0.08</td>\n",
       "    </tr>\n",
       "    <tr>\n",
       "      <th>...</th>\n",
       "      <td>...</td>\n",
       "      <td>...</td>\n",
       "      <td>...</td>\n",
       "      <td>...</td>\n",
       "      <td>...</td>\n",
       "      <td>...</td>\n",
       "      <td>...</td>\n",
       "      <td>...</td>\n",
       "      <td>...</td>\n",
       "      <td>...</td>\n",
       "      <td>...</td>\n",
       "      <td>...</td>\n",
       "      <td>...</td>\n",
       "      <td>...</td>\n",
       "      <td>...</td>\n",
       "      <td>...</td>\n",
       "      <td>...</td>\n",
       "      <td>...</td>\n",
       "      <td>...</td>\n",
       "      <td>...</td>\n",
       "      <td>...</td>\n",
       "    </tr>\n",
       "    <tr>\n",
       "      <th>2023-04-11 19:00:00</th>\n",
       "      <td>0.0</td>\n",
       "      <td>1191.0</td>\n",
       "      <td>122.0</td>\n",
       "      <td>0.0</td>\n",
       "      <td>165.38</td>\n",
       "      <td>1566.0</td>\n",
       "      <td>1579.0</td>\n",
       "      <td>2.0</td>\n",
       "      <td>43.692001</td>\n",
       "      <td>194.15</td>\n",
       "      <td>...</td>\n",
       "      <td>19</td>\n",
       "      <td>15</td>\n",
       "      <td>True</td>\n",
       "      <td>169.0</td>\n",
       "      <td>36.12</td>\n",
       "      <td>69.43</td>\n",
       "      <td>133.46</td>\n",
       "      <td>139.77</td>\n",
       "      <td>177.32</td>\n",
       "      <td>104.47</td>\n",
       "    </tr>\n",
       "    <tr>\n",
       "      <th>2023-04-11 20:00:00</th>\n",
       "      <td>0.0</td>\n",
       "      <td>1133.0</td>\n",
       "      <td>232.0</td>\n",
       "      <td>0.0</td>\n",
       "      <td>141.39</td>\n",
       "      <td>1473.0</td>\n",
       "      <td>1520.0</td>\n",
       "      <td>0.0</td>\n",
       "      <td>43.692001</td>\n",
       "      <td>194.15</td>\n",
       "      <td>...</td>\n",
       "      <td>20</td>\n",
       "      <td>15</td>\n",
       "      <td>True</td>\n",
       "      <td>171.0</td>\n",
       "      <td>26.18</td>\n",
       "      <td>48.13</td>\n",
       "      <td>126.39</td>\n",
       "      <td>137.31</td>\n",
       "      <td>155.56</td>\n",
       "      <td>84.65</td>\n",
       "    </tr>\n",
       "    <tr>\n",
       "      <th>2023-04-11 21:00:00</th>\n",
       "      <td>0.0</td>\n",
       "      <td>1174.0</td>\n",
       "      <td>355.0</td>\n",
       "      <td>0.0</td>\n",
       "      <td>130.80</td>\n",
       "      <td>1394.0</td>\n",
       "      <td>1412.0</td>\n",
       "      <td>0.0</td>\n",
       "      <td>43.692001</td>\n",
       "      <td>194.15</td>\n",
       "      <td>...</td>\n",
       "      <td>21</td>\n",
       "      <td>15</td>\n",
       "      <td>True</td>\n",
       "      <td>162.0</td>\n",
       "      <td>14.98</td>\n",
       "      <td>27.45</td>\n",
       "      <td>115.00</td>\n",
       "      <td>134.90</td>\n",
       "      <td>141.19</td>\n",
       "      <td>69.67</td>\n",
       "    </tr>\n",
       "    <tr>\n",
       "      <th>2023-04-11 22:00:00</th>\n",
       "      <td>0.0</td>\n",
       "      <td>1206.0</td>\n",
       "      <td>238.0</td>\n",
       "      <td>0.0</td>\n",
       "      <td>111.00</td>\n",
       "      <td>1330.0</td>\n",
       "      <td>1314.0</td>\n",
       "      <td>0.0</td>\n",
       "      <td>43.692001</td>\n",
       "      <td>194.15</td>\n",
       "      <td>...</td>\n",
       "      <td>22</td>\n",
       "      <td>15</td>\n",
       "      <td>True</td>\n",
       "      <td>127.0</td>\n",
       "      <td>1.58</td>\n",
       "      <td>13.52</td>\n",
       "      <td>106.94</td>\n",
       "      <td>126.98</td>\n",
       "      <td>129.93</td>\n",
       "      <td>56.62</td>\n",
       "    </tr>\n",
       "    <tr>\n",
       "      <th>2023-04-11 23:00:00</th>\n",
       "      <td>1.0</td>\n",
       "      <td>1125.0</td>\n",
       "      <td>31.0</td>\n",
       "      <td>0.0</td>\n",
       "      <td>97.60</td>\n",
       "      <td>1245.0</td>\n",
       "      <td>1293.0</td>\n",
       "      <td>0.0</td>\n",
       "      <td>43.692001</td>\n",
       "      <td>194.15</td>\n",
       "      <td>...</td>\n",
       "      <td>23</td>\n",
       "      <td>15</td>\n",
       "      <td>True</td>\n",
       "      <td>351.0</td>\n",
       "      <td>1.49</td>\n",
       "      <td>13.21</td>\n",
       "      <td>98.21</td>\n",
       "      <td>127.99</td>\n",
       "      <td>127.51</td>\n",
       "      <td>65.67</td>\n",
       "    </tr>\n",
       "  </tbody>\n",
       "</table>\n",
       "<p>46056 rows × 29 columns</p>\n",
       "</div>"
      ],
      "text/plain": [
       "                      DK_1    SE_4  DK_1_Exports_Volume  SE_4_Exports_Volume   \n",
       "Timestamp                                                                      \n",
       "2018-01-09 00:00:00    1.0     0.0                129.0                560.0  \\\n",
       "2018-01-09 01:00:00   84.0     0.0                  2.0                874.0   \n",
       "2018-01-09 02:00:00   73.0     0.0                  0.0                679.0   \n",
       "2018-01-09 03:00:00  141.0     0.0                  0.0                714.0   \n",
       "2018-01-09 04:00:00  163.0     0.0                  0.0                643.0   \n",
       "...                    ...     ...                  ...                  ...   \n",
       "2023-04-11 19:00:00    0.0  1191.0                122.0                  0.0   \n",
       "2023-04-11 20:00:00    0.0  1133.0                232.0                  0.0   \n",
       "2023-04-11 21:00:00    0.0  1174.0                355.0                  0.0   \n",
       "2023-04-11 22:00:00    0.0  1206.0                238.0                  0.0   \n",
       "2023-04-11 23:00:00    1.0  1125.0                 31.0                  0.0   \n",
       "\n",
       "                     Day_Ahead_Prices  Forecasted Load  Actual Load  Solar   \n",
       "Timestamp                                                                    \n",
       "2018-01-09 00:00:00             27.17           1309.0       1309.0    0.0  \\\n",
       "2018-01-09 01:00:00             22.10           1233.0       1221.0    0.0   \n",
       "2018-01-09 02:00:00              9.79           1186.0       1155.0    0.0   \n",
       "2018-01-09 03:00:00              4.99           1175.0       1139.0    0.0   \n",
       "2018-01-09 04:00:00              9.24           1184.0       1125.0    0.0   \n",
       "...                               ...              ...          ...    ...   \n",
       "2023-04-11 19:00:00            165.38           1566.0       1579.0    2.0   \n",
       "2023-04-11 20:00:00            141.39           1473.0       1520.0    0.0   \n",
       "2023-04-11 21:00:00            130.80           1394.0       1412.0    0.0   \n",
       "2023-04-11 22:00:00            111.00           1330.0       1314.0    0.0   \n",
       "2023-04-11 23:00:00             97.60           1245.0       1293.0    0.0   \n",
       "\n",
       "                     TTF=F_Price  CFI2Z3_Price  ...  Hour  Week  business   \n",
       "Timestamp                                       ...                         \n",
       "2018-01-09 00:00:00    19.434999        107.00  ...     0     2      True  \\\n",
       "2018-01-09 01:00:00    19.434999        107.00  ...     1     2      True   \n",
       "2018-01-09 02:00:00    19.434999        107.00  ...     2     2      True   \n",
       "2018-01-09 03:00:00    19.434999        107.00  ...     3     2      True   \n",
       "2018-01-09 04:00:00    19.434999        107.00  ...     4     2      True   \n",
       "...                          ...           ...  ...   ...   ...       ...   \n",
       "2023-04-11 19:00:00    43.692001        194.15  ...    19    15      True   \n",
       "2023-04-11 20:00:00    43.692001        194.15  ...    20    15      True   \n",
       "2023-04-11 21:00:00    43.692001        194.15  ...    21    15      True   \n",
       "2023-04-11 22:00:00    43.692001        194.15  ...    22    15      True   \n",
       "2023-04-11 23:00:00    43.692001        194.15  ...    23    15      True   \n",
       "\n",
       "                     Wind Total  Day_Ahead_Prices-lag24   \n",
       "Timestamp                                                 \n",
       "2018-01-09 00:00:00       393.0                   25.03  \\\n",
       "2018-01-09 01:00:00       439.0                   23.96   \n",
       "2018-01-09 02:00:00       441.0                   23.92   \n",
       "2018-01-09 03:00:00       457.0                   25.48   \n",
       "2018-01-09 04:00:00       480.0                   26.12   \n",
       "...                         ...                     ...   \n",
       "2023-04-11 19:00:00       169.0                   36.12   \n",
       "2023-04-11 20:00:00       171.0                   26.18   \n",
       "2023-04-11 21:00:00       162.0                   14.98   \n",
       "2023-04-11 22:00:00       127.0                    1.58   \n",
       "2023-04-11 23:00:00       351.0                    1.49   \n",
       "\n",
       "                     Day_Ahead_Prices-lag36 Day_Ahead_Prices-lag48   \n",
       "Timestamp                                                            \n",
       "2018-01-09 00:00:00                   28.96                  27.58  \\\n",
       "2018-01-09 01:00:00                   28.27                  25.90   \n",
       "2018-01-09 02:00:00                   28.29                  25.89   \n",
       "2018-01-09 03:00:00                   28.62                  26.16   \n",
       "2018-01-09 04:00:00                   29.38                  26.60   \n",
       "...                                     ...                    ...   \n",
       "2023-04-11 19:00:00                   69.43                 133.46   \n",
       "2023-04-11 20:00:00                   48.13                 126.39   \n",
       "2023-04-11 21:00:00                   27.45                 115.00   \n",
       "2023-04-11 22:00:00                   13.52                 106.94   \n",
       "2023-04-11 23:00:00                   13.21                  98.21   \n",
       "\n",
       "                     Day_Ahead_Prices-lag72  Day_Ahead_Prices-lag168   \n",
       "Timestamp                                                              \n",
       "2018-01-09 00:00:00                   29.45                    18.12  \\\n",
       "2018-01-09 01:00:00                   28.55                    14.99   \n",
       "2018-01-09 02:00:00                   28.18                    17.79   \n",
       "2018-01-09 03:00:00                   28.00                    24.51   \n",
       "2018-01-09 04:00:00                   28.15                    17.82   \n",
       "...                                     ...                      ...   \n",
       "2023-04-11 19:00:00                  139.77                   177.32   \n",
       "2023-04-11 20:00:00                  137.31                   155.56   \n",
       "2023-04-11 21:00:00                  134.90                   141.19   \n",
       "2023-04-11 22:00:00                  126.98                   129.93   \n",
       "2023-04-11 23:00:00                  127.99                   127.51   \n",
       "\n",
       "                     Day_Ahead_Prices-lag-168  \n",
       "Timestamp                                      \n",
       "2018-01-09 00:00:00                     -9.61  \n",
       "2018-01-09 01:00:00                     -6.62  \n",
       "2018-01-09 02:00:00                     -2.33  \n",
       "2018-01-09 03:00:00                     -4.92  \n",
       "2018-01-09 04:00:00                     -0.08  \n",
       "...                                       ...  \n",
       "2023-04-11 19:00:00                    104.47  \n",
       "2023-04-11 20:00:00                     84.65  \n",
       "2023-04-11 21:00:00                     69.67  \n",
       "2023-04-11 22:00:00                     56.62  \n",
       "2023-04-11 23:00:00                     65.67  \n",
       "\n",
       "[46056 rows x 29 columns]"
      ]
     },
     "execution_count": 37,
     "metadata": {},
     "output_type": "execute_result"
    }
   ],
   "source": [
    "df.set_index('Timestamp')"
   ]
  },
  {
   "cell_type": "code",
   "execution_count": 38,
   "id": "be89a950-60b6-4972-8b1f-ca6aa819ba49",
   "metadata": {},
   "outputs": [
    {
     "data": {
      "text/plain": [
       "array(['Timestamp', 'DK_1', 'SE_4', 'DK_1_Exports_Volume',\n",
       "       'SE_4_Exports_Volume', 'Day_Ahead_Prices', 'Forecasted Load',\n",
       "       'Actual Load', 'Solar', 'TTF=F_Price', 'CFI2Z3_Price',\n",
       "       'CO2_prices_Price', 'DE_LU_corr', 'DE_LU_Exports_Volume_corr',\n",
       "       'Year', 'Quarter', 'Month', 'Date', 'Day', 'Weekday', 'Hour',\n",
       "       'Week', 'business', 'Wind Total', 'Day_Ahead_Prices-lag24',\n",
       "       'Day_Ahead_Prices-lag36', 'Day_Ahead_Prices-lag48',\n",
       "       'Day_Ahead_Prices-lag72', 'Day_Ahead_Prices-lag168',\n",
       "       'Day_Ahead_Prices-lag-168'], dtype=object)"
      ]
     },
     "execution_count": 38,
     "metadata": {},
     "output_type": "execute_result"
    }
   ],
   "source": [
    "#df.info()\n",
    "df.columns.values"
   ]
  },
  {
   "cell_type": "code",
   "execution_count": 43,
   "id": "703bc7d2-1154-4759-a84d-6194fac0c8a2",
   "metadata": {},
   "outputs": [],
   "source": [
    "cols = df.columns.values.tolist()"
   ]
  },
  {
   "cell_type": "code",
   "execution_count": 44,
   "id": "a6138b25-a254-46f2-a89e-a53f9f8dd31f",
   "metadata": {},
   "outputs": [
    {
     "data": {
      "text/plain": [
       "list"
      ]
     },
     "execution_count": 44,
     "metadata": {},
     "output_type": "execute_result"
    }
   ],
   "source": [
    "type(cols)"
   ]
  },
  {
   "cell_type": "code",
   "execution_count": 45,
   "id": "f8fcfc58-536b-48f5-bc2f-40e899cc5f73",
   "metadata": {
    "tags": []
   },
   "outputs": [
    {
     "data": {
      "text/plain": [
       "['Timestamp',\n",
       " 'DK_1',\n",
       " 'SE_4',\n",
       " 'DK_1_Exports_Volume',\n",
       " 'SE_4_Exports_Volume',\n",
       " 'Day_Ahead_Prices',\n",
       " 'Forecasted Load',\n",
       " 'Actual Load',\n",
       " 'Solar',\n",
       " 'TTF=F_Price',\n",
       " 'CFI2Z3_Price',\n",
       " 'CO2_prices_Price',\n",
       " 'DE_LU_corr',\n",
       " 'DE_LU_Exports_Volume_corr',\n",
       " 'Year',\n",
       " 'Quarter',\n",
       " 'Month',\n",
       " 'Date',\n",
       " 'Day',\n",
       " 'Weekday',\n",
       " 'Hour',\n",
       " 'Week',\n",
       " 'business',\n",
       " 'Wind Total',\n",
       " 'Day_Ahead_Prices-lag24',\n",
       " 'Day_Ahead_Prices-lag36',\n",
       " 'Day_Ahead_Prices-lag48',\n",
       " 'Day_Ahead_Prices-lag72',\n",
       " 'Day_Ahead_Prices-lag168',\n",
       " 'Day_Ahead_Prices-lag-168']"
      ]
     },
     "execution_count": 45,
     "metadata": {},
     "output_type": "execute_result"
    }
   ],
   "source": [
    "cols"
   ]
  },
  {
   "cell_type": "code",
   "execution_count": 50,
   "id": "395e8dca-7d0a-49b5-8e76-ee2fdd9cad60",
   "metadata": {},
   "outputs": [
    {
     "ename": "ValueError",
     "evalue": "list.remove(x): x not in list",
     "output_type": "error",
     "traceback": [
      "\u001b[0;31m---------------------------------------------------------------------------\u001b[0m",
      "\u001b[0;31mValueError\u001b[0m                                Traceback (most recent call last)",
      "Cell \u001b[0;32mIn[50], line 1\u001b[0m\n\u001b[0;32m----> 1\u001b[0m features \u001b[38;5;241m=\u001b[39m \u001b[43mcols\u001b[49m\u001b[38;5;241;43m.\u001b[39;49m\u001b[43mremove\u001b[49m\u001b[43m(\u001b[49m\u001b[43m[\u001b[49m\u001b[38;5;124;43m'\u001b[39;49m\u001b[38;5;124;43mTimestamp\u001b[39;49m\u001b[38;5;124;43m'\u001b[39;49m\u001b[43m,\u001b[49m\u001b[43m \u001b[49m\u001b[38;5;124;43m'\u001b[39;49m\u001b[38;5;124;43mDay_Ahead_Prices\u001b[39;49m\u001b[38;5;124;43m'\u001b[39;49m\u001b[43m]\u001b[49m\u001b[43m)\u001b[49m\n",
      "\u001b[0;31mValueError\u001b[0m: list.remove(x): x not in list"
     ]
    }
   ],
   "source": [
    "features = cols.remove(['Timestamp', 'Day_Ahead_Prices'])"
   ]
  },
  {
   "cell_type": "code",
   "execution_count": 47,
   "id": "aaf8fb00-b1fc-4ad0-91c7-bdc7b4d75c12",
   "metadata": {},
   "outputs": [],
   "source": [
    "target = 'Day_Ahead_Prices'"
   ]
  },
  {
   "cell_type": "code",
   "execution_count": 48,
   "id": "483f617e-4a8b-48e6-b085-a937c9a2c745",
   "metadata": {},
   "outputs": [],
   "source": [
    "# setting up splits\n",
    "k_folds = 3\n",
    "train_start = pd.to_datetime(['2018-01-01', '2021-01-01', '2021-07-01'], format = '%Y-%m-%d')"
   ]
  },
  {
   "cell_type": "code",
   "execution_count": null,
   "id": "b5757e0b-8a36-49ed-8c1b-07c0a0e9e7c8",
   "metadata": {},
   "outputs": [],
   "source": []
  },
  {
   "cell_type": "code",
   "execution_count": null,
   "id": "50f4f08d-e211-44d2-ba52-b557f7630ccf",
   "metadata": {},
   "outputs": [],
   "source": []
  },
  {
   "cell_type": "code",
   "execution_count": null,
   "id": "dcff537f-2a0c-4b1d-9bba-e769fc5bc4e9",
   "metadata": {},
   "outputs": [],
   "source": []
  },
  {
   "cell_type": "code",
   "execution_count": null,
   "id": "8ff19f3b-3c37-4729-b415-4b7989e2605f",
   "metadata": {},
   "outputs": [],
   "source": []
  },
  {
   "cell_type": "code",
   "execution_count": null,
   "id": "268fd5a4-16ef-4e43-b628-bcf82e415f46",
   "metadata": {},
   "outputs": [],
   "source": []
  },
  {
   "cell_type": "code",
   "execution_count": null,
   "id": "04199dc6-ca04-4736-9ba2-422c3dae4f38",
   "metadata": {},
   "outputs": [],
   "source": []
  },
  {
   "cell_type": "code",
   "execution_count": null,
   "id": "e5ca4094-5534-45ad-9bb4-d32ba831cfab",
   "metadata": {},
   "outputs": [],
   "source": []
  },
  {
   "cell_type": "code",
   "execution_count": null,
   "id": "e0690712-2db3-4f6e-81e5-ea0a3307dd88",
   "metadata": {},
   "outputs": [],
   "source": []
  },
  {
   "cell_type": "code",
   "execution_count": null,
   "id": "3b1a675d-074b-41f4-930d-6ebb64833d40",
   "metadata": {},
   "outputs": [],
   "source": []
  },
  {
   "cell_type": "code",
   "execution_count": null,
   "id": "b67e73bd-53ac-41b2-a4e4-7e38befa5978",
   "metadata": {},
   "outputs": [],
   "source": []
  },
  {
   "cell_type": "code",
   "execution_count": null,
   "id": "6786083e-2ccc-49be-b620-7e336e89aeb7",
   "metadata": {},
   "outputs": [],
   "source": []
  },
  {
   "cell_type": "code",
   "execution_count": null,
   "id": "7905a920-22ea-4e63-a460-b87c874e258a",
   "metadata": {},
   "outputs": [],
   "source": []
  },
  {
   "cell_type": "code",
   "execution_count": 27,
   "id": "492ac2ac-fac4-4619-82b6-b86b895b5171",
   "metadata": {
    "tags": []
   },
   "outputs": [],
   "source": [
    "from sklearn.feature_selection import RFE\n",
    "from sklearn.linear_model import LinearRegression\n",
    "from sklearn.feature_selection import SelectFromModel\n",
    "from operator import itemgetter"
   ]
  },
  {
   "cell_type": "code",
   "execution_count": 28,
   "id": "c158373a-1e97-4341-aa7e-78e67bfedea0",
   "metadata": {
    "tags": []
   },
   "outputs": [],
   "source": [
    "import statsmodels.api as sm"
   ]
  },
  {
   "cell_type": "code",
   "execution_count": 2,
   "id": "68da4087-f29a-46f7-8d10-f6c606e207c5",
   "metadata": {},
   "outputs": [],
   "source": []
  },
  {
   "cell_type": "code",
   "execution_count": 32,
   "id": "506497d3-2c5b-4bdf-8e66-0f36c8d8acce",
   "metadata": {
    "tags": []
   },
   "outputs": [
    {
     "ename": "NameError",
     "evalue": "name 'lin_reg_feat_importance' is not defined",
     "output_type": "error",
     "traceback": [
      "\u001b[0;31m---------------------------------------------------------------------------\u001b[0m",
      "\u001b[0;31mNameError\u001b[0m                                 Traceback (most recent call last)",
      "Cell \u001b[0;32mIn[32], line 2\u001b[0m\n\u001b[1;32m      1\u001b[0m \u001b[38;5;66;03m# this is to call the linear regression importance feature\u001b[39;00m\n\u001b[0;32m----> 2\u001b[0m lr_imp \u001b[38;5;241m=\u001b[39m \u001b[43mlin_reg_feat_importance\u001b[49m(x_train, y_train, x_test, y_test)\n",
      "\u001b[0;31mNameError\u001b[0m: name 'lin_reg_feat_importance' is not defined"
     ]
    }
   ],
   "source": [
    "# this is to call the linear regression importance feature\n",
    "lr_imp = lin_reg_feat_importance(x_train, y_train, x_test, y_test)"
   ]
  },
  {
   "cell_type": "code",
   "execution_count": null,
   "id": "de3f216b-1414-4564-918d-bd7dfce65136",
   "metadata": {},
   "outputs": [],
   "source": []
  },
  {
   "cell_type": "code",
   "execution_count": 3,
   "id": "732c6557-2dfd-4977-8a3b-ab7f33181510",
   "metadata": {},
   "outputs": [
    {
     "ename": "NameError",
     "evalue": "name 'lr_imp' is not defined",
     "output_type": "error",
     "traceback": [
      "\u001b[0;31m---------------------------------------------------------------------------\u001b[0m",
      "\u001b[0;31mNameError\u001b[0m                                 Traceback (most recent call last)",
      "Cell \u001b[0;32mIn[3], line 2\u001b[0m\n\u001b[1;32m      1\u001b[0m \u001b[38;5;66;03m# plot\u001b[39;00m\n\u001b[0;32m----> 2\u001b[0m var_imp_plot(\u001b[43mlr_imp\u001b[49m, \u001b[38;5;124m'\u001b[39m\u001b[38;5;124mLinear regression feature importance\u001b[39m\u001b[38;5;124m'\u001b[39m)\n",
      "\u001b[0;31mNameError\u001b[0m: name 'lr_imp' is not defined"
     ]
    }
   ],
   "source": [
    "# plot\n",
    "var_imp_plot(lr_imp, 'Linear regression feature importance')"
   ]
  },
  {
   "cell_type": "code",
   "execution_count": null,
   "id": "2f33e354-5fad-4d02-be07-f641a19f44f9",
   "metadata": {},
   "outputs": [],
   "source": []
  },
  {
   "cell_type": "code",
   "execution_count": null,
   "id": "20df43e0-acd4-47a4-bc55-029fbc35eba9",
   "metadata": {},
   "outputs": [],
   "source": []
  },
  {
   "cell_type": "code",
   "execution_count": 4,
   "id": "1a8a0b27-9bb2-439f-90c0-ce56501745c0",
   "metadata": {
    "tags": []
   },
   "outputs": [],
   "source": [
    "# vlepoume\n",
    "# def feature_random_forest(x_train, y_train):\n",
    "#     rf_selector = RandomForestClassifier(n_estimators=100)\n",
    "#     fit = rf_selector.fit(x_train, y_train)\n",
    "\n",
    "#     cols = pd.DataFrame(x_train.columns)\n",
    "#     ranking = pd.DataFrame(fit.feature_importances_)\n",
    "#     rfe_selector = pd.concat([cols,ranking], axis=1)\n",
    "#     rfe_selector.columns = ['Feature','Ranking']  # name the dataframe columns\n",
    "\n",
    "#     rfe_selector = rfe_selector.nlargest(41,'Ranking').reset_index().drop('index',axis=1)\n",
    "#     print(\"Num Features: %s\" % (fit.n_features_))\n",
    "#     print(rfe_selector)"
   ]
  },
  {
   "cell_type": "code",
   "execution_count": null,
   "id": "00e6fc27-3a8a-4a4a-a524-9a66d9ccb493",
   "metadata": {},
   "outputs": [],
   "source": []
  }
 ],
 "metadata": {
  "kernelspec": {
   "display_name": "Python 3 (ipykernel)",
   "language": "python",
   "name": "python3"
  },
  "language_info": {
   "codemirror_mode": {
    "name": "ipython",
    "version": 3
   },
   "file_extension": ".py",
   "mimetype": "text/x-python",
   "name": "python",
   "nbconvert_exporter": "python",
   "pygments_lexer": "ipython3",
   "version": "3.10.10"
  }
 },
 "nbformat": 4,
 "nbformat_minor": 5
}

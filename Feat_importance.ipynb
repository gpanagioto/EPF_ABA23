{
 "cells": [
  {
   "cell_type": "code",
   "execution_count": 30,
   "id": "54f51285-a983-4322-8dd2-f57ffe580e1f",
   "metadata": {
    "tags": []
   },
   "outputs": [],
   "source": [
    "from helper import *\n",
    "from helper2 import *"
   ]
  },
  {
   "cell_type": "code",
   "execution_count": 33,
   "id": "aeb77804-b164-47a5-8cac-2ac0b13af3a5",
   "metadata": {
    "tags": []
   },
   "outputs": [
    {
     "name": "stdout",
     "output_type": "stream",
     "text": [
      "/home/dimitris/Documents/github/EPF_ABA23\n"
     ]
    }
   ],
   "source": [
    "import os\n",
    "notebook_path = os.path.abspath('')\n",
    "print(notebook_path)"
   ]
  },
  {
   "cell_type": "code",
   "execution_count": 25,
   "id": "af231597-214d-45f8-9713-07de507733cf",
   "metadata": {
    "tags": []
   },
   "outputs": [
    {
     "name": "stdout",
     "output_type": "stream",
     "text": [
      "[]\n"
     ]
    }
   ],
   "source": [
    "# Let's see if we can run Short term.ipynb here\n",
    "from notebook import notebookapp\n",
    "import requests\n",
    "import json\n",
    "\n",
    "servers = list(notebookapp.list_running_servers())\n",
    "print(servers)"
   ]
  },
  {
   "cell_type": "code",
   "execution_count": 26,
   "id": "d0ecabb3-e621-4ab5-abdc-d70f9f380a5d",
   "metadata": {
    "tags": []
   },
   "outputs": [
    {
     "data": {
      "text/html": [
       "\n",
       "        <iframe\n",
       "            width=\"100%\"\n",
       "            height=\"500px\"\n",
       "            src=\"Short term.ipynb\"\n",
       "            frameborder=\"0\"\n",
       "            allowfullscreen\n",
       "            \n",
       "        ></iframe>\n",
       "        "
      ],
      "text/plain": [
       "<IPython.lib.display.IFrame at 0x7f9d9d5af790>"
      ]
     },
     "execution_count": 26,
     "metadata": {},
     "output_type": "execute_result"
    }
   ],
   "source": [
    "from IPython.display import IFrame\n",
    "IFrame('Short term.ipynb', width='100%', height='500px')"
   ]
  },
  {
   "cell_type": "code",
   "execution_count": null,
   "id": "62f0f841-c332-481e-a204-d48120797d30",
   "metadata": {},
   "outputs": [],
   "source": []
  },
  {
   "cell_type": "code",
   "execution_count": 27,
   "id": "492ac2ac-fac4-4619-82b6-b86b895b5171",
   "metadata": {
    "tags": []
   },
   "outputs": [],
   "source": [
    "from sklearn.feature_selection import RFE\n",
    "from sklearn.linear_model import LinearRegression\n",
    "from sklearn.feature_selection import SelectFromModel\n",
    "from operator import itemgetter"
   ]
  },
  {
   "cell_type": "code",
   "execution_count": 28,
   "id": "c158373a-1e97-4341-aa7e-78e67bfedea0",
   "metadata": {
    "tags": []
   },
   "outputs": [],
   "source": [
    "import statsmodels.api as sm"
   ]
  },
  {
   "cell_type": "code",
   "execution_count": 2,
   "id": "68da4087-f29a-46f7-8d10-f6c606e207c5",
   "metadata": {},
   "outputs": [],
   "source": []
  },
  {
   "cell_type": "code",
   "execution_count": 32,
   "id": "506497d3-2c5b-4bdf-8e66-0f36c8d8acce",
   "metadata": {
    "tags": []
   },
   "outputs": [
    {
     "ename": "NameError",
     "evalue": "name 'lin_reg_feat_importance' is not defined",
     "output_type": "error",
     "traceback": [
      "\u001b[0;31m---------------------------------------------------------------------------\u001b[0m",
      "\u001b[0;31mNameError\u001b[0m                                 Traceback (most recent call last)",
      "Cell \u001b[0;32mIn[32], line 2\u001b[0m\n\u001b[1;32m      1\u001b[0m \u001b[38;5;66;03m# this is to call the linear regression importance feature\u001b[39;00m\n\u001b[0;32m----> 2\u001b[0m lr_imp \u001b[38;5;241m=\u001b[39m \u001b[43mlin_reg_feat_importance\u001b[49m(x_train, y_train, x_test, y_test)\n",
      "\u001b[0;31mNameError\u001b[0m: name 'lin_reg_feat_importance' is not defined"
     ]
    }
   ],
   "source": [
    "# this is to call the linear regression importance feature\n",
    "lr_imp = lin_reg_feat_importance(x_train, y_train, x_test, y_test)"
   ]
  },
  {
   "cell_type": "code",
   "execution_count": null,
   "id": "de3f216b-1414-4564-918d-bd7dfce65136",
   "metadata": {},
   "outputs": [],
   "source": []
  },
  {
   "cell_type": "code",
   "execution_count": 3,
   "id": "732c6557-2dfd-4977-8a3b-ab7f33181510",
   "metadata": {},
   "outputs": [
    {
     "ename": "NameError",
     "evalue": "name 'lr_imp' is not defined",
     "output_type": "error",
     "traceback": [
      "\u001b[0;31m---------------------------------------------------------------------------\u001b[0m",
      "\u001b[0;31mNameError\u001b[0m                                 Traceback (most recent call last)",
      "Cell \u001b[0;32mIn[3], line 2\u001b[0m\n\u001b[1;32m      1\u001b[0m \u001b[38;5;66;03m# plot\u001b[39;00m\n\u001b[0;32m----> 2\u001b[0m var_imp_plot(\u001b[43mlr_imp\u001b[49m, \u001b[38;5;124m'\u001b[39m\u001b[38;5;124mLinear regression feature importance\u001b[39m\u001b[38;5;124m'\u001b[39m)\n",
      "\u001b[0;31mNameError\u001b[0m: name 'lr_imp' is not defined"
     ]
    }
   ],
   "source": [
    "# plot\n",
    "var_imp_plot(lr_imp, 'Linear regression feature importance')"
   ]
  },
  {
   "cell_type": "code",
   "execution_count": null,
   "id": "2f33e354-5fad-4d02-be07-f641a19f44f9",
   "metadata": {},
   "outputs": [],
   "source": []
  },
  {
   "cell_type": "code",
   "execution_count": null,
   "id": "20df43e0-acd4-47a4-bc55-029fbc35eba9",
   "metadata": {},
   "outputs": [],
   "source": []
  },
  {
   "cell_type": "code",
   "execution_count": 4,
   "id": "1a8a0b27-9bb2-439f-90c0-ce56501745c0",
   "metadata": {
    "tags": []
   },
   "outputs": [],
   "source": [
    "# vlepoume\n",
    "# def feature_random_forest(x_train, y_train):\n",
    "#     rf_selector = RandomForestClassifier(n_estimators=100)\n",
    "#     fit = rf_selector.fit(x_train, y_train)\n",
    "\n",
    "#     cols = pd.DataFrame(x_train.columns)\n",
    "#     ranking = pd.DataFrame(fit.feature_importances_)\n",
    "#     rfe_selector = pd.concat([cols,ranking], axis=1)\n",
    "#     rfe_selector.columns = ['Feature','Ranking']  # name the dataframe columns\n",
    "\n",
    "#     rfe_selector = rfe_selector.nlargest(41,'Ranking').reset_index().drop('index',axis=1)\n",
    "#     print(\"Num Features: %s\" % (fit.n_features_))\n",
    "#     print(rfe_selector)"
   ]
  },
  {
   "cell_type": "code",
   "execution_count": null,
   "id": "00e6fc27-3a8a-4a4a-a524-9a66d9ccb493",
   "metadata": {},
   "outputs": [],
   "source": []
  }
 ],
 "metadata": {
  "kernelspec": {
   "display_name": "Python 3 (ipykernel)",
   "language": "python",
   "name": "python3"
  },
  "language_info": {
   "codemirror_mode": {
    "name": "ipython",
    "version": 3
   },
   "file_extension": ".py",
   "mimetype": "text/x-python",
   "name": "python",
   "nbconvert_exporter": "python",
   "pygments_lexer": "ipython3",
   "version": "3.10.10"
  }
 },
 "nbformat": 4,
 "nbformat_minor": 5
}

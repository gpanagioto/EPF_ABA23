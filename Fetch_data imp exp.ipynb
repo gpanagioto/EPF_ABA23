{
 "cells": [
  {
   "cell_type": "code",
   "execution_count": 1,
   "id": "03901fa8",
   "metadata": {},
   "outputs": [],
   "source": [
    "import pandas as pd\n",
    "import numpy as np"
   ]
  },
  {
   "cell_type": "code",
   "execution_count": 7,
   "id": "59e853f1",
   "metadata": {},
   "outputs": [],
   "source": [
    "import sys\n",
    "import datetime as dt"
   ]
  },
  {
   "cell_type": "code",
   "execution_count": 3,
   "id": "cda9c05d",
   "metadata": {},
   "outputs": [
    {
     "data": {
      "text/plain": [
       "'/home/gpanagioto/GitHub/AdvBA/EPF_ABA23'"
      ]
     },
     "execution_count": 3,
     "metadata": {},
     "output_type": "execute_result"
    }
   ],
   "source": [
    "sys.path[0]"
   ]
  },
  {
   "cell_type": "code",
   "execution_count": 6,
   "id": "ba8bc1e2",
   "metadata": {},
   "outputs": [
    {
     "data": {
      "text/html": [
       "<div>\n",
       "<style scoped>\n",
       "    .dataframe tbody tr th:only-of-type {\n",
       "        vertical-align: middle;\n",
       "    }\n",
       "\n",
       "    .dataframe tbody tr th {\n",
       "        vertical-align: top;\n",
       "    }\n",
       "\n",
       "    .dataframe thead th {\n",
       "        text-align: right;\n",
       "    }\n",
       "</style>\n",
       "<table border=\"1\" class=\"dataframe\">\n",
       "  <thead>\n",
       "    <tr style=\"text-align: right;\">\n",
       "      <th></th>\n",
       "      <th>Unnamed: 0</th>\n",
       "      <th>DE_AT_LU</th>\n",
       "      <th>DK_1</th>\n",
       "      <th>SE_4</th>\n",
       "    </tr>\n",
       "  </thead>\n",
       "  <tbody>\n",
       "    <tr>\n",
       "      <th>0</th>\n",
       "      <td>2018-01-01 00:00:00+01:00</td>\n",
       "      <td>600.0</td>\n",
       "      <td>585.0</td>\n",
       "      <td>0.0</td>\n",
       "    </tr>\n",
       "    <tr>\n",
       "      <th>1</th>\n",
       "      <td>2018-01-01 01:00:00+01:00</td>\n",
       "      <td>600.0</td>\n",
       "      <td>590.0</td>\n",
       "      <td>0.0</td>\n",
       "    </tr>\n",
       "    <tr>\n",
       "      <th>2</th>\n",
       "      <td>2018-01-01 02:00:00+01:00</td>\n",
       "      <td>600.0</td>\n",
       "      <td>476.0</td>\n",
       "      <td>0.0</td>\n",
       "    </tr>\n",
       "    <tr>\n",
       "      <th>3</th>\n",
       "      <td>2018-01-01 03:00:00+01:00</td>\n",
       "      <td>600.0</td>\n",
       "      <td>538.0</td>\n",
       "      <td>0.0</td>\n",
       "    </tr>\n",
       "    <tr>\n",
       "      <th>4</th>\n",
       "      <td>2018-01-01 04:00:00+01:00</td>\n",
       "      <td>600.0</td>\n",
       "      <td>520.0</td>\n",
       "      <td>0.0</td>\n",
       "    </tr>\n",
       "    <tr>\n",
       "      <th>...</th>\n",
       "      <td>...</td>\n",
       "      <td>...</td>\n",
       "      <td>...</td>\n",
       "      <td>...</td>\n",
       "    </tr>\n",
       "    <tr>\n",
       "      <th>1411</th>\n",
       "      <td>2018-02-28 19:00:00+01:00</td>\n",
       "      <td>600.0</td>\n",
       "      <td>591.0</td>\n",
       "      <td>0.0</td>\n",
       "    </tr>\n",
       "    <tr>\n",
       "      <th>1412</th>\n",
       "      <td>2018-02-28 20:00:00+01:00</td>\n",
       "      <td>600.0</td>\n",
       "      <td>590.0</td>\n",
       "      <td>0.0</td>\n",
       "    </tr>\n",
       "    <tr>\n",
       "      <th>1413</th>\n",
       "      <td>2018-02-28 21:00:00+01:00</td>\n",
       "      <td>600.0</td>\n",
       "      <td>590.0</td>\n",
       "      <td>0.0</td>\n",
       "    </tr>\n",
       "    <tr>\n",
       "      <th>1414</th>\n",
       "      <td>2018-02-28 22:00:00+01:00</td>\n",
       "      <td>600.0</td>\n",
       "      <td>590.0</td>\n",
       "      <td>0.0</td>\n",
       "    </tr>\n",
       "    <tr>\n",
       "      <th>1415</th>\n",
       "      <td>2018-02-28 23:00:00+01:00</td>\n",
       "      <td>600.0</td>\n",
       "      <td>590.0</td>\n",
       "      <td>0.0</td>\n",
       "    </tr>\n",
       "  </tbody>\n",
       "</table>\n",
       "<p>1416 rows × 4 columns</p>\n",
       "</div>"
      ],
      "text/plain": [
       "                     Unnamed: 0  DE_AT_LU   DK_1  SE_4\n",
       "0     2018-01-01 00:00:00+01:00     600.0  585.0   0.0\n",
       "1     2018-01-01 01:00:00+01:00     600.0  590.0   0.0\n",
       "2     2018-01-01 02:00:00+01:00     600.0  476.0   0.0\n",
       "3     2018-01-01 03:00:00+01:00     600.0  538.0   0.0\n",
       "4     2018-01-01 04:00:00+01:00     600.0  520.0   0.0\n",
       "...                         ...       ...    ...   ...\n",
       "1411  2018-02-28 19:00:00+01:00     600.0  591.0   0.0\n",
       "1412  2018-02-28 20:00:00+01:00     600.0  590.0   0.0\n",
       "1413  2018-02-28 21:00:00+01:00     600.0  590.0   0.0\n",
       "1414  2018-02-28 22:00:00+01:00     600.0  590.0   0.0\n",
       "1415  2018-02-28 23:00:00+01:00     600.0  590.0   0.0\n",
       "\n",
       "[1416 rows x 4 columns]"
      ]
     },
     "execution_count": 6,
     "metadata": {},
     "output_type": "execute_result"
    }
   ],
   "source": [
    "pd.read_csv(sys.path[0]+\"/data/imports/DK_2/Imports.csv\")"
   ]
  },
  {
   "cell_type": "code",
   "execution_count": 16,
   "id": "99efbab7",
   "metadata": {},
   "outputs": [],
   "source": [
    "now = dt.datetime.now().date()"
   ]
  },
  {
   "cell_type": "code",
   "execution_count": 18,
   "id": "303a1386",
   "metadata": {},
   "outputs": [
    {
     "data": {
      "text/plain": [
       "'20230415'"
      ]
     },
     "execution_count": 18,
     "metadata": {},
     "output_type": "execute_result"
    }
   ],
   "source": [
    "dt.datetime.now().date().strftime(\"%Y%m%d\")"
   ]
  },
  {
   "cell_type": "markdown",
   "id": "0ad105aa",
   "metadata": {},
   "source": [
    "# Imports"
   ]
  },
  {
   "cell_type": "code",
   "execution_count": 1,
   "id": "c83570cc",
   "metadata": {},
   "outputs": [],
   "source": [
    "import pandas as pd\n",
    "import datetime as dt\n",
    "import numpy as np\n",
    "import matplotlib.pyplot as plt\n",
    "import seaborn as sns\n",
    "from sklearn.decomposition import PCA\n",
    "#import xgboost as xg\n",
    "from entsoe import EntsoePandasClient\n",
    "from statsmodels.graphics import tsaplots"
   ]
  },
  {
   "cell_type": "markdown",
   "id": "a3f5d85f",
   "metadata": {},
   "source": [
    "# Entsoe"
   ]
  },
  {
   "cell_type": "markdown",
   "id": "6ad4578d",
   "metadata": {},
   "source": [
    "## API setup"
   ]
  },
  {
   "cell_type": "code",
   "execution_count": 2,
   "id": "129ed045",
   "metadata": {},
   "outputs": [],
   "source": [
    "client = EntsoePandasClient(api_key = '5904b3c4-7835-4b64-a741-480681944340')\n",
    "\n",
    "# period\n",
    "start = pd.Timestamp('20180101', tz = 'Europe/Copenhagen')\n",
    "end = pd.Timestamp('20230331', tz = 'Europe/Copenhagen')\n",
    "\n",
    "# countries\n",
    "country_code = 'DK_2' # Denmark (Copenhagen)\n",
    "country_code_from = 'DE_LU' # Germany - Luxemburg\n",
    "country_code_to = 'DK_2' # East Denmark"
   ]
  },
  {
   "cell_type": "markdown",
   "id": "1a034d53",
   "metadata": {},
   "source": [
    "## Queries"
   ]
  },
  {
   "cell_type": "markdown",
   "id": "6364ee83",
   "metadata": {},
   "source": [
    "Day Ahead"
   ]
  },
  {
   "cell_type": "code",
   "execution_count": 3,
   "id": "46b0b106",
   "metadata": {},
   "outputs": [],
   "source": [
    "# day-ahead prices\n",
    "day_ahead_prices_series = client.query_day_ahead_prices(country_code, start = start, end = end)"
   ]
  },
  {
   "cell_type": "code",
   "execution_count": 4,
   "id": "30b5bf99",
   "metadata": {},
   "outputs": [
    {
     "data": {
      "text/html": [
       "<div>\n",
       "<style scoped>\n",
       "    .dataframe tbody tr th:only-of-type {\n",
       "        vertical-align: middle;\n",
       "    }\n",
       "\n",
       "    .dataframe tbody tr th {\n",
       "        vertical-align: top;\n",
       "    }\n",
       "\n",
       "    .dataframe thead th {\n",
       "        text-align: right;\n",
       "    }\n",
       "</style>\n",
       "<table border=\"1\" class=\"dataframe\">\n",
       "  <thead>\n",
       "    <tr style=\"text-align: right;\">\n",
       "      <th></th>\n",
       "      <th>Day-ahead prices</th>\n",
       "    </tr>\n",
       "  </thead>\n",
       "  <tbody>\n",
       "    <tr>\n",
       "      <th>2018-01-01 00:00:00+01:00</th>\n",
       "      <td>26.33</td>\n",
       "    </tr>\n",
       "    <tr>\n",
       "      <th>2018-01-01 01:00:00+01:00</th>\n",
       "      <td>26.43</td>\n",
       "    </tr>\n",
       "    <tr>\n",
       "      <th>2018-01-01 02:00:00+01:00</th>\n",
       "      <td>26.10</td>\n",
       "    </tr>\n",
       "    <tr>\n",
       "      <th>2018-01-01 03:00:00+01:00</th>\n",
       "      <td>24.70</td>\n",
       "    </tr>\n",
       "    <tr>\n",
       "      <th>2018-01-01 04:00:00+01:00</th>\n",
       "      <td>24.74</td>\n",
       "    </tr>\n",
       "    <tr>\n",
       "      <th>...</th>\n",
       "      <td>...</td>\n",
       "    </tr>\n",
       "    <tr>\n",
       "      <th>2023-03-30 20:00:00+02:00</th>\n",
       "      <td>116.50</td>\n",
       "    </tr>\n",
       "    <tr>\n",
       "      <th>2023-03-30 21:00:00+02:00</th>\n",
       "      <td>100.80</td>\n",
       "    </tr>\n",
       "    <tr>\n",
       "      <th>2023-03-30 22:00:00+02:00</th>\n",
       "      <td>80.77</td>\n",
       "    </tr>\n",
       "    <tr>\n",
       "      <th>2023-03-30 23:00:00+02:00</th>\n",
       "      <td>60.03</td>\n",
       "    </tr>\n",
       "    <tr>\n",
       "      <th>2023-03-31 00:00:00+02:00</th>\n",
       "      <td>37.24</td>\n",
       "    </tr>\n",
       "  </tbody>\n",
       "</table>\n",
       "<p>45960 rows × 1 columns</p>\n",
       "</div>"
      ],
      "text/plain": [
       "                           Day-ahead prices\n",
       "2018-01-01 00:00:00+01:00             26.33\n",
       "2018-01-01 01:00:00+01:00             26.43\n",
       "2018-01-01 02:00:00+01:00             26.10\n",
       "2018-01-01 03:00:00+01:00             24.70\n",
       "2018-01-01 04:00:00+01:00             24.74\n",
       "...                                     ...\n",
       "2023-03-30 20:00:00+02:00            116.50\n",
       "2023-03-30 21:00:00+02:00            100.80\n",
       "2023-03-30 22:00:00+02:00             80.77\n",
       "2023-03-30 23:00:00+02:00             60.03\n",
       "2023-03-31 00:00:00+02:00             37.24\n",
       "\n",
       "[45960 rows x 1 columns]"
      ]
     },
     "execution_count": 4,
     "metadata": {},
     "output_type": "execute_result"
    }
   ],
   "source": [
    "day_ahead_prices = pd.DataFrame({'Day-ahead prices':day_ahead_prices_series})\n",
    "day_ahead_prices # check that first and last day coincide with what specified, so that the query doesn't return only chunks"
   ]
  },
  {
   "cell_type": "markdown",
   "id": "8c734b5a",
   "metadata": {},
   "source": [
    "Load and Load Forecast"
   ]
  },
  {
   "cell_type": "code",
   "execution_count": 5,
   "id": "ff162ad9",
   "metadata": {},
   "outputs": [],
   "source": [
    "# Actual load and load forecast\n",
    "load_and_forecast = client.query_load_and_forecast(country_code, start = start, end = end)"
   ]
  },
  {
   "cell_type": "code",
   "execution_count": 6,
   "id": "45bffbf4",
   "metadata": {},
   "outputs": [
    {
     "data": {
      "text/html": [
       "<div>\n",
       "<style scoped>\n",
       "    .dataframe tbody tr th:only-of-type {\n",
       "        vertical-align: middle;\n",
       "    }\n",
       "\n",
       "    .dataframe tbody tr th {\n",
       "        vertical-align: top;\n",
       "    }\n",
       "\n",
       "    .dataframe thead th {\n",
       "        text-align: right;\n",
       "    }\n",
       "</style>\n",
       "<table border=\"1\" class=\"dataframe\">\n",
       "  <thead>\n",
       "    <tr style=\"text-align: right;\">\n",
       "      <th></th>\n",
       "      <th>Forecasted Load</th>\n",
       "      <th>Actual Load</th>\n",
       "    </tr>\n",
       "  </thead>\n",
       "  <tbody>\n",
       "    <tr>\n",
       "      <th>2018-01-01 00:00:00+01:00</th>\n",
       "      <td>1591.0</td>\n",
       "      <td>1607.0</td>\n",
       "    </tr>\n",
       "    <tr>\n",
       "      <th>2018-01-01 01:00:00+01:00</th>\n",
       "      <td>1541.0</td>\n",
       "      <td>1566.0</td>\n",
       "    </tr>\n",
       "    <tr>\n",
       "      <th>2018-01-01 02:00:00+01:00</th>\n",
       "      <td>1497.0</td>\n",
       "      <td>1460.0</td>\n",
       "    </tr>\n",
       "    <tr>\n",
       "      <th>2018-01-01 03:00:00+01:00</th>\n",
       "      <td>1426.0</td>\n",
       "      <td>1424.0</td>\n",
       "    </tr>\n",
       "    <tr>\n",
       "      <th>2018-01-01 04:00:00+01:00</th>\n",
       "      <td>1378.0</td>\n",
       "      <td>1380.0</td>\n",
       "    </tr>\n",
       "    <tr>\n",
       "      <th>...</th>\n",
       "      <td>...</td>\n",
       "      <td>...</td>\n",
       "    </tr>\n",
       "    <tr>\n",
       "      <th>2023-03-30 19:00:00+02:00</th>\n",
       "      <td>1794.0</td>\n",
       "      <td>1766.0</td>\n",
       "    </tr>\n",
       "    <tr>\n",
       "      <th>2023-03-30 20:00:00+02:00</th>\n",
       "      <td>1704.0</td>\n",
       "      <td>1698.0</td>\n",
       "    </tr>\n",
       "    <tr>\n",
       "      <th>2023-03-30 21:00:00+02:00</th>\n",
       "      <td>1607.0</td>\n",
       "      <td>1601.0</td>\n",
       "    </tr>\n",
       "    <tr>\n",
       "      <th>2023-03-30 22:00:00+02:00</th>\n",
       "      <td>1522.0</td>\n",
       "      <td>1486.0</td>\n",
       "    </tr>\n",
       "    <tr>\n",
       "      <th>2023-03-30 23:00:00+02:00</th>\n",
       "      <td>1456.0</td>\n",
       "      <td>1416.0</td>\n",
       "    </tr>\n",
       "  </tbody>\n",
       "</table>\n",
       "<p>45959 rows × 2 columns</p>\n",
       "</div>"
      ],
      "text/plain": [
       "                           Forecasted Load  Actual Load\n",
       "2018-01-01 00:00:00+01:00           1591.0       1607.0\n",
       "2018-01-01 01:00:00+01:00           1541.0       1566.0\n",
       "2018-01-01 02:00:00+01:00           1497.0       1460.0\n",
       "2018-01-01 03:00:00+01:00           1426.0       1424.0\n",
       "2018-01-01 04:00:00+01:00           1378.0       1380.0\n",
       "...                                    ...          ...\n",
       "2023-03-30 19:00:00+02:00           1794.0       1766.0\n",
       "2023-03-30 20:00:00+02:00           1704.0       1698.0\n",
       "2023-03-30 21:00:00+02:00           1607.0       1601.0\n",
       "2023-03-30 22:00:00+02:00           1522.0       1486.0\n",
       "2023-03-30 23:00:00+02:00           1456.0       1416.0\n",
       "\n",
       "[45959 rows x 2 columns]"
      ]
     },
     "execution_count": 6,
     "metadata": {},
     "output_type": "execute_result"
    }
   ],
   "source": [
    "load_and_forecast # check that first and last day coincide with what specified, so that the query doesn't return only chunks"
   ]
  },
  {
   "cell_type": "markdown",
   "id": "06ec3498",
   "metadata": {},
   "source": [
    "Solar and Wind generation Forecast"
   ]
  },
  {
   "cell_type": "code",
   "execution_count": 34,
   "id": "283b1b93",
   "metadata": {},
   "outputs": [],
   "source": [
    "# Solar and wind forecast generation\n",
    "wind_solar_forecast = client.query_wind_and_solar_forecast(country_code, start = start, end = end, psr_type=None)"
   ]
  },
  {
   "cell_type": "code",
   "execution_count": null,
   "id": "a924db9a",
   "metadata": {},
   "outputs": [],
   "source": [
    "wind_solar_forecast.tail()"
   ]
  },
  {
   "cell_type": "markdown",
   "id": "12710d35",
   "metadata": {},
   "source": [
    "#### Imports"
   ]
  },
  {
   "cell_type": "code",
   "execution_count": 17,
   "id": "23f38c2f",
   "metadata": {},
   "outputs": [],
   "source": [
    "imports =  client.query_import(country_code, start, end)"
   ]
  },
  {
   "cell_type": "code",
   "execution_count": 18,
   "id": "ef543854",
   "metadata": {},
   "outputs": [
    {
     "data": {
      "text/html": [
       "<div>\n",
       "<style scoped>\n",
       "    .dataframe tbody tr th:only-of-type {\n",
       "        vertical-align: middle;\n",
       "    }\n",
       "\n",
       "    .dataframe tbody tr th {\n",
       "        vertical-align: top;\n",
       "    }\n",
       "\n",
       "    .dataframe thead th {\n",
       "        text-align: right;\n",
       "    }\n",
       "</style>\n",
       "<table border=\"1\" class=\"dataframe\">\n",
       "  <thead>\n",
       "    <tr style=\"text-align: right;\">\n",
       "      <th></th>\n",
       "      <th>DE_AT_LU</th>\n",
       "      <th>DE_LU</th>\n",
       "      <th>DK_1</th>\n",
       "      <th>SE_4</th>\n",
       "    </tr>\n",
       "  </thead>\n",
       "  <tbody>\n",
       "    <tr>\n",
       "      <th>2018-01-01 00:00:00+01:00</th>\n",
       "      <td>600.0</td>\n",
       "      <td>NaN</td>\n",
       "      <td>585.0</td>\n",
       "      <td>0.0</td>\n",
       "    </tr>\n",
       "    <tr>\n",
       "      <th>2018-01-01 01:00:00+01:00</th>\n",
       "      <td>600.0</td>\n",
       "      <td>NaN</td>\n",
       "      <td>590.0</td>\n",
       "      <td>0.0</td>\n",
       "    </tr>\n",
       "    <tr>\n",
       "      <th>2018-01-01 02:00:00+01:00</th>\n",
       "      <td>600.0</td>\n",
       "      <td>NaN</td>\n",
       "      <td>476.0</td>\n",
       "      <td>0.0</td>\n",
       "    </tr>\n",
       "    <tr>\n",
       "      <th>2018-01-01 03:00:00+01:00</th>\n",
       "      <td>600.0</td>\n",
       "      <td>NaN</td>\n",
       "      <td>538.0</td>\n",
       "      <td>0.0</td>\n",
       "    </tr>\n",
       "    <tr>\n",
       "      <th>2018-01-01 04:00:00+01:00</th>\n",
       "      <td>600.0</td>\n",
       "      <td>NaN</td>\n",
       "      <td>520.0</td>\n",
       "      <td>0.0</td>\n",
       "    </tr>\n",
       "    <tr>\n",
       "      <th>...</th>\n",
       "      <td>...</td>\n",
       "      <td>...</td>\n",
       "      <td>...</td>\n",
       "      <td>...</td>\n",
       "    </tr>\n",
       "    <tr>\n",
       "      <th>2023-03-30 22:45:00+02:00</th>\n",
       "      <td>NaN</td>\n",
       "      <td>0.0</td>\n",
       "      <td>NaN</td>\n",
       "      <td>NaN</td>\n",
       "    </tr>\n",
       "    <tr>\n",
       "      <th>2023-03-30 23:00:00+02:00</th>\n",
       "      <td>NaN</td>\n",
       "      <td>0.0</td>\n",
       "      <td>0.0</td>\n",
       "      <td>660.0</td>\n",
       "    </tr>\n",
       "    <tr>\n",
       "      <th>2023-03-30 23:15:00+02:00</th>\n",
       "      <td>NaN</td>\n",
       "      <td>0.0</td>\n",
       "      <td>NaN</td>\n",
       "      <td>NaN</td>\n",
       "    </tr>\n",
       "    <tr>\n",
       "      <th>2023-03-30 23:30:00+02:00</th>\n",
       "      <td>NaN</td>\n",
       "      <td>0.0</td>\n",
       "      <td>NaN</td>\n",
       "      <td>NaN</td>\n",
       "    </tr>\n",
       "    <tr>\n",
       "      <th>2023-03-30 23:45:00+02:00</th>\n",
       "      <td>NaN</td>\n",
       "      <td>0.0</td>\n",
       "      <td>NaN</td>\n",
       "      <td>NaN</td>\n",
       "    </tr>\n",
       "  </tbody>\n",
       "</table>\n",
       "<p>89657 rows × 4 columns</p>\n",
       "</div>"
      ],
      "text/plain": [
       "                           DE_AT_LU  DE_LU   DK_1   SE_4\n",
       "2018-01-01 00:00:00+01:00     600.0    NaN  585.0    0.0\n",
       "2018-01-01 01:00:00+01:00     600.0    NaN  590.0    0.0\n",
       "2018-01-01 02:00:00+01:00     600.0    NaN  476.0    0.0\n",
       "2018-01-01 03:00:00+01:00     600.0    NaN  538.0    0.0\n",
       "2018-01-01 04:00:00+01:00     600.0    NaN  520.0    0.0\n",
       "...                             ...    ...    ...    ...\n",
       "2023-03-30 22:45:00+02:00       NaN    0.0    NaN    NaN\n",
       "2023-03-30 23:00:00+02:00       NaN    0.0    0.0  660.0\n",
       "2023-03-30 23:15:00+02:00       NaN    0.0    NaN    NaN\n",
       "2023-03-30 23:30:00+02:00       NaN    0.0    NaN    NaN\n",
       "2023-03-30 23:45:00+02:00       NaN    0.0    NaN    NaN\n",
       "\n",
       "[89657 rows x 4 columns]"
      ]
     },
     "execution_count": 18,
     "metadata": {},
     "output_type": "execute_result"
    }
   ],
   "source": [
    "imports"
   ]
  },
  {
   "cell_type": "markdown",
   "id": "abb59261",
   "metadata": {},
   "source": [
    "#### Exports"
   ]
  },
  {
   "cell_type": "code",
   "execution_count": 32,
   "id": "b19ac484",
   "metadata": {},
   "outputs": [],
   "source": [
    "exports1 =  client.query_crossborder_flows(country_code, 'DE_LU', start = start, end = end)\n",
    "exports2 =  client.query_crossborder_flows(country_code, 'DK_1', start = start, end = end)\n",
    "exports3 =  client.query_crossborder_flows(country_code, 'SE_4', start = start, end = end)"
   ]
  },
  {
   "cell_type": "code",
   "execution_count": 27,
   "id": "f0964b52",
   "metadata": {},
   "outputs": [],
   "source": [
    "exportsDLA = client.query_crossborder_flows(country_code, 'DE_AT_LU', start = start, end = end)"
   ]
  },
  {
   "cell_type": "code",
   "execution_count": 28,
   "id": "c5128cb6",
   "metadata": {},
   "outputs": [
    {
     "data": {
      "text/plain": [
       "2018-01-01 00:00:00+01:00      0.0\n",
       "2018-01-01 01:00:00+01:00      0.0\n",
       "2018-01-01 02:00:00+01:00      0.0\n",
       "2018-01-01 03:00:00+01:00      0.0\n",
       "2018-01-01 04:00:00+01:00      0.0\n",
       "                             ...  \n",
       "2018-09-30 19:00:00+02:00    241.0\n",
       "2018-09-30 20:00:00+02:00    270.0\n",
       "2018-09-30 21:00:00+02:00    496.0\n",
       "2018-09-30 22:00:00+02:00    581.0\n",
       "2018-09-30 23:00:00+02:00    527.0\n",
       "Freq: 60T, Length: 6551, dtype: float64"
      ]
     },
     "execution_count": 28,
     "metadata": {},
     "output_type": "execute_result"
    }
   ],
   "source": [
    "exports1\n",
    "exports2\n",
    "exports3\n",
    "exportsDLA"
   ]
  },
  {
   "cell_type": "code",
   "execution_count": 33,
   "id": "a85f364c",
   "metadata": {},
   "outputs": [
    {
     "data": {
      "text/plain": [
       "2018-10-01 00:00:00+02:00    365.0\n",
       "2018-10-01 01:00:00+02:00    538.0\n",
       "2018-10-01 02:00:00+02:00    550.0\n",
       "2018-10-01 03:00:00+02:00    584.0\n",
       "2018-10-01 04:00:00+02:00    585.0\n",
       "                             ...  \n",
       "2023-03-30 22:45:00+02:00    627.0\n",
       "2023-03-30 23:00:00+02:00    639.0\n",
       "2023-03-30 23:15:00+02:00    638.0\n",
       "2023-03-30 23:30:00+02:00    640.0\n",
       "2023-03-30 23:45:00+02:00    642.0\n",
       "Length: 83106, dtype: float64"
      ]
     },
     "execution_count": 33,
     "metadata": {},
     "output_type": "execute_result"
    }
   ],
   "source": [
    "exports1"
   ]
  },
  {
   "cell_type": "code",
   "execution_count": 12,
   "id": "1c216112",
   "metadata": {},
   "outputs": [
    {
     "name": "stdout",
     "output_type": "stream",
     "text": [
      "<class 'pandas.core.frame.DataFrame'>\n",
      "DatetimeIndex: 89657 entries, 2018-01-01 00:00:00+01:00 to 2023-03-30 23:45:00+02:00\n",
      "Data columns (total 4 columns):\n",
      " #   Column    Non-Null Count  Dtype  \n",
      "---  ------    --------------  -----  \n",
      " 0   DE_AT_LU  6551 non-null   float64\n",
      " 1   DE_LU     83106 non-null  float64\n",
      " 2   DK_1      45958 non-null  float64\n",
      " 3   SE_4      45959 non-null  float64\n",
      "dtypes: float64(4)\n",
      "memory usage: 3.4 MB\n"
     ]
    }
   ],
   "source": [
    "imports.info()"
   ]
  },
  {
   "cell_type": "code",
   "execution_count": null,
   "id": "3c8ccb64",
   "metadata": {},
   "outputs": [],
   "source": []
  },
  {
   "cell_type": "markdown",
   "id": "2d4c6541",
   "metadata": {},
   "source": [
    "### Wind Solar Forecast"
   ]
  },
  {
   "cell_type": "code",
   "execution_count": 13,
   "id": "ef37465e",
   "metadata": {},
   "outputs": [
    {
     "data": {
      "text/html": [
       "<div>\n",
       "<style scoped>\n",
       "    .dataframe tbody tr th:only-of-type {\n",
       "        vertical-align: middle;\n",
       "    }\n",
       "\n",
       "    .dataframe tbody tr th {\n",
       "        vertical-align: top;\n",
       "    }\n",
       "\n",
       "    .dataframe thead th {\n",
       "        text-align: right;\n",
       "    }\n",
       "</style>\n",
       "<table border=\"1\" class=\"dataframe\">\n",
       "  <thead>\n",
       "    <tr style=\"text-align: right;\">\n",
       "      <th></th>\n",
       "      <th>Solar</th>\n",
       "      <th>Wind Offshore</th>\n",
       "      <th>Wind Onshore</th>\n",
       "    </tr>\n",
       "  </thead>\n",
       "  <tbody>\n",
       "    <tr>\n",
       "      <th>2018-01-01 00:00:00+01:00</th>\n",
       "      <td>0.0</td>\n",
       "      <td>245.0</td>\n",
       "      <td>339.0</td>\n",
       "    </tr>\n",
       "    <tr>\n",
       "      <th>2018-01-01 01:00:00+01:00</th>\n",
       "      <td>0.0</td>\n",
       "      <td>264.0</td>\n",
       "      <td>347.0</td>\n",
       "    </tr>\n",
       "    <tr>\n",
       "      <th>2018-01-01 02:00:00+01:00</th>\n",
       "      <td>0.0</td>\n",
       "      <td>291.0</td>\n",
       "      <td>356.0</td>\n",
       "    </tr>\n",
       "    <tr>\n",
       "      <th>2018-01-01 03:00:00+01:00</th>\n",
       "      <td>0.0</td>\n",
       "      <td>300.0</td>\n",
       "      <td>363.0</td>\n",
       "    </tr>\n",
       "    <tr>\n",
       "      <th>2018-01-01 04:00:00+01:00</th>\n",
       "      <td>0.0</td>\n",
       "      <td>336.0</td>\n",
       "      <td>385.0</td>\n",
       "    </tr>\n",
       "    <tr>\n",
       "      <th>...</th>\n",
       "      <td>...</td>\n",
       "      <td>...</td>\n",
       "      <td>...</td>\n",
       "    </tr>\n",
       "    <tr>\n",
       "      <th>2023-03-30 19:00:00+02:00</th>\n",
       "      <td>2.0</td>\n",
       "      <td>666.0</td>\n",
       "      <td>324.0</td>\n",
       "    </tr>\n",
       "    <tr>\n",
       "      <th>2023-03-30 20:00:00+02:00</th>\n",
       "      <td>0.0</td>\n",
       "      <td>749.0</td>\n",
       "      <td>334.0</td>\n",
       "    </tr>\n",
       "    <tr>\n",
       "      <th>2023-03-30 21:00:00+02:00</th>\n",
       "      <td>0.0</td>\n",
       "      <td>833.0</td>\n",
       "      <td>361.0</td>\n",
       "    </tr>\n",
       "    <tr>\n",
       "      <th>2023-03-30 22:00:00+02:00</th>\n",
       "      <td>0.0</td>\n",
       "      <td>833.0</td>\n",
       "      <td>374.0</td>\n",
       "    </tr>\n",
       "    <tr>\n",
       "      <th>2023-03-30 23:00:00+02:00</th>\n",
       "      <td>0.0</td>\n",
       "      <td>803.0</td>\n",
       "      <td>373.0</td>\n",
       "    </tr>\n",
       "  </tbody>\n",
       "</table>\n",
       "<p>45863 rows × 3 columns</p>\n",
       "</div>"
      ],
      "text/plain": [
       "                           Solar  Wind Offshore  Wind Onshore\n",
       "2018-01-01 00:00:00+01:00    0.0          245.0         339.0\n",
       "2018-01-01 01:00:00+01:00    0.0          264.0         347.0\n",
       "2018-01-01 02:00:00+01:00    0.0          291.0         356.0\n",
       "2018-01-01 03:00:00+01:00    0.0          300.0         363.0\n",
       "2018-01-01 04:00:00+01:00    0.0          336.0         385.0\n",
       "...                          ...            ...           ...\n",
       "2023-03-30 19:00:00+02:00    2.0          666.0         324.0\n",
       "2023-03-30 20:00:00+02:00    0.0          749.0         334.0\n",
       "2023-03-30 21:00:00+02:00    0.0          833.0         361.0\n",
       "2023-03-30 22:00:00+02:00    0.0          833.0         374.0\n",
       "2023-03-30 23:00:00+02:00    0.0          803.0         373.0\n",
       "\n",
       "[45863 rows x 3 columns]"
      ]
     },
     "execution_count": 13,
     "metadata": {},
     "output_type": "execute_result"
    }
   ],
   "source": [
    "wind_solar_forecast # check that first and last day coincide with what specified, so that the query doesn't return only chunks"
   ]
  },
  {
   "cell_type": "code",
   "execution_count": 14,
   "id": "7aebcadf",
   "metadata": {},
   "outputs": [
    {
     "data": {
      "image/png": "[encoded data removed]",
      "text/plain": [
       "<Figure size 640x480 with 1 Axes>"
      ]
     },
     "metadata": {},
     "output_type": "display_data"
    }
   ],
   "source": [
    "plt.plot(wind_solar_forecast['Solar'])\n",
    "plt.title('Energy generation \\nSolar')\n",
    "plt.ylabel('MWh')\n",
    "plt.show()"
   ]
  },
  {
   "cell_type": "code",
   "execution_count": 15,
   "id": "6281bc93",
   "metadata": {},
   "outputs": [
    {
     "data": {
      "image/png": "[encoded data removed]",
      "text/plain": [
       "<Figure size 640x480 with 1 Axes>"
      ]
     },
     "metadata": {},
     "output_type": "display_data"
    }
   ],
   "source": [
    "plt.plot(wind_solar_forecast['Wind Onshore']+wind_solar_forecast['Wind Offshore'])\n",
    "plt.title('Energy generation \\nWind (offshore  + onshore)')\n",
    "plt.ylabel('MWh')\n",
    "plt.show()"
   ]
  },
  {
   "cell_type": "markdown",
   "id": "40aded05",
   "metadata": {},
   "source": [
    "## Saving the data"
   ]
  },
  {
   "cell_type": "code",
   "execution_count": 35,
   "id": "33febe3d",
   "metadata": {},
   "outputs": [],
   "source": [
    "day_ahead_prices.to_csv('day_ahead_prices.csv')\n",
    "load_and_forecast.to_csv('load_and_forecast.csv')\n",
    "wind_solar_forecast.to_csv('wind_solar_forecast.csv')\n",
    "imports.to_csv('energy_imports.csv')\n",
    "exports1.to_csv('exportsDELU.csv')\n",
    "exports2.to_csv('exportsDK1.csv')\n",
    "exports3.to_csv('exportsSE4.csv')"
   ]
  },
  {
   "cell_type": "code",
   "execution_count": null,
   "id": "704b22dc",
   "metadata": {},
   "outputs": [],
   "source": []
  }
 ],
 "metadata": {
  "kernelspec": {
   "display_name": "advba",
   "language": "python",
   "name": "advba"
  },
  "language_info": {
   "codemirror_mode": {
    "name": "ipython",
    "version": 3
   },
   "file_extension": ".py",
   "mimetype": "text/x-python",
   "name": "python",
   "nbconvert_exporter": "python",
   "pygments_lexer": "ipython3",
   "version": "3.10.6"
  }
 },
 "nbformat": 4,
 "nbformat_minor": 5
}

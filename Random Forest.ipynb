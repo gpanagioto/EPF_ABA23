{
 "cells": [
  {
   "cell_type": "markdown",
   "id": "4328c32b",
   "metadata": {},
   "source": [
    "# Imports"
   ]
  },
  {
   "cell_type": "code",
   "execution_count": 1,
   "id": "467947c7",
   "metadata": {},
   "outputs": [],
   "source": [
    "import pandas as pd\n",
    "import numpy as np\n",
    "import matplotlib.pyplot as plt\n",
    "import seaborn as sns\n",
    "%matplotlib inline\n",
    "import warnings\n",
    "warnings.filterwarnings('ignore')\n",
    "\n",
    "from sklearn import metrics\n",
    "from sklearn.ensemble import RandomForestRegressor\n",
    "\n",
    "from xgboost import *"
   ]
  },
  {
   "cell_type": "code",
   "execution_count": 2,
   "id": "63c8b6e8",
   "metadata": {},
   "outputs": [],
   "source": [
    "from helper import *"
   ]
  },
  {
   "cell_type": "markdown",
   "id": "4377af20",
   "metadata": {},
   "source": [
    "# Models"
   ]
  },
  {
   "cell_type": "code",
   "execution_count": null,
   "id": "0fda5c32",
   "metadata": {},
   "outputs": [],
   "source": [
    "def short_term(model,x_train,y_train,x_test,y_test,x_val=False,y_val=False):\n",
    "    if model=='rft':\n",
    "        # perform randomized search cross validation\n",
    "        rf = RandomForestRegressor(random_state=42)\n",
    "        rf_random = RandomizedSearchCV(estimator = rf, param_distributions = random_grid, n_iter = 30, cv = 3, random_state=42, n_jobs = -1)\n",
    "        rf_random.fit(x_train, y_train)\n",
    "        # the optimal paramenters\n",
    "        rf_random.best_estimator_.get_params()\n",
    "        # evaluate the optimal model\n",
    "        model_ = rf_random.best_estimator_\n",
    "        \n",
    "    elif model=='xgbc':\n",
    "        xgbc=XGBClassifier(n_estimators=500, learning_rate=0.1, max_depth=2)\n",
    "        xgbc.fit(x_train, y_train)\n",
    "        model_=xgbc\n",
    "    \n",
    "    ypred = model_.predict(x_test)\n",
    "    \n",
    "    model_evaluation(y_test, ypred)\n",
    "    \n",
    "    return model_"
   ]
  },
  {
   "cell_type": "code",
   "execution_count": null,
   "id": "8d44ae27",
   "metadata": {},
   "outputs": [],
   "source": [
    "df = read_our_data('DK_2_filled.csv')"
   ]
  },
  {
   "cell_type": "code",
   "execution_count": null,
   "id": "ae2ace01",
   "metadata": {},
   "outputs": [],
   "source": []
  }
 ],
 "metadata": {
  "kernelspec": {
   "display_name": "epf",
   "language": "python",
   "name": "epf"
  },
  "language_info": {
   "codemirror_mode": {
    "name": "ipython",
    "version": 3
   },
   "file_extension": ".py",
   "mimetype": "text/x-python",
   "name": "python",
   "nbconvert_exporter": "python",
   "pygments_lexer": "ipython3",
   "version": "3.9.7"
  }
 },
 "nbformat": 4,
 "nbformat_minor": 5
}

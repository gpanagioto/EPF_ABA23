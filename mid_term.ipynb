{
 "cells": [
  {
   "cell_type": "markdown",
   "id": "4328c32b",
   "metadata": {},
   "source": [
    "# Imports"
   ]
  },
  {
   "cell_type": "code",
   "execution_count": 1,
   "id": "63c8b6e8",
   "metadata": {},
   "outputs": [
    {
     "name": "stderr",
     "output_type": "stream",
     "text": [
      "2023-04-25 00:47:25.455924: I tensorflow/tsl/cuda/cudart_stub.cc:28] Could not find cuda drivers on your machine, GPU will not be used.\n",
      "2023-04-25 00:47:25.511529: I tensorflow/tsl/cuda/cudart_stub.cc:28] Could not find cuda drivers on your machine, GPU will not be used.\n",
      "2023-04-25 00:47:25.512241: I tensorflow/core/platform/cpu_feature_guard.cc:182] This TensorFlow binary is optimized to use available CPU instructions in performance-critical operations.\n",
      "To enable the following instructions: AVX2 FMA, in other operations, rebuild TensorFlow with the appropriate compiler flags.\n",
      "2023-04-25 00:47:26.491404: W tensorflow/compiler/tf2tensorrt/utils/py_utils.cc:38] TF-TRT Warning: Could not find TensorRT\n"
     ]
    }
   ],
   "source": [
    "%%capture\n",
    "%load_ext autoreload\n",
    "from helper import *\n",
    "%autoreload\n",
    "%aimport helper"
   ]
  },
  {
   "cell_type": "markdown",
   "id": "8cd23ec5",
   "metadata": {},
   "source": [
    "# Data-transformation for mid term"
   ]
  },
  {
   "cell_type": "code",
   "execution_count": 2,
   "id": "ab0d9ee2",
   "metadata": {},
   "outputs": [],
   "source": [
    "# setting up features and target\n",
    "cols_std = ['ttf_price', 'coal_price', 'co2_price','DK_1_imports_mean4',\n",
    "       'SE_4_imports_mean4', 'DK_1_exports_mean4', 'SE_4_exports_mean4',\n",
    "       'Actual_Load_mean4', 'Solar_[MW]_mean4', 'DE_LU_AT_imports_mean4',\n",
    "       'DE_LU_AT_exports_mean4', 'Wind Total_mean4'] \n",
    "features = cols_std + ['Quarter', 'Month', 'Year', 'Weekday', 'Hour', 'Week', 'business']\n",
    "target = 'Day_Ahead_Prices'"
   ]
  },
  {
   "cell_type": "code",
   "execution_count": 4,
   "id": "c46c036a",
   "metadata": {},
   "outputs": [
    {
     "data": {
      "text/plain": [
       "Index(['Timestamp', 'Day_Ahead_price', 'ttf_price', 'coal_price', 'co2_price',\n",
       "       'Hour', 'Weekday', 'business', 'DK_1_imports_mean4',\n",
       "       'SE_4_imports_mean4', 'DK_1_exports_mean4', 'SE_4_exports_mean4',\n",
       "       'Actual_Load_mean4', 'Solar_[MW]_mean4', 'DE_LU_AT_imports_mean4',\n",
       "       'DE_LU_AT_exports_mean4', 'Wind Total_mean4'],\n",
       "      dtype='object')"
      ]
     },
     "execution_count": 4,
     "metadata": {},
     "output_type": "execute_result"
    }
   ],
   "source": [
    "# setting up splits\n",
    "train_start = pd.to_datetime(['2018-01-01', '2021-01-01', '2021-07-01'], format = '%Y-%m-%d')\n",
    "k_folds = len(train_start)\n",
    "\n",
    "\n",
    "df = pd.read_csv('dataset_management\\data\\clean\\mean_lagged.csv', parse_dates=['Timestamp'])\n",
    "df=df[:-288]\n",
    "\n",
    "df.columns"
   ]
  },
  {
   "cell_type": "markdown",
   "id": "4377af20",
   "metadata": {},
   "source": [
    "# Models"
   ]
  },
  {
   "cell_type": "markdown",
   "id": "aad9534c",
   "metadata": {},
   "source": [
    "## Split - Method = 0\n",
    "The approach is to train and test in consecutive/sequential blocks, devoting 85% to training and 15% to test."
   ]
  },
  {
   "cell_type": "code",
   "execution_count": null,
   "id": "6e7afaae",
   "metadata": {},
   "outputs": [],
   "source": [
    "split_method = 0\n",
    "df_lagged=df_lagged.drop(['Day_Ahead_Prices-lag-168'], axis = 1)\n"
   ]
  },
  {
   "cell_type": "markdown",
   "id": "a70cea7f",
   "metadata": {},
   "source": [
    "### Baseline"
   ]
  },
  {
   "cell_type": "code",
   "execution_count": null,
   "id": "dd746a39",
   "metadata": {
    "scrolled": false
   },
   "outputs": [],
   "source": [
    "lr_pred_0, lr_model_0 = run_model('lr', df_lagged1, k_folds, split_method,\n",
    "                                         train_start, features, target, cols_std)"
   ]
  },
  {
   "cell_type": "code",
   "execution_count": null,
   "id": "d90d7efd",
   "metadata": {},
   "outputs": [],
   "source": [
    "lr_model_0"
   ]
  },
  {
   "cell_type": "markdown",
   "id": "2013249a",
   "metadata": {},
   "source": [
    "### Moving average"
   ]
  },
  {
   "cell_type": "code",
   "execution_count": null,
   "id": "157ce4a4",
   "metadata": {},
   "outputs": [],
   "source": [
    "df_ma_0 = run_model('ma', df_lagged, k_folds, split_method,\n",
    "                                         train_start, features, target, cols_std, pred_window = 24*1)\n",
    "\n",
    "df_ma_0.dropna(how = 'any', axis = 0, inplace = True)\n",
    "df_ma_0.drop(df_ma_0[df_ma_0[target] == 0].index, inplace = True)"
   ]
  },
  {
   "cell_type": "code",
   "execution_count": null,
   "id": "bf60660a",
   "metadata": {},
   "outputs": [],
   "source": [
    "ytrue = np.array(df_ma_0[target]).ravel()\n",
    "ypred = np.array(df_ma_0['pred']).ravel()"
   ]
  },
  {
   "cell_type": "code",
   "execution_count": null,
   "id": "01e5ee4e",
   "metadata": {
    "scrolled": false
   },
   "outputs": [],
   "source": [
    "model_evaluation(ytrue, ypred)"
   ]
  },
  {
   "cell_type": "markdown",
   "id": "c18753b9",
   "metadata": {},
   "source": [
    "### Random Forest"
   ]
  },
  {
   "cell_type": "code",
   "execution_count": null,
   "id": "e2a44280",
   "metadata": {
    "scrolled": false
   },
   "outputs": [],
   "source": [
    "rf_pred_0, rf_models_0 = run_model('rf', df_lagged, k_folds, split_method, train_start, features, target, cols_std)"
   ]
  },
  {
   "cell_type": "markdown",
   "id": "1f2f2f5c",
   "metadata": {},
   "source": [
    "### XGBoost"
   ]
  },
  {
   "cell_type": "code",
   "execution_count": null,
   "id": "19362dcf",
   "metadata": {
    "scrolled": false
   },
   "outputs": [],
   "source": [
    "xgb_pred_0, xgb_models_0 = run_model('xgb', df_lagged, k_folds, split_method, train_start, features, target, cols_std,'short_term')"
   ]
  },
  {
   "cell_type": "markdown",
   "id": "046a3ce7",
   "metadata": {},
   "source": [
    "## Split - Method = 1\n",
    "The approach is to split the data in increasing blocks. The size of the train set increases, whereas the size of the test remains 3 months."
   ]
  },
  {
   "cell_type": "code",
   "execution_count": null,
   "id": "e91306e9",
   "metadata": {},
   "outputs": [],
   "source": [
    "split_method = 1"
   ]
  },
  {
   "cell_type": "code",
   "execution_count": null,
   "id": "3caaa2bd",
   "metadata": {
    "scrolled": false
   },
   "outputs": [],
   "source": [
    "lr_pred_1, lr_model_1 = run_model('lr', df_lagged, k_folds, split_method,\n",
    "                                         train_start, features, target, cols_std)"
   ]
  },
  {
   "cell_type": "code",
   "execution_count": null,
   "id": "411f2786",
   "metadata": {
    "scrolled": false
   },
   "outputs": [],
   "source": [
    "rf_pred_1, rf_models_1 = run_model('rf', df_lagged, k_folds, split_method, train_start, features, target, cols_std, 'short_term')"
   ]
  },
  {
   "cell_type": "code",
   "execution_count": null,
   "id": "f9a192ad",
   "metadata": {
    "scrolled": false
   },
   "outputs": [],
   "source": [
    "xgb_pred_1, xgb_models_1 = run_model('xgb', df_lagged, k_folds, split_method, train_start, features, target, cols_std)"
   ]
  },
  {
   "cell_type": "markdown",
   "id": "88041f5e",
   "metadata": {},
   "source": [
    "#### NOTES FRANCISCO/FREDERIK 14/04<br>\n",
    "correlation between ytrue and ypred, RMSE can be hard to refrence.<br>\n",
    "use power transform instead of log (how?)"
   ]
  },
  {
   "cell_type": "markdown",
   "id": "978ca373",
   "metadata": {},
   "source": [
    "# Long term"
   ]
  },
  {
   "cell_type": "code",
   "execution_count": 5,
   "id": "27837d6d",
   "metadata": {},
   "outputs": [],
   "source": [
    "from skforecast.ForecasterAutoreg import ForecasterAutoreg\n",
    "from sklearn.linear_model import Ridge\n",
    "\n",
    "\n",
    "r=df.copy()\n",
    "r = r.set_index('Timestamp')\n",
    "\n",
    "def build_far(x_train, y_train, x_test,steps): # same split as short term\n",
    "    model_ = ForecasterAutoreg(regressor = Ridge(),lags = 336)\n",
    "    model_.fit(y=y_train,exog=x_train)\n",
    "    ypred = model_.predict(steps = steps,exog = x_test)\n",
    "# Add datetime index to predictions\n",
    "    #ypred = pd.Series(data=ypred, index=x_test.index)\n",
    "    return ypred, model_"
   ]
  },
  {
   "cell_type": "code",
   "execution_count": null,
   "id": "442dd936",
   "metadata": {},
   "outputs": [],
   "source": []
  }
 ],
 "metadata": {
  "kernelspec": {
   "display_name": "advba",
   "language": "python",
   "name": "advba"
  },
  "language_info": {
   "codemirror_mode": {
    "name": "ipython",
    "version": 3
   },
   "file_extension": ".py",
   "mimetype": "text/x-python",
   "name": "python",
   "nbconvert_exporter": "python",
   "pygments_lexer": "ipython3",
   "version": "3.10.6"
  }
 },
 "nbformat": 4,
 "nbformat_minor": 5
}

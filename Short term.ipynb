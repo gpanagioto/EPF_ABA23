{
 "cells": [
  {
   "cell_type": "markdown",
   "id": "4328c32b",
   "metadata": {},
   "source": [
    "# Imports"
   ]
  },
  {
   "cell_type": "code",
   "execution_count": 1,
   "id": "467947c7",
   "metadata": {},
   "outputs": [],
   "source": [
    "import pandas as pd\n",
    "import numpy as np\n",
    "import matplotlib.pyplot as plt\n",
    "import seaborn as sns\n",
    "%matplotlib inline\n",
    "import warnings\n",
    "warnings.filterwarnings('ignore')\n",
    "\n",
    "from sklearn import metrics\n",
    "from sklearn.ensemble import RandomForestRegressor\n",
    "\n",
    "from xgboost import *"
   ]
  },
  {
   "cell_type": "code",
   "execution_count": 26,
   "id": "63c8b6e8",
   "metadata": {},
   "outputs": [],
   "source": [
    "from helper import *"
   ]
  },
  {
   "cell_type": "markdown",
   "id": "4377af20",
   "metadata": {},
   "source": [
    "# Models"
   ]
  },
  {
   "cell_type": "code",
   "execution_count": 3,
   "id": "0fda5c32",
   "metadata": {},
   "outputs": [],
   "source": [
    "def short_term(model,x_train,y_train,x_test,y_test,x_val=False,y_val=False):\n",
    "    if model=='rft':\n",
    "        # perform randomized search cross validation\n",
    "        rf = RandomForestRegressor(random_state=42)\n",
    "#         rf_random = RandomizedSearchCV(estimator = rf, param_distributions = random_grid, n_iter = 30, cv = 3, random_state=42, n_jobs = -1)\n",
    "        rf_random.fit(x_train, y_train)\n",
    "        # the optimal parameters\n",
    "        rf_random.best_estimator_.get_params()\n",
    "        # evaluate the optimal model\n",
    "        model_ = rf_random.best_estimator_\n",
    "        \n",
    "    elif model=='xgbc':\n",
    "        xgbc=XGBClassifier(n_estimators=500, learning_rate=0.1, max_depth=2)\n",
    "        xgbc.fit(x_train, y_train)\n",
    "        model_=xgbc\n",
    "    \n",
    "    ypred = model_.predict(x_test)\n",
    "    \n",
    "    model_evaluation(y_test, ypred)\n",
    "    \n",
    "    return model_"
   ]
  },
  {
   "cell_type": "code",
   "execution_count": 4,
   "id": "8d44ae27",
   "metadata": {},
   "outputs": [],
   "source": [
    "df = read_our_data('DK_2_filled.csv')"
   ]
  },
  {
   "cell_type": "code",
   "execution_count": 5,
   "id": "90e1989b",
   "metadata": {},
   "outputs": [
    {
     "data": {
      "text/html": [
       "<div>\n",
       "<style scoped>\n",
       "    .dataframe tbody tr th:only-of-type {\n",
       "        vertical-align: middle;\n",
       "    }\n",
       "\n",
       "    .dataframe tbody tr th {\n",
       "        vertical-align: top;\n",
       "    }\n",
       "\n",
       "    .dataframe thead th {\n",
       "        text-align: right;\n",
       "    }\n",
       "</style>\n",
       "<table border=\"1\" class=\"dataframe\">\n",
       "  <thead>\n",
       "    <tr style=\"text-align: right;\">\n",
       "      <th></th>\n",
       "      <th>Timestamp</th>\n",
       "      <th>Date</th>\n",
       "      <th>TTF</th>\n",
       "      <th>CO2</th>\n",
       "      <th>Day-ahead prices</th>\n",
       "      <th>Forecasted Load</th>\n",
       "      <th>Actual Load</th>\n",
       "      <th>Solar</th>\n",
       "      <th>Wind Offshore</th>\n",
       "      <th>Wind Onshore</th>\n",
       "      <th>Wind Total</th>\n",
       "      <th>Year</th>\n",
       "      <th>Quarter</th>\n",
       "      <th>Month</th>\n",
       "      <th>Day</th>\n",
       "      <th>Hour</th>\n",
       "      <th>Week</th>\n",
       "      <th>business</th>\n",
       "    </tr>\n",
       "  </thead>\n",
       "  <tbody>\n",
       "    <tr>\n",
       "      <th>0</th>\n",
       "      <td>2018-01-02 00:00:00</td>\n",
       "      <td>2018-01-02</td>\n",
       "      <td>19.32</td>\n",
       "      <td>8.22</td>\n",
       "      <td>18.12</td>\n",
       "      <td>2929.0</td>\n",
       "      <td>2889.0</td>\n",
       "      <td>0.0</td>\n",
       "      <td>735.0</td>\n",
       "      <td>1150.0</td>\n",
       "      <td>1885.0</td>\n",
       "      <td>2018</td>\n",
       "      <td>1</td>\n",
       "      <td>1</td>\n",
       "      <td>2</td>\n",
       "      <td>0</td>\n",
       "      <td>1</td>\n",
       "      <td>True</td>\n",
       "    </tr>\n",
       "    <tr>\n",
       "      <th>1</th>\n",
       "      <td>2018-01-02 01:00:00</td>\n",
       "      <td>2018-01-02</td>\n",
       "      <td>19.32</td>\n",
       "      <td>8.22</td>\n",
       "      <td>14.99</td>\n",
       "      <td>2817.0</td>\n",
       "      <td>2825.0</td>\n",
       "      <td>0.0</td>\n",
       "      <td>706.0</td>\n",
       "      <td>1066.0</td>\n",
       "      <td>1772.0</td>\n",
       "      <td>2018</td>\n",
       "      <td>1</td>\n",
       "      <td>1</td>\n",
       "      <td>2</td>\n",
       "      <td>1</td>\n",
       "      <td>1</td>\n",
       "      <td>True</td>\n",
       "    </tr>\n",
       "    <tr>\n",
       "      <th>2</th>\n",
       "      <td>2018-01-02 02:00:00</td>\n",
       "      <td>2018-01-02</td>\n",
       "      <td>19.32</td>\n",
       "      <td>8.22</td>\n",
       "      <td>17.79</td>\n",
       "      <td>2798.0</td>\n",
       "      <td>2780.0</td>\n",
       "      <td>0.0</td>\n",
       "      <td>657.0</td>\n",
       "      <td>1000.0</td>\n",
       "      <td>1657.0</td>\n",
       "      <td>2018</td>\n",
       "      <td>1</td>\n",
       "      <td>1</td>\n",
       "      <td>2</td>\n",
       "      <td>2</td>\n",
       "      <td>1</td>\n",
       "      <td>True</td>\n",
       "    </tr>\n",
       "    <tr>\n",
       "      <th>3</th>\n",
       "      <td>2018-01-02 03:00:00</td>\n",
       "      <td>2018-01-02</td>\n",
       "      <td>19.32</td>\n",
       "      <td>8.22</td>\n",
       "      <td>24.51</td>\n",
       "      <td>2836.0</td>\n",
       "      <td>2793.0</td>\n",
       "      <td>0.0</td>\n",
       "      <td>549.0</td>\n",
       "      <td>906.0</td>\n",
       "      <td>1455.0</td>\n",
       "      <td>2018</td>\n",
       "      <td>1</td>\n",
       "      <td>1</td>\n",
       "      <td>2</td>\n",
       "      <td>3</td>\n",
       "      <td>1</td>\n",
       "      <td>True</td>\n",
       "    </tr>\n",
       "    <tr>\n",
       "      <th>4</th>\n",
       "      <td>2018-01-02 04:00:00</td>\n",
       "      <td>2018-01-02</td>\n",
       "      <td>19.32</td>\n",
       "      <td>8.22</td>\n",
       "      <td>17.82</td>\n",
       "      <td>2921.0</td>\n",
       "      <td>2908.0</td>\n",
       "      <td>0.0</td>\n",
       "      <td>523.0</td>\n",
       "      <td>843.0</td>\n",
       "      <td>1366.0</td>\n",
       "      <td>2018</td>\n",
       "      <td>1</td>\n",
       "      <td>1</td>\n",
       "      <td>2</td>\n",
       "      <td>4</td>\n",
       "      <td>1</td>\n",
       "      <td>True</td>\n",
       "    </tr>\n",
       "  </tbody>\n",
       "</table>\n",
       "</div>"
      ],
      "text/plain": [
       "            Timestamp       Date    TTF   CO2  Day-ahead prices   \n",
       "0 2018-01-02 00:00:00 2018-01-02  19.32  8.22             18.12  \\\n",
       "1 2018-01-02 01:00:00 2018-01-02  19.32  8.22             14.99   \n",
       "2 2018-01-02 02:00:00 2018-01-02  19.32  8.22             17.79   \n",
       "3 2018-01-02 03:00:00 2018-01-02  19.32  8.22             24.51   \n",
       "4 2018-01-02 04:00:00 2018-01-02  19.32  8.22             17.82   \n",
       "\n",
       "   Forecasted Load  Actual Load  Solar  Wind Offshore  Wind Onshore   \n",
       "0           2929.0       2889.0    0.0          735.0        1150.0  \\\n",
       "1           2817.0       2825.0    0.0          706.0        1066.0   \n",
       "2           2798.0       2780.0    0.0          657.0        1000.0   \n",
       "3           2836.0       2793.0    0.0          549.0         906.0   \n",
       "4           2921.0       2908.0    0.0          523.0         843.0   \n",
       "\n",
       "   Wind Total  Year  Quarter  Month  Day  Hour  Week  business  \n",
       "0      1885.0  2018        1      1    2     0     1      True  \n",
       "1      1772.0  2018        1      1    2     1     1      True  \n",
       "2      1657.0  2018        1      1    2     2     1      True  \n",
       "3      1455.0  2018        1      1    2     3     1      True  \n",
       "4      1366.0  2018        1      1    2     4     1      True  "
      ]
     },
     "execution_count": 5,
     "metadata": {},
     "output_type": "execute_result"
    }
   ],
   "source": [
    "df.head()"
   ]
  },
  {
   "cell_type": "code",
   "execution_count": 6,
   "id": "0fd9a0d7",
   "metadata": {},
   "outputs": [
    {
     "name": "stdout",
     "output_type": "stream",
     "text": [
      "<class 'pandas.core.frame.DataFrame'>\n",
      "RangeIndex: 43776 entries, 0 to 43775\n",
      "Data columns (total 18 columns):\n",
      " #   Column            Non-Null Count  Dtype         \n",
      "---  ------            --------------  -----         \n",
      " 0   Timestamp         43776 non-null  datetime64[ns]\n",
      " 1   Date              43776 non-null  datetime64[ns]\n",
      " 2   TTF               43776 non-null  float64       \n",
      " 3   CO2               43776 non-null  float64       \n",
      " 4   Day-ahead prices  43776 non-null  float64       \n",
      " 5   Forecasted Load   43774 non-null  float64       \n",
      " 6   Actual Load       43774 non-null  float64       \n",
      " 7   Solar             43344 non-null  float64       \n",
      " 8   Wind Offshore     43680 non-null  float64       \n",
      " 9   Wind Onshore      43632 non-null  float64       \n",
      " 10  Wind Total        43632 non-null  float64       \n",
      " 11  Year              43776 non-null  int64         \n",
      " 12  Quarter           43776 non-null  int64         \n",
      " 13  Month             43776 non-null  int64         \n",
      " 14  Day               43776 non-null  int64         \n",
      " 15  Hour              43776 non-null  int64         \n",
      " 16  Week              43776 non-null  int64         \n",
      " 17  business          43776 non-null  bool          \n",
      "dtypes: bool(1), datetime64[ns](2), float64(9), int64(6)\n",
      "memory usage: 5.7 MB\n"
     ]
    }
   ],
   "source": [
    "df.info()"
   ]
  },
  {
   "cell_type": "code",
   "execution_count": 7,
   "id": "5429a8bf",
   "metadata": {},
   "outputs": [
    {
     "data": {
      "text/plain": [
       "Index(['Timestamp', 'Date', 'TTF', 'CO2', 'Day-ahead prices',\n",
       "       'Forecasted Load', 'Actual Load', 'Solar', 'Wind Offshore',\n",
       "       'Wind Onshore', 'Wind Total', 'Year', 'Quarter', 'Month', 'Day', 'Hour',\n",
       "       'Week', 'business'],\n",
       "      dtype='object')"
      ]
     },
     "execution_count": 7,
     "metadata": {},
     "output_type": "execute_result"
    }
   ],
   "source": [
    "df.columns"
   ]
  },
  {
   "cell_type": "code",
   "execution_count": 8,
   "id": "ab0d9ee2",
   "metadata": {},
   "outputs": [],
   "source": [
    "cols_std = ['TTF', 'CO2', 'Forecasted Load', 'Actual Load',\n",
    "            'Solar', 'Wind Offshore', 'Wind Onshore', 'Wind Total',\n",
    "            'Year', 'Day', 'Hour', 'Week']\n",
    "features = cols_std + ['Quarter', 'Month', 'business']\n",
    "target = ['Day-ahead prices']\n",
    "train_start = pd.to_datetime(['2018-01-01', '2021-01-01', '2021-07-01'], format = '%Y-%m-%d')"
   ]
  },
  {
   "cell_type": "code",
   "execution_count": 27,
   "id": "e63694d9",
   "metadata": {
    "scrolled": false
   },
   "outputs": [],
   "source": [
    "k_folds = 3\n",
    "for k in range(k_folds):\n",
    "    # split in train and test set\n",
    "    train_set, test_set = split_timeseries(df, train_start, k, method = 0)\n",
    "    \n",
    "    # get features and target\n",
    "    X_train, y_train = get_feature_target(train_set, features, target)\n",
    "    X_test, y_test = get_feature_target(test_set, features, target)\n",
    "\n",
    "    # standardize\n",
    "    X_train_std, X_test_std = standardize(X_train, X_test, cols_std)"
   ]
  },
  {
   "cell_type": "code",
   "execution_count": 32,
   "id": "07ed3ead",
   "metadata": {
    "scrolled": false
   },
   "outputs": [
    {
     "data": {
      "text/plain": [
       "[<matplotlib.lines.Line2D at 0x29d7db99370>]"
      ]
     },
     "execution_count": 32,
     "metadata": {},
     "output_type": "execute_result"
    },
    {
     "data": {
      "image/png": "[encoded data removed]",
      "text/plain": [
       "<Figure size 640x480 with 1 Axes>"
      ]
     },
     "metadata": {},
     "output_type": "display_data"
    }
   ],
   "source": [
    "plt.plot((X_train['Actual Load'] - X_train['Actual Load'].mean(axis = 0))/X_train['Actual Load'].std(axis = 0))"
   ]
  },
  {
   "cell_type": "code",
   "execution_count": null,
   "id": "ed3434a7",
   "metadata": {},
   "outputs": [],
   "source": []
  }
 ],
 "metadata": {
  "kernelspec": {
   "display_name": "epf",
   "language": "python",
   "name": "epf"
  },
  "language_info": {
   "codemirror_mode": {
    "name": "ipython",
    "version": 3
   },
   "file_extension": ".py",
   "mimetype": "text/x-python",
   "name": "python",
   "nbconvert_exporter": "python",
   "pygments_lexer": "ipython3",
   "version": "3.9.7"
  }
 },
 "nbformat": 4,
 "nbformat_minor": 5
}

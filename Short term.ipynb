{
 "cells": [
  {
   "cell_type": "markdown",
   "id": "4328c32b",
   "metadata": {},
   "source": [
    "# Imports"
   ]
  },
  {
   "cell_type": "code",
   "execution_count": 1,
   "id": "467947c7",
   "metadata": {},
   "outputs": [],
   "source": [
    "import pandas as pd\n",
    "import numpy as np\n",
    "import matplotlib.pyplot as plt\n",
    "import seaborn as sns\n",
    "%matplotlib inline\n",
    "import warnings\n",
    "warnings.filterwarnings('ignore')\n",
    "\n",
    "from sklearn import metrics\n",
    "from sklearn.ensemble import RandomForestRegressor\n",
    "\n",
    "import xgboost as xg\n",
    "# from xgboost import *"
   ]
  },
  {
   "cell_type": "code",
   "execution_count": 2,
   "id": "63c8b6e8",
   "metadata": {},
   "outputs": [],
   "source": [
    "from helper import *"
   ]
  },
  {
   "cell_type": "markdown",
   "id": "4377af20",
   "metadata": {},
   "source": [
    "# Models"
   ]
  },
  {
   "cell_type": "code",
   "execution_count": 3,
   "id": "0fda5c32",
   "metadata": {},
   "outputs": [],
   "source": [
    "def short_term(model,x_train,y_train,x_test,y_test,x_val=False,y_val=False):\n",
    "    if model=='rft':\n",
    "        # perform randomized search cross validation\n",
    "        rf = RandomForestRegressor(random_state=42, min_samples_split = 10)\n",
    "        rf_grid = {\"n_estimators\": np.arange(10, 100, 10),<br>\n",
    "           \"max_depth\": [None, 3, 5, 10],<br>\n",
    "           \"min_samples_split\": np.arange(2, 20, 2),<br>\n",
    "           \"min_samples_leaf\": np.arange(1, 20, 2),<br>\n",
    "           \"max_features\": [0.5, 1, \"sqrt\", \"auto\"],\n",
    "           \"max_samples\": [10000]}\n",
    "        rf = RandomizedSearchCV(estimator = rf, param_distributions = random_grid, n_iter = 30, cv = 3, random_state=42, n_jobs = -1)\n",
    "        rf.fit(x_train, y_train)\n",
    "        # the optimal parameters\n",
    "#         rf_random.best_estimator_.get_params()\n",
    "        # evaluate the optimal model\n",
    "#         model_ = rf.best_estimator_\n",
    "        model_ = rf\n",
    "        \n",
    "    elif model=='xgb':\n",
    "        xgb = xg.XGBRegressor(seed = 42)\n",
    "        xgb.fit(x_train, y_train)\n",
    "        model_= xgb\n",
    "    \n",
    "    ypred = model_.predict(x_test)\n",
    "    \n",
    "    return ypred"
   ]
  },
  {
   "cell_type": "code",
   "execution_count": 4,
   "id": "8d44ae27",
   "metadata": {},
   "outputs": [],
   "source": [
    "df = read_our_data('DK_2_filled.csv')"
   ]
  },
  {
   "cell_type": "code",
   "execution_count": 5,
   "id": "0fd9a0d7",
   "metadata": {},
   "outputs": [
    {
     "name": "stdout",
     "output_type": "stream",
     "text": [
      "<class 'pandas.core.frame.DataFrame'>\n",
      "RangeIndex: 43776 entries, 0 to 43775\n",
      "Data columns (total 18 columns):\n",
      " #   Column            Non-Null Count  Dtype         \n",
      "---  ------            --------------  -----         \n",
      " 0   Timestamp         43776 non-null  datetime64[ns]\n",
      " 1   Date              43776 non-null  datetime64[ns]\n",
      " 2   TTF               43776 non-null  float64       \n",
      " 3   CO2               43776 non-null  float64       \n",
      " 4   Day-ahead prices  43776 non-null  float64       \n",
      " 5   Forecasted Load   43774 non-null  float64       \n",
      " 6   Actual Load       43774 non-null  float64       \n",
      " 7   Solar             43344 non-null  float64       \n",
      " 8   Wind Offshore     43680 non-null  float64       \n",
      " 9   Wind Onshore      43632 non-null  float64       \n",
      " 10  Wind Total        43632 non-null  float64       \n",
      " 11  Year              43776 non-null  int64         \n",
      " 12  Quarter           43776 non-null  int64         \n",
      " 13  Month             43776 non-null  int64         \n",
      " 14  Day               43776 non-null  int64         \n",
      " 15  Hour              43776 non-null  int64         \n",
      " 16  Week              43776 non-null  int64         \n",
      " 17  business          43776 non-null  bool          \n",
      "dtypes: bool(1), datetime64[ns](2), float64(9), int64(6)\n",
      "memory usage: 5.7 MB\n"
     ]
    }
   ],
   "source": [
    "df.info()"
   ]
  },
  {
   "cell_type": "code",
   "execution_count": 6,
   "id": "6877e032",
   "metadata": {},
   "outputs": [],
   "source": [
    "# lagged columns to add\n",
    "lags = [24, 25, 26, 27, 28, 48, 72]\n",
    "col_to_lag = 'Day-ahead prices'\n",
    "df_lagged = lag_df(df, col_to_lag, lags)\n",
    "df_lagged.dropna(how = 'any', axis = 'index', inplace = True)"
   ]
  },
  {
   "cell_type": "code",
   "execution_count": 7,
   "id": "5429a8bf",
   "metadata": {},
   "outputs": [
    {
     "data": {
      "text/plain": [
       "Index(['Timestamp', 'Date', 'TTF', 'CO2', 'Day-ahead prices',\n",
       "       'Forecasted Load', 'Actual Load', 'Solar', 'Wind Offshore',\n",
       "       'Wind Onshore', 'Wind Total', 'Year', 'Quarter', 'Month', 'Day', 'Hour',\n",
       "       'Week', 'business', 'Day-ahead prices-lag24', 'Day-ahead prices-lag25',\n",
       "       'Day-ahead prices-lag26', 'Day-ahead prices-lag27',\n",
       "       'Day-ahead prices-lag28', 'Day-ahead prices-lag48',\n",
       "       'Day-ahead prices-lag72'],\n",
       "      dtype='object')"
      ]
     },
     "execution_count": 7,
     "metadata": {},
     "output_type": "execute_result"
    }
   ],
   "source": [
    "df_lagged.columns"
   ]
  },
  {
   "cell_type": "code",
   "execution_count": 8,
   "id": "ab0d9ee2",
   "metadata": {},
   "outputs": [],
   "source": [
    "cols_std = ['TTF', 'CO2', 'Forecasted Load', 'Actual Load',\n",
    "            'Solar', 'Wind Offshore', 'Wind Onshore', 'Wind Total',\n",
    "             'Day', 'Hour', 'Week', 'Day-ahead prices-lag24', 'Day-ahead prices-lag25', 'Day-ahead prices-lag26',\n",
    "            'Day-ahead prices-lag27', 'Day-ahead prices-lag28', 'Day-ahead prices-lag48', 'Day-ahead prices-lag72']\n",
    "features = cols_std + ['Quarter', 'Month', 'business']\n",
    "target = ['Day-ahead prices']\n",
    "train_start = pd.to_datetime(['2018-01-01', '2021-01-01', '2021-07-01'], format = '%Y-%m-%d')"
   ]
  },
  {
   "cell_type": "code",
   "execution_count": 9,
   "id": "e63694d9",
   "metadata": {
    "scrolled": false
   },
   "outputs": [
    {
     "name": "stdout",
     "output_type": "stream",
     "text": [
      "Iteration  0\n",
      "Mean Absolute Error (MAE): 11.4789760794581\n",
      "Mean Squared Error (MSE): 283.3823917328713\n",
      "Root Mean Squared Error (RMSE): 16.83396541914208\n",
      "Mean Absolute Percentage Error (MAPE): 62.07\n",
      "Accuracy: 37.93\n",
      "Iteration  1\n",
      "Mean Absolute Error (MAE): 11.803883173704907\n",
      "Mean Squared Error (MSE): 227.08910309873337\n",
      "Root Mean Squared Error (RMSE): 15.069475873391662\n",
      "Mean Absolute Percentage Error (MAPE): 41.22\n",
      "Accuracy: 58.78\n",
      "Iteration  2\n",
      "Mean Absolute Error (MAE): 48.49318527315472\n",
      "Mean Squared Error (MSE): 4190.129930798026\n",
      "Root Mean Squared Error (RMSE): 64.73121295633217\n",
      "Mean Absolute Percentage Error (MAPE): 140.49\n",
      "Accuracy: -40.49\n"
     ]
    }
   ],
   "source": [
    "k_folds = 3\n",
    "for k in range(k_folds):\n",
    "    # split in train and test set\n",
    "    train_set, test_set = split_timeseries(df_lagged, train_start, k, method = 0)\n",
    "    \n",
    "    # get features and target\n",
    "    X_train, y_train = get_feature_target(train_set, features, target)\n",
    "    X_test, y_test = get_feature_target(test_set, features, target)\n",
    "    y_test = np.array(y_test[target])\n",
    "\n",
    "    # standardize\n",
    "    X_train_std, X_test_std = standardize(X_train, X_test, cols_std)\n",
    " \n",
    "    # short  term\n",
    "    ypred = short_term('rft', X_train_std, y_train, X_test_std, y_test)\n",
    "    \n",
    "    print('Iteration ', k)\n",
    "    model_evaluation(ypred, y_test)"
   ]
  },
  {
   "cell_type": "code",
   "execution_count": 16,
   "id": "2589be6d",
   "metadata": {},
   "outputs": [
    {
     "name": "stdout",
     "output_type": "stream",
     "text": [
      "Iteration  0\n",
      "Mean Absolute Error (MAE): 12.14288946864896\n",
      "Mean Squared Error (MSE): 310.2397764917463\n",
      "Root Mean Squared Error (RMSE): 17.613624740289726\n",
      "Mean Absolute Percentage Error (MAPE): 76.67\n",
      "Accuracy: 23.33\n",
      "Iteration  1\n",
      "Mean Absolute Error (MAE): 11.72984522205677\n",
      "Mean Squared Error (MSE): 223.76419342546785\n",
      "Root Mean Squared Error (RMSE): 14.958749728017642\n",
      "Mean Absolute Percentage Error (MAPE): 49.8\n",
      "Accuracy: 50.2\n",
      "Iteration  2\n",
      "Mean Absolute Error (MAE): 60.43647361880846\n",
      "Mean Squared Error (MSE): 6501.957700464761\n",
      "Root Mean Squared Error (RMSE): 80.63471771181915\n",
      "Mean Absolute Percentage Error (MAPE): 504.96\n",
      "Accuracy: -404.96\n"
     ]
    }
   ],
   "source": [
    "k_folds = 3\n",
    "for k in range(k_folds):\n",
    "    # split in train and test set\n",
    "    train_set, test_set = split_timeseries(df_lagged, train_start, k, method = 0)\n",
    "    \n",
    "    # get features and target\n",
    "    X_train, y_train = get_feature_target(train_set, features, target)\n",
    "    X_test, y_test = get_feature_target(test_set, features, target)\n",
    "    y_test = np.array(y_test[target])\n",
    "\n",
    "    # standardize\n",
    "    X_train_std, X_test_std = standardize(X_train, X_test, cols_std)\n",
    " \n",
    "    # short  term\n",
    "    ypred = short_term('xgb', X_train_std, y_train, X_test_std, y_test)\n",
    "    \n",
    "    print('Iteration ', k)\n",
    "    model_evaluation(ypred, y_test)"
   ]
  },
  {
   "cell_type": "markdown",
   "id": "88041f5e",
   "metadata": {},
   "source": [
    "correlation between ytrue and ypred, RMSE can be hard to refrence.<br>\n",
    "use power transform instead of log (how?)"
   ]
  },
  {
   "cell_type": "code",
   "execution_count": null,
   "id": "7ff91223",
   "metadata": {},
   "outputs": [],
   "source": [
    "# rolling mean as a baseline\n",
    "def baseline():\n",
    "    "
   ]
  },
  {
   "cell_type": "code",
   "execution_count": null,
   "id": "04349913",
   "metadata": {},
   "outputs": [],
   "source": []
  }
 ],
 "metadata": {
  "kernelspec": {
   "display_name": "epf",
   "language": "python",
   "name": "epf"
  },
  "language_info": {
   "codemirror_mode": {
    "name": "ipython",
    "version": 3
   },
   "file_extension": ".py",
   "mimetype": "text/x-python",
   "name": "python",
   "nbconvert_exporter": "python",
   "pygments_lexer": "ipython3",
   "version": "3.9.7"
  }
 },
 "nbformat": 4,
 "nbformat_minor": 5
}

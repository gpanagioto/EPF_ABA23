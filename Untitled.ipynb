{
 "cells": [
  {
   "cell_type": "code",
   "execution_count": 1,
   "id": "d96c99fa",
   "metadata": {},
   "outputs": [],
   "source": [
    "import pandas as pd\n",
    "import datetime as dt\n",
    "from datetime import datetime, timezone\n",
    "import numpy as np\n",
    "import matplotlib.pyplot as plt\n",
    "import sys\n",
    "from merging import FindFile, Merging\n",
    "import pytz\n",
    "import investpy"
   ]
  },
  {
   "cell_type": "code",
   "execution_count": 6,
   "id": "3e2bbfb5",
   "metadata": {},
   "outputs": [],
   "source": [
    "import requests\n",
    "from bs4 import BeautifulSoup"
   ]
  },
  {
   "cell_type": "code",
   "execution_count": 10,
   "id": "cfc2cfc9",
   "metadata": {},
   "outputs": [],
   "source": [
    "headers = {'user-agent': 'Mozilla/5.0 (Windows NT 10.0; \\\n",
    "    Win64; x64) AppleWebKit/537.36 (KHTML, like Gecko) \\\n",
    "    Chrome/84.0.4147.105 Safari/537.36'}\n",
    "\n",
    "url = 'https://www.investing.com/commodities/dutch-ttf-gas-c1-futures'"
   ]
  },
  {
   "cell_type": "code",
   "execution_count": 14,
   "id": "54fe6c4f",
   "metadata": {},
   "outputs": [
    {
     "name": "stdout",
     "output_type": "stream",
     "text": [
      "<class 'AttributeError'>\n"
     ]
    }
   ],
   "source": [
    "page = requests.get(url,headers=headers)\n",
    "try:\n",
    "    soup = BeautifulSoup(page.text, 'html.parser')\n",
    "    company = soup.find('h1', {'class': 'text-2xl font-semibold \\instrument-header_title__gCaMF \\mobile:mb-2'}).text\n",
    "except AttributeError:\n",
    "    print(AttributeError)"
   ]
  },
  {
   "cell_type": "code",
   "execution_count": null,
   "id": "ea83d75e",
   "metadata": {},
   "outputs": [],
   "source": []
  },
  {
   "cell_type": "code",
   "execution_count": null,
   "id": "af2d0a8e",
   "metadata": {},
   "outputs": [],
   "source": []
  },
  {
   "cell_type": "code",
   "execution_count": null,
   "id": "7f4f93ca",
   "metadata": {},
   "outputs": [],
   "source": []
  },
  {
   "cell_type": "code",
   "execution_count": 2,
   "id": "370ae336",
   "metadata": {},
   "outputs": [],
   "source": [
    "search_path = sys.path[0]\n",
    "# Specify the file name and search path\n",
    "files_names = {\n",
    "               \"imports\":\"Imports.csv\",\n",
    "               \"DE_LU\":\"DE_LU_Exports.csv\",\n",
    "               \"DK_1\": \"DK_1_Exports.csv\",\n",
    "               \"SE_4\": \"SE_4_Exports.csv\",\n",
    "               \"Day_Ahead_Prices\":\"Day_Ahead_Prices.csv\",\n",
    "               \"Load_And_Forecast\":\"Load_And_Forecast.csv\",\n",
    "               \"Wind_Solar_Forecast\":\"Wind_Solar_Forecast.csv\"\n",
    "              }"
   ]
  },
  {
   "cell_type": "code",
   "execution_count": 3,
   "id": "32a55ed0",
   "metadata": {},
   "outputs": [
    {
     "data": {
      "text/plain": [
       "'/home/gpanagioto/GitHub/AdvBA/EPF_ABA23'"
      ]
     },
     "execution_count": 3,
     "metadata": {},
     "output_type": "execute_result"
    }
   ],
   "source": [
    "search_path"
   ]
  },
  {
   "cell_type": "code",
   "execution_count": 4,
   "id": "b4f9dbd6",
   "metadata": {},
   "outputs": [],
   "source": [
    "data = Merging(search_path)"
   ]
  },
  {
   "cell_type": "code",
   "execution_count": 5,
   "id": "41193a57",
   "metadata": {},
   "outputs": [
    {
     "data": {
      "text/plain": [
       "'Day_Ahead_Prices.csv'"
      ]
     },
     "execution_count": 5,
     "metadata": {},
     "output_type": "execute_result"
    }
   ],
   "source": [
    "files_names['Day_Ahead_Prices']"
   ]
  },
  {
   "cell_type": "code",
   "execution_count": 6,
   "id": "1da5da88",
   "metadata": {
    "scrolled": true
   },
   "outputs": [],
   "source": [
    "day_ahead_prices = data.Timestamp(files_names['Day_Ahead_Prices'])"
   ]
  },
  {
   "cell_type": "code",
   "execution_count": 7,
   "id": "eb7b2f44",
   "metadata": {},
   "outputs": [
    {
     "data": {
      "text/plain": [
       "False"
      ]
     },
     "execution_count": 7,
     "metadata": {},
     "output_type": "execute_result"
    }
   ],
   "source": [
    "'0' in day_ahead_prices.columns"
   ]
  },
  {
   "cell_type": "code",
   "execution_count": 8,
   "id": "9d86bd33",
   "metadata": {},
   "outputs": [
    {
     "data": {
      "text/html": [
       "<div>\n",
       "<style scoped>\n",
       "    .dataframe tbody tr th:only-of-type {\n",
       "        vertical-align: middle;\n",
       "    }\n",
       "\n",
       "    .dataframe tbody tr th {\n",
       "        vertical-align: top;\n",
       "    }\n",
       "\n",
       "    .dataframe thead th {\n",
       "        text-align: right;\n",
       "    }\n",
       "</style>\n",
       "<table border=\"1\" class=\"dataframe\">\n",
       "  <thead>\n",
       "    <tr style=\"text-align: right;\">\n",
       "      <th></th>\n",
       "      <th>Electricity Price</th>\n",
       "    </tr>\n",
       "    <tr>\n",
       "      <th>Timestamp</th>\n",
       "      <th></th>\n",
       "    </tr>\n",
       "  </thead>\n",
       "  <tbody>\n",
       "    <tr>\n",
       "      <th>2018-01-01 00:00:00</th>\n",
       "      <td>26.33</td>\n",
       "    </tr>\n",
       "    <tr>\n",
       "      <th>2018-01-01 01:00:00</th>\n",
       "      <td>26.43</td>\n",
       "    </tr>\n",
       "    <tr>\n",
       "      <th>2018-01-01 02:00:00</th>\n",
       "      <td>26.10</td>\n",
       "    </tr>\n",
       "    <tr>\n",
       "      <th>2018-01-01 03:00:00</th>\n",
       "      <td>24.70</td>\n",
       "    </tr>\n",
       "    <tr>\n",
       "      <th>2018-01-01 04:00:00</th>\n",
       "      <td>24.74</td>\n",
       "    </tr>\n",
       "  </tbody>\n",
       "</table>\n",
       "</div>"
      ],
      "text/plain": [
       "                     Electricity Price\n",
       "Timestamp                             \n",
       "2018-01-01 00:00:00              26.33\n",
       "2018-01-01 01:00:00              26.43\n",
       "2018-01-01 02:00:00              26.10\n",
       "2018-01-01 03:00:00              24.70\n",
       "2018-01-01 04:00:00              24.74"
      ]
     },
     "execution_count": 8,
     "metadata": {},
     "output_type": "execute_result"
    }
   ],
   "source": [
    "day_ahead_prices.head()"
   ]
  },
  {
   "cell_type": "code",
   "execution_count": 9,
   "id": "6f6f2010",
   "metadata": {},
   "outputs": [
    {
     "ename": "KeyError",
     "evalue": "\"['0'] not found in axis\"",
     "output_type": "error",
     "traceback": [
      "\u001b[0;31m---------------------------------------------------------------------------\u001b[0m",
      "\u001b[0;31mKeyError\u001b[0m                                  Traceback (most recent call last)",
      "Cell \u001b[0;32mIn[9], line 1\u001b[0m\n\u001b[0;32m----> 1\u001b[0m \u001b[43mday_ahead_prices\u001b[49m\u001b[38;5;241;43m.\u001b[39;49m\u001b[43mrename\u001b[49m\u001b[43m(\u001b[49m\u001b[43mcolumns\u001b[49m\u001b[38;5;241;43m=\u001b[39;49m\u001b[43m{\u001b[49m\u001b[38;5;124;43m'\u001b[39;49m\u001b[38;5;124;43m0\u001b[39;49m\u001b[38;5;124;43m'\u001b[39;49m\u001b[43m:\u001b[49m\u001b[38;5;124;43m'\u001b[39;49m\u001b[38;5;124;43mElectricity\u001b[39;49m\u001b[38;5;124;43m'\u001b[39;49m\u001b[43m}\u001b[49m\u001b[43m,\u001b[49m\u001b[43m \u001b[49m\u001b[43minplace\u001b[49m\u001b[43m \u001b[49m\u001b[38;5;241;43m=\u001b[39;49m\u001b[43m \u001b[49m\u001b[38;5;28;43;01mTrue\u001b[39;49;00m\u001b[43m,\u001b[49m\u001b[43m \u001b[49m\u001b[43merrors\u001b[49m\u001b[38;5;241;43m=\u001b[39;49m\u001b[38;5;124;43m\"\u001b[39;49m\u001b[38;5;124;43mraise\u001b[39;49m\u001b[38;5;124;43m\"\u001b[39;49m\u001b[43m)\u001b[49m\n\u001b[1;32m      2\u001b[0m day_ahead_prices\u001b[38;5;241m.\u001b[39mhead()\n",
      "File \u001b[0;32m~/.virtualenvs/advba/lib/python3.10/site-packages/pandas/core/frame.py:5573\u001b[0m, in \u001b[0;36mDataFrame.rename\u001b[0;34m(self, mapper, index, columns, axis, copy, inplace, level, errors)\u001b[0m\n\u001b[1;32m   5454\u001b[0m \u001b[38;5;28;01mdef\u001b[39;00m \u001b[38;5;21mrename\u001b[39m(\n\u001b[1;32m   5455\u001b[0m     \u001b[38;5;28mself\u001b[39m,\n\u001b[1;32m   5456\u001b[0m     mapper: Renamer \u001b[38;5;241m|\u001b[39m \u001b[38;5;28;01mNone\u001b[39;00m \u001b[38;5;241m=\u001b[39m \u001b[38;5;28;01mNone\u001b[39;00m,\n\u001b[0;32m   (...)\u001b[0m\n\u001b[1;32m   5464\u001b[0m     errors: IgnoreRaise \u001b[38;5;241m=\u001b[39m \u001b[38;5;124m\"\u001b[39m\u001b[38;5;124mignore\u001b[39m\u001b[38;5;124m\"\u001b[39m,\n\u001b[1;32m   5465\u001b[0m ) \u001b[38;5;241m-\u001b[39m\u001b[38;5;241m>\u001b[39m DataFrame \u001b[38;5;241m|\u001b[39m \u001b[38;5;28;01mNone\u001b[39;00m:\n\u001b[1;32m   5466\u001b[0m \u001b[38;5;250m    \u001b[39m\u001b[38;5;124;03m\"\"\"\u001b[39;00m\n\u001b[1;32m   5467\u001b[0m \u001b[38;5;124;03m    Alter axes labels.\u001b[39;00m\n\u001b[1;32m   5468\u001b[0m \n\u001b[0;32m   (...)\u001b[0m\n\u001b[1;32m   5571\u001b[0m \u001b[38;5;124;03m    4  3  6\u001b[39;00m\n\u001b[1;32m   5572\u001b[0m \u001b[38;5;124;03m    \"\"\"\u001b[39;00m\n\u001b[0;32m-> 5573\u001b[0m     \u001b[38;5;28;01mreturn\u001b[39;00m \u001b[38;5;28;43msuper\u001b[39;49m\u001b[43m(\u001b[49m\u001b[43m)\u001b[49m\u001b[38;5;241;43m.\u001b[39;49m\u001b[43m_rename\u001b[49m\u001b[43m(\u001b[49m\n\u001b[1;32m   5574\u001b[0m \u001b[43m        \u001b[49m\u001b[43mmapper\u001b[49m\u001b[38;5;241;43m=\u001b[39;49m\u001b[43mmapper\u001b[49m\u001b[43m,\u001b[49m\n\u001b[1;32m   5575\u001b[0m \u001b[43m        \u001b[49m\u001b[43mindex\u001b[49m\u001b[38;5;241;43m=\u001b[39;49m\u001b[43mindex\u001b[49m\u001b[43m,\u001b[49m\n\u001b[1;32m   5576\u001b[0m \u001b[43m        \u001b[49m\u001b[43mcolumns\u001b[49m\u001b[38;5;241;43m=\u001b[39;49m\u001b[43mcolumns\u001b[49m\u001b[43m,\u001b[49m\n\u001b[1;32m   5577\u001b[0m \u001b[43m        \u001b[49m\u001b[43maxis\u001b[49m\u001b[38;5;241;43m=\u001b[39;49m\u001b[43maxis\u001b[49m\u001b[43m,\u001b[49m\n\u001b[1;32m   5578\u001b[0m \u001b[43m        \u001b[49m\u001b[43mcopy\u001b[49m\u001b[38;5;241;43m=\u001b[39;49m\u001b[43mcopy\u001b[49m\u001b[43m,\u001b[49m\n\u001b[1;32m   5579\u001b[0m \u001b[43m        \u001b[49m\u001b[43minplace\u001b[49m\u001b[38;5;241;43m=\u001b[39;49m\u001b[43minplace\u001b[49m\u001b[43m,\u001b[49m\n\u001b[1;32m   5580\u001b[0m \u001b[43m        \u001b[49m\u001b[43mlevel\u001b[49m\u001b[38;5;241;43m=\u001b[39;49m\u001b[43mlevel\u001b[49m\u001b[43m,\u001b[49m\n\u001b[1;32m   5581\u001b[0m \u001b[43m        \u001b[49m\u001b[43merrors\u001b[49m\u001b[38;5;241;43m=\u001b[39;49m\u001b[43merrors\u001b[49m\u001b[43m,\u001b[49m\n\u001b[1;32m   5582\u001b[0m \u001b[43m    \u001b[49m\u001b[43m)\u001b[49m\n",
      "File \u001b[0;32m~/.virtualenvs/advba/lib/python3.10/site-packages/pandas/core/generic.py:1102\u001b[0m, in \u001b[0;36mNDFrame._rename\u001b[0;34m(self, mapper, index, columns, axis, copy, inplace, level, errors)\u001b[0m\n\u001b[1;32m   1096\u001b[0m     \u001b[38;5;28;01mif\u001b[39;00m errors \u001b[38;5;241m==\u001b[39m \u001b[38;5;124m\"\u001b[39m\u001b[38;5;124mraise\u001b[39m\u001b[38;5;124m\"\u001b[39m \u001b[38;5;129;01mand\u001b[39;00m \u001b[38;5;28mlen\u001b[39m(indexer[indexer \u001b[38;5;241m==\u001b[39m \u001b[38;5;241m-\u001b[39m\u001b[38;5;241m1\u001b[39m]):\n\u001b[1;32m   1097\u001b[0m         missing_labels \u001b[38;5;241m=\u001b[39m [\n\u001b[1;32m   1098\u001b[0m             label\n\u001b[1;32m   1099\u001b[0m             \u001b[38;5;28;01mfor\u001b[39;00m index, label \u001b[38;5;129;01min\u001b[39;00m \u001b[38;5;28menumerate\u001b[39m(replacements)\n\u001b[1;32m   1100\u001b[0m             \u001b[38;5;28;01mif\u001b[39;00m indexer[index] \u001b[38;5;241m==\u001b[39m \u001b[38;5;241m-\u001b[39m\u001b[38;5;241m1\u001b[39m\n\u001b[1;32m   1101\u001b[0m         ]\n\u001b[0;32m-> 1102\u001b[0m         \u001b[38;5;28;01mraise\u001b[39;00m \u001b[38;5;167;01mKeyError\u001b[39;00m(\u001b[38;5;124mf\u001b[39m\u001b[38;5;124m\"\u001b[39m\u001b[38;5;132;01m{\u001b[39;00mmissing_labels\u001b[38;5;132;01m}\u001b[39;00m\u001b[38;5;124m not found in axis\u001b[39m\u001b[38;5;124m\"\u001b[39m)\n\u001b[1;32m   1104\u001b[0m new_index \u001b[38;5;241m=\u001b[39m ax\u001b[38;5;241m.\u001b[39m_transform_index(f, level\u001b[38;5;241m=\u001b[39mlevel)\n\u001b[1;32m   1105\u001b[0m result\u001b[38;5;241m.\u001b[39m_set_axis_nocheck(new_index, axis\u001b[38;5;241m=\u001b[39maxis_no, inplace\u001b[38;5;241m=\u001b[39m\u001b[38;5;28;01mTrue\u001b[39;00m, copy\u001b[38;5;241m=\u001b[39m\u001b[38;5;28;01mFalse\u001b[39;00m)\n",
      "\u001b[0;31mKeyError\u001b[0m: \"['0'] not found in axis\""
     ]
    }
   ],
   "source": [
    "day_ahead_prices.rename(columns={'0':'Electricity'}, inplace = True, errors=\"raise\")\n",
    "day_ahead_prices.head()"
   ]
  },
  {
   "cell_type": "code",
   "execution_count": 10,
   "id": "7ef16811",
   "metadata": {},
   "outputs": [],
   "source": [
    "load_and_forecast =  data.Timestamp(files_names['Load_And_Forecast'])"
   ]
  },
  {
   "cell_type": "code",
   "execution_count": 11,
   "id": "bacc6fe3",
   "metadata": {},
   "outputs": [
    {
     "data": {
      "text/html": [
       "<div>\n",
       "<style scoped>\n",
       "    .dataframe tbody tr th:only-of-type {\n",
       "        vertical-align: middle;\n",
       "    }\n",
       "\n",
       "    .dataframe tbody tr th {\n",
       "        vertical-align: top;\n",
       "    }\n",
       "\n",
       "    .dataframe thead th {\n",
       "        text-align: right;\n",
       "    }\n",
       "</style>\n",
       "<table border=\"1\" class=\"dataframe\">\n",
       "  <thead>\n",
       "    <tr style=\"text-align: right;\">\n",
       "      <th></th>\n",
       "      <th>Forecasted Load</th>\n",
       "      <th>Actual Load</th>\n",
       "    </tr>\n",
       "    <tr>\n",
       "      <th>Timestamp</th>\n",
       "      <th></th>\n",
       "      <th></th>\n",
       "    </tr>\n",
       "  </thead>\n",
       "  <tbody>\n",
       "    <tr>\n",
       "      <th>2018-01-01 00:00:00</th>\n",
       "      <td>1591.0</td>\n",
       "      <td>1607.0</td>\n",
       "    </tr>\n",
       "    <tr>\n",
       "      <th>2018-01-01 01:00:00</th>\n",
       "      <td>1541.0</td>\n",
       "      <td>1566.0</td>\n",
       "    </tr>\n",
       "    <tr>\n",
       "      <th>2018-01-01 02:00:00</th>\n",
       "      <td>1497.0</td>\n",
       "      <td>1460.0</td>\n",
       "    </tr>\n",
       "    <tr>\n",
       "      <th>2018-01-01 03:00:00</th>\n",
       "      <td>1426.0</td>\n",
       "      <td>1424.0</td>\n",
       "    </tr>\n",
       "    <tr>\n",
       "      <th>2018-01-01 04:00:00</th>\n",
       "      <td>1378.0</td>\n",
       "      <td>1380.0</td>\n",
       "    </tr>\n",
       "  </tbody>\n",
       "</table>\n",
       "</div>"
      ],
      "text/plain": [
       "                     Forecasted Load  Actual Load\n",
       "Timestamp                                        \n",
       "2018-01-01 00:00:00           1591.0       1607.0\n",
       "2018-01-01 01:00:00           1541.0       1566.0\n",
       "2018-01-01 02:00:00           1497.0       1460.0\n",
       "2018-01-01 03:00:00           1426.0       1424.0\n",
       "2018-01-01 04:00:00           1378.0       1380.0"
      ]
     },
     "execution_count": 11,
     "metadata": {},
     "output_type": "execute_result"
    }
   ],
   "source": [
    "load_and_forecast.head()"
   ]
  },
  {
   "cell_type": "code",
   "execution_count": 12,
   "id": "ee1cd53e",
   "metadata": {},
   "outputs": [],
   "source": [
    "wind_solar_forecast = data.Timestamp(files_names['Wind_Solar_Forecast'])"
   ]
  },
  {
   "cell_type": "code",
   "execution_count": 13,
   "id": "4de1117d",
   "metadata": {},
   "outputs": [
    {
     "data": {
      "text/html": [
       "<div>\n",
       "<style scoped>\n",
       "    .dataframe tbody tr th:only-of-type {\n",
       "        vertical-align: middle;\n",
       "    }\n",
       "\n",
       "    .dataframe tbody tr th {\n",
       "        vertical-align: top;\n",
       "    }\n",
       "\n",
       "    .dataframe thead th {\n",
       "        text-align: right;\n",
       "    }\n",
       "</style>\n",
       "<table border=\"1\" class=\"dataframe\">\n",
       "  <thead>\n",
       "    <tr style=\"text-align: right;\">\n",
       "      <th></th>\n",
       "      <th>Solar</th>\n",
       "      <th>Wind Offshore</th>\n",
       "      <th>Wind Onshore</th>\n",
       "    </tr>\n",
       "    <tr>\n",
       "      <th>Timestamp</th>\n",
       "      <th></th>\n",
       "      <th></th>\n",
       "      <th></th>\n",
       "    </tr>\n",
       "  </thead>\n",
       "  <tbody>\n",
       "    <tr>\n",
       "      <th>2018-01-01 00:00:00</th>\n",
       "      <td>0.0</td>\n",
       "      <td>245.0</td>\n",
       "      <td>339.0</td>\n",
       "    </tr>\n",
       "    <tr>\n",
       "      <th>2018-01-01 01:00:00</th>\n",
       "      <td>0.0</td>\n",
       "      <td>264.0</td>\n",
       "      <td>347.0</td>\n",
       "    </tr>\n",
       "    <tr>\n",
       "      <th>2018-01-01 02:00:00</th>\n",
       "      <td>0.0</td>\n",
       "      <td>291.0</td>\n",
       "      <td>356.0</td>\n",
       "    </tr>\n",
       "    <tr>\n",
       "      <th>2018-01-01 03:00:00</th>\n",
       "      <td>0.0</td>\n",
       "      <td>300.0</td>\n",
       "      <td>363.0</td>\n",
       "    </tr>\n",
       "    <tr>\n",
       "      <th>2018-01-01 04:00:00</th>\n",
       "      <td>0.0</td>\n",
       "      <td>336.0</td>\n",
       "      <td>385.0</td>\n",
       "    </tr>\n",
       "  </tbody>\n",
       "</table>\n",
       "</div>"
      ],
      "text/plain": [
       "                     Solar  Wind Offshore  Wind Onshore\n",
       "Timestamp                                              \n",
       "2018-01-01 00:00:00    0.0          245.0         339.0\n",
       "2018-01-01 01:00:00    0.0          264.0         347.0\n",
       "2018-01-01 02:00:00    0.0          291.0         356.0\n",
       "2018-01-01 03:00:00    0.0          300.0         363.0\n",
       "2018-01-01 04:00:00    0.0          336.0         385.0"
      ]
     },
     "execution_count": 13,
     "metadata": {},
     "output_type": "execute_result"
    }
   ],
   "source": [
    "wind_solar_forecast.head()"
   ]
  },
  {
   "cell_type": "code",
   "execution_count": 14,
   "id": "01e251f9",
   "metadata": {},
   "outputs": [],
   "source": [
    "imports = data.Timestamp(files_names['imports'])"
   ]
  },
  {
   "cell_type": "code",
   "execution_count": 15,
   "id": "0a941766",
   "metadata": {},
   "outputs": [
    {
     "data": {
      "text/html": [
       "<div>\n",
       "<style scoped>\n",
       "    .dataframe tbody tr th:only-of-type {\n",
       "        vertical-align: middle;\n",
       "    }\n",
       "\n",
       "    .dataframe tbody tr th {\n",
       "        vertical-align: top;\n",
       "    }\n",
       "\n",
       "    .dataframe thead th {\n",
       "        text-align: right;\n",
       "    }\n",
       "</style>\n",
       "<table border=\"1\" class=\"dataframe\">\n",
       "  <thead>\n",
       "    <tr style=\"text-align: right;\">\n",
       "      <th></th>\n",
       "      <th>DE_AT_LU</th>\n",
       "      <th>DE_LU</th>\n",
       "      <th>DK_1</th>\n",
       "      <th>SE_4</th>\n",
       "    </tr>\n",
       "    <tr>\n",
       "      <th>Timestamp</th>\n",
       "      <th></th>\n",
       "      <th></th>\n",
       "      <th></th>\n",
       "      <th></th>\n",
       "    </tr>\n",
       "  </thead>\n",
       "  <tbody>\n",
       "    <tr>\n",
       "      <th>2018-01-01 00:00:00</th>\n",
       "      <td>600.0</td>\n",
       "      <td>NaN</td>\n",
       "      <td>585.0</td>\n",
       "      <td>0.0</td>\n",
       "    </tr>\n",
       "    <tr>\n",
       "      <th>2018-01-01 01:00:00</th>\n",
       "      <td>600.0</td>\n",
       "      <td>NaN</td>\n",
       "      <td>590.0</td>\n",
       "      <td>0.0</td>\n",
       "    </tr>\n",
       "    <tr>\n",
       "      <th>2018-01-01 02:00:00</th>\n",
       "      <td>600.0</td>\n",
       "      <td>NaN</td>\n",
       "      <td>476.0</td>\n",
       "      <td>0.0</td>\n",
       "    </tr>\n",
       "    <tr>\n",
       "      <th>2018-01-01 03:00:00</th>\n",
       "      <td>600.0</td>\n",
       "      <td>NaN</td>\n",
       "      <td>538.0</td>\n",
       "      <td>0.0</td>\n",
       "    </tr>\n",
       "    <tr>\n",
       "      <th>2018-01-01 04:00:00</th>\n",
       "      <td>600.0</td>\n",
       "      <td>NaN</td>\n",
       "      <td>520.0</td>\n",
       "      <td>0.0</td>\n",
       "    </tr>\n",
       "  </tbody>\n",
       "</table>\n",
       "</div>"
      ],
      "text/plain": [
       "                     DE_AT_LU  DE_LU   DK_1  SE_4\n",
       "Timestamp                                        \n",
       "2018-01-01 00:00:00     600.0    NaN  585.0   0.0\n",
       "2018-01-01 01:00:00     600.0    NaN  590.0   0.0\n",
       "2018-01-01 02:00:00     600.0    NaN  476.0   0.0\n",
       "2018-01-01 03:00:00     600.0    NaN  538.0   0.0\n",
       "2018-01-01 04:00:00     600.0    NaN  520.0   0.0"
      ]
     },
     "execution_count": 15,
     "metadata": {},
     "output_type": "execute_result"
    }
   ],
   "source": [
    "imports.head()"
   ]
  },
  {
   "cell_type": "code",
   "execution_count": null,
   "id": "814a9595",
   "metadata": {},
   "outputs": [],
   "source": [
    "exDELU = data.Timestamp(files_names['DE_LU'])\n",
    "exDK1 =  data.Timestamp(files_names['DK_1'])\n",
    "exSE4 =  data.Timestamp(files_names['SE_4'])"
   ]
  },
  {
   "cell_type": "code",
   "execution_count": null,
   "id": "bc3d44fa",
   "metadata": {
    "scrolled": true
   },
   "outputs": [],
   "source": [
    "exDELU.head()"
   ]
  },
  {
   "cell_type": "code",
   "execution_count": null,
   "id": "9305b593",
   "metadata": {},
   "outputs": [],
   "source": [
    "exDK1.head()"
   ]
  },
  {
   "cell_type": "code",
   "execution_count": null,
   "id": "c281a841",
   "metadata": {},
   "outputs": [],
   "source": [
    "exSE4.head()"
   ]
  },
  {
   "cell_type": "code",
   "execution_count": null,
   "id": "d9ca57be",
   "metadata": {},
   "outputs": [],
   "source": [
    "exDELU = Timestamp('Unnamed: 0', 1, exDELU)"
   ]
  },
  {
   "cell_type": "code",
   "execution_count": null,
   "id": "83893d18",
   "metadata": {},
   "outputs": [],
   "source": [
    "exDELU.head()"
   ]
  },
  {
   "cell_type": "code",
   "execution_count": null,
   "id": "6588f80a",
   "metadata": {},
   "outputs": [],
   "source": [
    "exSE4 = Timestamp('Unnamed: 0', 1, exSE4)"
   ]
  },
  {
   "cell_type": "code",
   "execution_count": null,
   "id": "274516bb",
   "metadata": {},
   "outputs": [],
   "source": [
    "exSE4.head()"
   ]
  },
  {
   "cell_type": "code",
   "execution_count": null,
   "id": "c1acad8a",
   "metadata": {},
   "outputs": [],
   "source": []
  }
 ],
 "metadata": {
  "kernelspec": {
   "display_name": "advba",
   "language": "python",
   "name": "advba"
  },
  "language_info": {
   "codemirror_mode": {
    "name": "ipython",
    "version": 3
   },
   "file_extension": ".py",
   "mimetype": "text/x-python",
   "name": "python",
   "nbconvert_exporter": "python",
   "pygments_lexer": "ipython3",
   "version": "3.10.6"
  }
 },
 "nbformat": 4,
 "nbformat_minor": 5
}

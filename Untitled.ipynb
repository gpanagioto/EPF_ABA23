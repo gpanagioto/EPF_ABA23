{
 "cells": [
  {
   "cell_type": "code",
   "execution_count": 1,
   "id": "ee7100b5",
   "metadata": {},
   "outputs": [],
   "source": [
    "import pandas as pd\n",
    "import datetime as dt\n",
    "from datetime import datetime, timezone\n",
    "import numpy as np\n",
    "import matplotlib.pyplot as plt\n",
    "#import seaborn as sns\n",
    "#from sklearn.decomposition import PCA\n",
    "#import xgboost as xg\n",
    "#from entsoe import EntsoePandasClient\n",
    "#from statsmodels.graphics import tsaplots\n",
    "import sys\n",
    "from merging import FindFile, Timestamp"
   ]
  },
  {
   "cell_type": "code",
   "execution_count": 2,
   "id": "42f5d964",
   "metadata": {},
   "outputs": [],
   "source": [
    "search_path = sys.path[0]\n",
    "# Specify the file name and search path\n",
    "files_names = {\"imports\":\"Imports.csv\",\n",
    "               \"DE_LU\":\"DE_LU_Exports.csv\",\n",
    "               \"DK_1\": \"DK_1_Exports.csv\",\n",
    "               \"SE_4\": \"SE_4_Exports.csv\",\n",
    "               \"Day_Ahead_Prices\":\"Day_Ahead_Prices.csv\",\n",
    "               \"Load_And_Forecast\":\"Load_And_Forecast.csv\",\n",
    "               \"Wind_Solar_Forecast\":\"Wind_Solar_Forecast.csv\"\n",
    "              }"
   ]
  },
  {
   "cell_type": "code",
   "execution_count": 5,
   "id": "5f90321a",
   "metadata": {},
   "outputs": [],
   "source": [
    "day_ahead_prices = pd.read_csv(FindFile(files_names['Day_Ahead_Prices'], search_path), header=0, names=['Timestamp','Prices'])"
   ]
  },
  {
   "cell_type": "code",
   "execution_count": 6,
   "id": "553c41c9",
   "metadata": {},
   "outputs": [],
   "source": [
    "load_and_forecast = pd.read_csv(FindFile(files_names['Load_And_Forecast'], search_path))"
   ]
  },
  {
   "cell_type": "code",
   "execution_count": 7,
   "id": "f72b9c2e",
   "metadata": {},
   "outputs": [
    {
     "data": {
      "text/html": [
       "<div>\n",
       "<style scoped>\n",
       "    .dataframe tbody tr th:only-of-type {\n",
       "        vertical-align: middle;\n",
       "    }\n",
       "\n",
       "    .dataframe tbody tr th {\n",
       "        vertical-align: top;\n",
       "    }\n",
       "\n",
       "    .dataframe thead th {\n",
       "        text-align: right;\n",
       "    }\n",
       "</style>\n",
       "<table border=\"1\" class=\"dataframe\">\n",
       "  <thead>\n",
       "    <tr style=\"text-align: right;\">\n",
       "      <th></th>\n",
       "      <th>Unnamed: 0</th>\n",
       "      <th>Forecasted Load</th>\n",
       "      <th>Actual Load</th>\n",
       "    </tr>\n",
       "  </thead>\n",
       "  <tbody>\n",
       "    <tr>\n",
       "      <th>0</th>\n",
       "      <td>2018-01-01 00:00:00+01:00</td>\n",
       "      <td>1591.0</td>\n",
       "      <td>1607.0</td>\n",
       "    </tr>\n",
       "    <tr>\n",
       "      <th>1</th>\n",
       "      <td>2018-01-01 01:00:00+01:00</td>\n",
       "      <td>1541.0</td>\n",
       "      <td>1566.0</td>\n",
       "    </tr>\n",
       "    <tr>\n",
       "      <th>2</th>\n",
       "      <td>2018-01-01 02:00:00+01:00</td>\n",
       "      <td>1497.0</td>\n",
       "      <td>1460.0</td>\n",
       "    </tr>\n",
       "    <tr>\n",
       "      <th>3</th>\n",
       "      <td>2018-01-01 03:00:00+01:00</td>\n",
       "      <td>1426.0</td>\n",
       "      <td>1424.0</td>\n",
       "    </tr>\n",
       "    <tr>\n",
       "      <th>4</th>\n",
       "      <td>2018-01-01 04:00:00+01:00</td>\n",
       "      <td>1378.0</td>\n",
       "      <td>1380.0</td>\n",
       "    </tr>\n",
       "  </tbody>\n",
       "</table>\n",
       "</div>"
      ],
      "text/plain": [
       "                  Unnamed: 0  Forecasted Load  Actual Load\n",
       "0  2018-01-01 00:00:00+01:00           1591.0       1607.0\n",
       "1  2018-01-01 01:00:00+01:00           1541.0       1566.0\n",
       "2  2018-01-01 02:00:00+01:00           1497.0       1460.0\n",
       "3  2018-01-01 03:00:00+01:00           1426.0       1424.0\n",
       "4  2018-01-01 04:00:00+01:00           1378.0       1380.0"
      ]
     },
     "execution_count": 7,
     "metadata": {},
     "output_type": "execute_result"
    }
   ],
   "source": [
    "load_and_forecast.head()"
   ]
  },
  {
   "cell_type": "code",
   "execution_count": 8,
   "id": "ac4db5f2",
   "metadata": {},
   "outputs": [],
   "source": [
    "wind_solar_forecast = pd.read_csv(FindFile(files_names['Wind_Solar_Forecast'], search_path))"
   ]
  },
  {
   "cell_type": "code",
   "execution_count": 9,
   "id": "3d85b700",
   "metadata": {},
   "outputs": [
    {
     "data": {
      "text/html": [
       "<div>\n",
       "<style scoped>\n",
       "    .dataframe tbody tr th:only-of-type {\n",
       "        vertical-align: middle;\n",
       "    }\n",
       "\n",
       "    .dataframe tbody tr th {\n",
       "        vertical-align: top;\n",
       "    }\n",
       "\n",
       "    .dataframe thead th {\n",
       "        text-align: right;\n",
       "    }\n",
       "</style>\n",
       "<table border=\"1\" class=\"dataframe\">\n",
       "  <thead>\n",
       "    <tr style=\"text-align: right;\">\n",
       "      <th></th>\n",
       "      <th>Unnamed: 0</th>\n",
       "      <th>Solar</th>\n",
       "      <th>Wind Offshore</th>\n",
       "      <th>Wind Onshore</th>\n",
       "    </tr>\n",
       "  </thead>\n",
       "  <tbody>\n",
       "    <tr>\n",
       "      <th>0</th>\n",
       "      <td>2018-01-01 00:00:00+01:00</td>\n",
       "      <td>0.0</td>\n",
       "      <td>245.0</td>\n",
       "      <td>339.0</td>\n",
       "    </tr>\n",
       "    <tr>\n",
       "      <th>1</th>\n",
       "      <td>2018-01-01 01:00:00+01:00</td>\n",
       "      <td>0.0</td>\n",
       "      <td>264.0</td>\n",
       "      <td>347.0</td>\n",
       "    </tr>\n",
       "    <tr>\n",
       "      <th>2</th>\n",
       "      <td>2018-01-01 02:00:00+01:00</td>\n",
       "      <td>0.0</td>\n",
       "      <td>291.0</td>\n",
       "      <td>356.0</td>\n",
       "    </tr>\n",
       "    <tr>\n",
       "      <th>3</th>\n",
       "      <td>2018-01-01 03:00:00+01:00</td>\n",
       "      <td>0.0</td>\n",
       "      <td>300.0</td>\n",
       "      <td>363.0</td>\n",
       "    </tr>\n",
       "    <tr>\n",
       "      <th>4</th>\n",
       "      <td>2018-01-01 04:00:00+01:00</td>\n",
       "      <td>0.0</td>\n",
       "      <td>336.0</td>\n",
       "      <td>385.0</td>\n",
       "    </tr>\n",
       "  </tbody>\n",
       "</table>\n",
       "</div>"
      ],
      "text/plain": [
       "                  Unnamed: 0  Solar  Wind Offshore  Wind Onshore\n",
       "0  2018-01-01 00:00:00+01:00    0.0          245.0         339.0\n",
       "1  2018-01-01 01:00:00+01:00    0.0          264.0         347.0\n",
       "2  2018-01-01 02:00:00+01:00    0.0          291.0         356.0\n",
       "3  2018-01-01 03:00:00+01:00    0.0          300.0         363.0\n",
       "4  2018-01-01 04:00:00+01:00    0.0          336.0         385.0"
      ]
     },
     "execution_count": 9,
     "metadata": {},
     "output_type": "execute_result"
    }
   ],
   "source": [
    "wind_solar_forecast.head()"
   ]
  },
  {
   "cell_type": "code",
   "execution_count": 10,
   "id": "d11d79aa",
   "metadata": {},
   "outputs": [],
   "source": [
    "imports = pd.read_csv(FindFile(files_names['imports'], search_path))"
   ]
  },
  {
   "cell_type": "code",
   "execution_count": 11,
   "id": "65c4649c",
   "metadata": {},
   "outputs": [
    {
     "data": {
      "text/html": [
       "<div>\n",
       "<style scoped>\n",
       "    .dataframe tbody tr th:only-of-type {\n",
       "        vertical-align: middle;\n",
       "    }\n",
       "\n",
       "    .dataframe tbody tr th {\n",
       "        vertical-align: top;\n",
       "    }\n",
       "\n",
       "    .dataframe thead th {\n",
       "        text-align: right;\n",
       "    }\n",
       "</style>\n",
       "<table border=\"1\" class=\"dataframe\">\n",
       "  <thead>\n",
       "    <tr style=\"text-align: right;\">\n",
       "      <th></th>\n",
       "      <th>Unnamed: 0</th>\n",
       "      <th>DE_AT_LU</th>\n",
       "      <th>DE_LU</th>\n",
       "      <th>DK_1</th>\n",
       "      <th>SE_4</th>\n",
       "    </tr>\n",
       "  </thead>\n",
       "  <tbody>\n",
       "    <tr>\n",
       "      <th>0</th>\n",
       "      <td>2018-01-01 00:00:00+01:00</td>\n",
       "      <td>600.0</td>\n",
       "      <td>NaN</td>\n",
       "      <td>585.0</td>\n",
       "      <td>0.0</td>\n",
       "    </tr>\n",
       "    <tr>\n",
       "      <th>1</th>\n",
       "      <td>2018-01-01 01:00:00+01:00</td>\n",
       "      <td>600.0</td>\n",
       "      <td>NaN</td>\n",
       "      <td>590.0</td>\n",
       "      <td>0.0</td>\n",
       "    </tr>\n",
       "    <tr>\n",
       "      <th>2</th>\n",
       "      <td>2018-01-01 02:00:00+01:00</td>\n",
       "      <td>600.0</td>\n",
       "      <td>NaN</td>\n",
       "      <td>476.0</td>\n",
       "      <td>0.0</td>\n",
       "    </tr>\n",
       "    <tr>\n",
       "      <th>3</th>\n",
       "      <td>2018-01-01 03:00:00+01:00</td>\n",
       "      <td>600.0</td>\n",
       "      <td>NaN</td>\n",
       "      <td>538.0</td>\n",
       "      <td>0.0</td>\n",
       "    </tr>\n",
       "    <tr>\n",
       "      <th>4</th>\n",
       "      <td>2018-01-01 04:00:00+01:00</td>\n",
       "      <td>600.0</td>\n",
       "      <td>NaN</td>\n",
       "      <td>520.0</td>\n",
       "      <td>0.0</td>\n",
       "    </tr>\n",
       "  </tbody>\n",
       "</table>\n",
       "</div>"
      ],
      "text/plain": [
       "                  Unnamed: 0  DE_AT_LU  DE_LU   DK_1  SE_4\n",
       "0  2018-01-01 00:00:00+01:00     600.0    NaN  585.0   0.0\n",
       "1  2018-01-01 01:00:00+01:00     600.0    NaN  590.0   0.0\n",
       "2  2018-01-01 02:00:00+01:00     600.0    NaN  476.0   0.0\n",
       "3  2018-01-01 03:00:00+01:00     600.0    NaN  538.0   0.0\n",
       "4  2018-01-01 04:00:00+01:00     600.0    NaN  520.0   0.0"
      ]
     },
     "execution_count": 11,
     "metadata": {},
     "output_type": "execute_result"
    }
   ],
   "source": [
    "imports.head()"
   ]
  },
  {
   "cell_type": "code",
   "execution_count": 12,
   "id": "6afd68ac",
   "metadata": {},
   "outputs": [],
   "source": [
    "exDELU = pd.read_csv(FindFile(files_names['DE_LU'], search_path))\n",
    "exDK1 =  pd.read_csv(FindFile(files_names['DK_1'], search_path),  header=0, names=['Timestamp','Quantity'])\n",
    "exSE4 =  pd.read_csv(FindFile(files_names['SE_4'], search_path))"
   ]
  },
  {
   "cell_type": "code",
   "execution_count": 13,
   "id": "83161468",
   "metadata": {
    "scrolled": true
   },
   "outputs": [
    {
     "data": {
      "text/html": [
       "<div>\n",
       "<style scoped>\n",
       "    .dataframe tbody tr th:only-of-type {\n",
       "        vertical-align: middle;\n",
       "    }\n",
       "\n",
       "    .dataframe tbody tr th {\n",
       "        vertical-align: top;\n",
       "    }\n",
       "\n",
       "    .dataframe thead th {\n",
       "        text-align: right;\n",
       "    }\n",
       "</style>\n",
       "<table border=\"1\" class=\"dataframe\">\n",
       "  <thead>\n",
       "    <tr style=\"text-align: right;\">\n",
       "      <th></th>\n",
       "      <th>Unnamed: 0</th>\n",
       "      <th>0</th>\n",
       "    </tr>\n",
       "  </thead>\n",
       "  <tbody>\n",
       "    <tr>\n",
       "      <th>0</th>\n",
       "      <td>2018-10-01 00:00:00+02:00</td>\n",
       "      <td>365.0</td>\n",
       "    </tr>\n",
       "    <tr>\n",
       "      <th>1</th>\n",
       "      <td>2018-10-01 01:00:00+02:00</td>\n",
       "      <td>538.0</td>\n",
       "    </tr>\n",
       "    <tr>\n",
       "      <th>2</th>\n",
       "      <td>2018-10-01 02:00:00+02:00</td>\n",
       "      <td>550.0</td>\n",
       "    </tr>\n",
       "    <tr>\n",
       "      <th>3</th>\n",
       "      <td>2018-10-01 03:00:00+02:00</td>\n",
       "      <td>584.0</td>\n",
       "    </tr>\n",
       "    <tr>\n",
       "      <th>4</th>\n",
       "      <td>2018-10-01 04:00:00+02:00</td>\n",
       "      <td>585.0</td>\n",
       "    </tr>\n",
       "  </tbody>\n",
       "</table>\n",
       "</div>"
      ],
      "text/plain": [
       "                  Unnamed: 0      0\n",
       "0  2018-10-01 00:00:00+02:00  365.0\n",
       "1  2018-10-01 01:00:00+02:00  538.0\n",
       "2  2018-10-01 02:00:00+02:00  550.0\n",
       "3  2018-10-01 03:00:00+02:00  584.0\n",
       "4  2018-10-01 04:00:00+02:00  585.0"
      ]
     },
     "execution_count": 13,
     "metadata": {},
     "output_type": "execute_result"
    }
   ],
   "source": [
    "exDELU.head()"
   ]
  },
  {
   "cell_type": "code",
   "execution_count": 14,
   "id": "d6e3551e",
   "metadata": {},
   "outputs": [
    {
     "data": {
      "text/html": [
       "<div>\n",
       "<style scoped>\n",
       "    .dataframe tbody tr th:only-of-type {\n",
       "        vertical-align: middle;\n",
       "    }\n",
       "\n",
       "    .dataframe tbody tr th {\n",
       "        vertical-align: top;\n",
       "    }\n",
       "\n",
       "    .dataframe thead th {\n",
       "        text-align: right;\n",
       "    }\n",
       "</style>\n",
       "<table border=\"1\" class=\"dataframe\">\n",
       "  <thead>\n",
       "    <tr style=\"text-align: right;\">\n",
       "      <th></th>\n",
       "      <th>Timestamp</th>\n",
       "      <th>Quantity</th>\n",
       "    </tr>\n",
       "  </thead>\n",
       "  <tbody>\n",
       "    <tr>\n",
       "      <th>0</th>\n",
       "      <td>2017-12-24 00:00:00+01:00</td>\n",
       "      <td>0.0</td>\n",
       "    </tr>\n",
       "    <tr>\n",
       "      <th>1</th>\n",
       "      <td>2017-12-24 01:00:00+01:00</td>\n",
       "      <td>0.0</td>\n",
       "    </tr>\n",
       "    <tr>\n",
       "      <th>2</th>\n",
       "      <td>2017-12-24 02:00:00+01:00</td>\n",
       "      <td>0.0</td>\n",
       "    </tr>\n",
       "    <tr>\n",
       "      <th>3</th>\n",
       "      <td>2017-12-24 03:00:00+01:00</td>\n",
       "      <td>0.0</td>\n",
       "    </tr>\n",
       "    <tr>\n",
       "      <th>4</th>\n",
       "      <td>2017-12-24 04:00:00+01:00</td>\n",
       "      <td>0.0</td>\n",
       "    </tr>\n",
       "  </tbody>\n",
       "</table>\n",
       "</div>"
      ],
      "text/plain": [
       "                   Timestamp  Quantity\n",
       "0  2017-12-24 00:00:00+01:00       0.0\n",
       "1  2017-12-24 01:00:00+01:00       0.0\n",
       "2  2017-12-24 02:00:00+01:00       0.0\n",
       "3  2017-12-24 03:00:00+01:00       0.0\n",
       "4  2017-12-24 04:00:00+01:00       0.0"
      ]
     },
     "execution_count": 14,
     "metadata": {},
     "output_type": "execute_result"
    }
   ],
   "source": [
    "exDK1.head()"
   ]
  },
  {
   "cell_type": "code",
   "execution_count": 15,
   "id": "eb675b79",
   "metadata": {},
   "outputs": [
    {
     "data": {
      "text/html": [
       "<div>\n",
       "<style scoped>\n",
       "    .dataframe tbody tr th:only-of-type {\n",
       "        vertical-align: middle;\n",
       "    }\n",
       "\n",
       "    .dataframe tbody tr th {\n",
       "        vertical-align: top;\n",
       "    }\n",
       "\n",
       "    .dataframe thead th {\n",
       "        text-align: right;\n",
       "    }\n",
       "</style>\n",
       "<table border=\"1\" class=\"dataframe\">\n",
       "  <thead>\n",
       "    <tr style=\"text-align: right;\">\n",
       "      <th></th>\n",
       "      <th>Unnamed: 0</th>\n",
       "      <th>0</th>\n",
       "    </tr>\n",
       "  </thead>\n",
       "  <tbody>\n",
       "    <tr>\n",
       "      <th>0</th>\n",
       "      <td>2017-12-24 00:00:00+01:00</td>\n",
       "      <td>535.0</td>\n",
       "    </tr>\n",
       "    <tr>\n",
       "      <th>1</th>\n",
       "      <td>2017-12-24 01:00:00+01:00</td>\n",
       "      <td>750.0</td>\n",
       "    </tr>\n",
       "    <tr>\n",
       "      <th>2</th>\n",
       "      <td>2017-12-24 02:00:00+01:00</td>\n",
       "      <td>831.0</td>\n",
       "    </tr>\n",
       "    <tr>\n",
       "      <th>3</th>\n",
       "      <td>2017-12-24 03:00:00+01:00</td>\n",
       "      <td>650.0</td>\n",
       "    </tr>\n",
       "    <tr>\n",
       "      <th>4</th>\n",
       "      <td>2017-12-24 04:00:00+01:00</td>\n",
       "      <td>457.0</td>\n",
       "    </tr>\n",
       "  </tbody>\n",
       "</table>\n",
       "</div>"
      ],
      "text/plain": [
       "                  Unnamed: 0      0\n",
       "0  2017-12-24 00:00:00+01:00  535.0\n",
       "1  2017-12-24 01:00:00+01:00  750.0\n",
       "2  2017-12-24 02:00:00+01:00  831.0\n",
       "3  2017-12-24 03:00:00+01:00  650.0\n",
       "4  2017-12-24 04:00:00+01:00  457.0"
      ]
     },
     "execution_count": 15,
     "metadata": {},
     "output_type": "execute_result"
    }
   ],
   "source": [
    "exSE4.head()"
   ]
  },
  {
   "cell_type": "code",
   "execution_count": 17,
   "id": "3070b804",
   "metadata": {},
   "outputs": [],
   "source": [
    "exDELU = Timestamp('Unnamed: 0', 1, exDELU)"
   ]
  },
  {
   "cell_type": "code",
   "execution_count": 18,
   "id": "9192d5df",
   "metadata": {},
   "outputs": [
    {
     "data": {
      "text/html": [
       "<div>\n",
       "<style scoped>\n",
       "    .dataframe tbody tr th:only-of-type {\n",
       "        vertical-align: middle;\n",
       "    }\n",
       "\n",
       "    .dataframe tbody tr th {\n",
       "        vertical-align: top;\n",
       "    }\n",
       "\n",
       "    .dataframe thead th {\n",
       "        text-align: right;\n",
       "    }\n",
       "</style>\n",
       "<table border=\"1\" class=\"dataframe\">\n",
       "  <thead>\n",
       "    <tr style=\"text-align: right;\">\n",
       "      <th></th>\n",
       "      <th>0</th>\n",
       "    </tr>\n",
       "    <tr>\n",
       "      <th>Timestamp</th>\n",
       "      <th></th>\n",
       "    </tr>\n",
       "  </thead>\n",
       "  <tbody>\n",
       "    <tr>\n",
       "      <th>2018-09-30 23:00:00</th>\n",
       "      <td>365.0</td>\n",
       "    </tr>\n",
       "    <tr>\n",
       "      <th>2018-10-01 00:00:00</th>\n",
       "      <td>538.0</td>\n",
       "    </tr>\n",
       "    <tr>\n",
       "      <th>2018-10-01 01:00:00</th>\n",
       "      <td>550.0</td>\n",
       "    </tr>\n",
       "    <tr>\n",
       "      <th>2018-10-01 02:00:00</th>\n",
       "      <td>584.0</td>\n",
       "    </tr>\n",
       "    <tr>\n",
       "      <th>2018-10-01 03:00:00</th>\n",
       "      <td>585.0</td>\n",
       "    </tr>\n",
       "  </tbody>\n",
       "</table>\n",
       "</div>"
      ],
      "text/plain": [
       "                         0\n",
       "Timestamp                 \n",
       "2018-09-30 23:00:00  365.0\n",
       "2018-10-01 00:00:00  538.0\n",
       "2018-10-01 01:00:00  550.0\n",
       "2018-10-01 02:00:00  584.0\n",
       "2018-10-01 03:00:00  585.0"
      ]
     },
     "execution_count": 18,
     "metadata": {},
     "output_type": "execute_result"
    }
   ],
   "source": [
    "exDELU.head()"
   ]
  },
  {
   "cell_type": "code",
   "execution_count": 19,
   "id": "9c3e179f",
   "metadata": {},
   "outputs": [],
   "source": [
    "exSE4 = Timestamp('Unnamed: 0', 1, exSE4)"
   ]
  },
  {
   "cell_type": "code",
   "execution_count": 20,
   "id": "53e31ec1",
   "metadata": {},
   "outputs": [
    {
     "data": {
      "text/html": [
       "<div>\n",
       "<style scoped>\n",
       "    .dataframe tbody tr th:only-of-type {\n",
       "        vertical-align: middle;\n",
       "    }\n",
       "\n",
       "    .dataframe tbody tr th {\n",
       "        vertical-align: top;\n",
       "    }\n",
       "\n",
       "    .dataframe thead th {\n",
       "        text-align: right;\n",
       "    }\n",
       "</style>\n",
       "<table border=\"1\" class=\"dataframe\">\n",
       "  <thead>\n",
       "    <tr style=\"text-align: right;\">\n",
       "      <th></th>\n",
       "      <th>0</th>\n",
       "    </tr>\n",
       "    <tr>\n",
       "      <th>Timestamp</th>\n",
       "      <th></th>\n",
       "    </tr>\n",
       "  </thead>\n",
       "  <tbody>\n",
       "    <tr>\n",
       "      <th>2017-12-24 00:00:00</th>\n",
       "      <td>535.0</td>\n",
       "    </tr>\n",
       "    <tr>\n",
       "      <th>2017-12-24 01:00:00</th>\n",
       "      <td>750.0</td>\n",
       "    </tr>\n",
       "    <tr>\n",
       "      <th>2017-12-24 02:00:00</th>\n",
       "      <td>831.0</td>\n",
       "    </tr>\n",
       "    <tr>\n",
       "      <th>2017-12-24 03:00:00</th>\n",
       "      <td>650.0</td>\n",
       "    </tr>\n",
       "    <tr>\n",
       "      <th>2017-12-24 04:00:00</th>\n",
       "      <td>457.0</td>\n",
       "    </tr>\n",
       "  </tbody>\n",
       "</table>\n",
       "</div>"
      ],
      "text/plain": [
       "                         0\n",
       "Timestamp                 \n",
       "2017-12-24 00:00:00  535.0\n",
       "2017-12-24 01:00:00  750.0\n",
       "2017-12-24 02:00:00  831.0\n",
       "2017-12-24 03:00:00  650.0\n",
       "2017-12-24 04:00:00  457.0"
      ]
     },
     "execution_count": 20,
     "metadata": {},
     "output_type": "execute_result"
    }
   ],
   "source": [
    "exSE4.head()"
   ]
  },
  {
   "cell_type": "code",
   "execution_count": null,
   "id": "3e6ebde4",
   "metadata": {},
   "outputs": [],
   "source": []
  }
 ],
 "metadata": {
  "kernelspec": {
   "display_name": "advba",
   "language": "python",
   "name": "advba"
  },
  "language_info": {
   "codemirror_mode": {
    "name": "ipython",
    "version": 3
   },
   "file_extension": ".py",
   "mimetype": "text/x-python",
   "name": "python",
   "nbconvert_exporter": "python",
   "pygments_lexer": "ipython3",
   "version": "3.10.6"
  }
 },
 "nbformat": 4,
 "nbformat_minor": 5
}
